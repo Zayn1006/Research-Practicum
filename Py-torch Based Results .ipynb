{
 "cells": [
  {
   "cell_type": "code",
   "execution_count": 1,
   "id": "37272483-3972-42d2-9bcd-fdd420b9909e",
   "metadata": {
    "tags": []
   },
   "outputs": [
    {
     "name": "stdout",
     "output_type": "stream",
     "text": [
      "Cloning into 'GNN-SubNet'...\n",
      "remote: Enumerating objects: 74465, done.\u001b[K\n",
      "remote: Counting objects: 100% (594/594), done.\u001b[K\n",
      "remote: Compressing objects: 100% (270/270), done.\u001b[K\n",
      "remote: Total 74465 (delta 318), reused 571 (delta 296), pack-reused 73871\u001b[K\n",
      "Receiving objects: 100% (74465/74465), 58.86 MiB | 10.90 MiB/s, done.\n",
      "Resolving deltas: 100% (4879/4879), done.\n"
     ]
    }
   ],
   "source": [
    "!git clone https://github.com/pievos101/GNN-SubNet.git"
   ]
  },
  {
   "cell_type": "code",
   "execution_count": 1,
   "id": "c9c112d0-e93f-49c8-bda5-002d7545fdab",
   "metadata": {
    "tags": []
   },
   "outputs": [
    {
     "name": "stdout",
     "output_type": "stream",
     "text": [
      "currant path： /Users/jasonliu\n",
      "change path to： /Users/jasonliu/GNN-SubNet\n"
     ]
    }
   ],
   "source": [
    "import os\n",
    "print(\"currant path：\", os.getcwd())\n",
    "new_directory = '/Users/jasonliu/GNN-SubNet' \n",
    "os.chdir(new_directory)\n",
    "print(\"change path to：\", os.getcwd())\n"
   ]
  },
  {
   "cell_type": "code",
   "execution_count": 2,
   "id": "ad82fd0e-c793-4750-b2af-f4c17da3edb3",
   "metadata": {
    "tags": []
   },
   "outputs": [
    {
     "name": "stdout",
     "output_type": "stream",
     "text": [
      "Requirement already satisfied: GNNSubNet in /Users/jasonliu/anaconda3/lib/python3.11/site-packages (0.2.1)\n",
      "Requirement already satisfied: dgl in /Users/jasonliu/anaconda3/lib/python3.11/site-packages (from GNNSubNet) (1.1.2.post1)\n",
      "Requirement already satisfied: igraph in /Users/jasonliu/anaconda3/lib/python3.11/site-packages (from GNNSubNet) (0.11.3)\n",
      "Requirement already satisfied: matplotlib in /Users/jasonliu/anaconda3/lib/python3.11/site-packages (from GNNSubNet) (3.8.2)\n",
      "Requirement already satisfied: networkx in /Users/jasonliu/anaconda3/lib/python3.11/site-packages (from GNNSubNet) (3.2.1)\n",
      "Requirement already satisfied: numpy in /Users/jasonliu/anaconda3/lib/python3.11/site-packages (from GNNSubNet) (1.26.4)\n",
      "Requirement already satisfied: pandas in /Users/jasonliu/anaconda3/lib/python3.11/site-packages (from GNNSubNet) (2.2.0)\n",
      "Requirement already satisfied: requests in /Users/jasonliu/anaconda3/lib/python3.11/site-packages (from GNNSubNet) (2.31.0)\n",
      "Requirement already satisfied: scikit-learn in /Users/jasonliu/anaconda3/lib/python3.11/site-packages (from GNNSubNet) (1.4.0)\n",
      "Requirement already satisfied: scipy in /Users/jasonliu/anaconda3/lib/python3.11/site-packages (from GNNSubNet) (1.12.0)\n",
      "Requirement already satisfied: torch in /Users/jasonliu/anaconda3/lib/python3.11/site-packages (from GNNSubNet) (2.2.1)\n",
      "Requirement already satisfied: torch-geometric in /Users/jasonliu/anaconda3/lib/python3.11/site-packages (from GNNSubNet) (2.5.2)\n",
      "Requirement already satisfied: torch-scatter in /Users/jasonliu/anaconda3/lib/python3.11/site-packages (from GNNSubNet) (2.1.2)\n",
      "Requirement already satisfied: torch-sparse in /Users/jasonliu/anaconda3/lib/python3.11/site-packages (from GNNSubNet) (0.6.18)\n",
      "Requirement already satisfied: torchvision in /Users/jasonliu/anaconda3/lib/python3.11/site-packages (from GNNSubNet) (0.17.1)\n",
      "Requirement already satisfied: tqdm in /Users/jasonliu/anaconda3/lib/python3.11/site-packages (from GNNSubNet) (4.66.2)\n",
      "Requirement already satisfied: wheel in /Users/jasonliu/anaconda3/lib/python3.11/site-packages (from GNNSubNet) (0.38.4)\n",
      "Requirement already satisfied: psutil>=5.8.0 in /Users/jasonliu/anaconda3/lib/python3.11/site-packages (from dgl->GNNSubNet) (5.9.0)\n",
      "Requirement already satisfied: charset-normalizer<4,>=2 in /Users/jasonliu/anaconda3/lib/python3.11/site-packages (from requests->GNNSubNet) (2.0.4)\n",
      "Requirement already satisfied: idna<4,>=2.5 in /Users/jasonliu/anaconda3/lib/python3.11/site-packages (from requests->GNNSubNet) (3.4)\n",
      "Requirement already satisfied: urllib3<3,>=1.21.1 in /Users/jasonliu/anaconda3/lib/python3.11/site-packages (from requests->GNNSubNet) (1.26.16)\n",
      "Requirement already satisfied: certifi>=2017.4.17 in /Users/jasonliu/anaconda3/lib/python3.11/site-packages (from requests->GNNSubNet) (2023.7.22)\n",
      "Requirement already satisfied: texttable>=1.6.2 in /Users/jasonliu/anaconda3/lib/python3.11/site-packages (from igraph->GNNSubNet) (1.7.0)\n",
      "Requirement already satisfied: contourpy>=1.0.1 in /Users/jasonliu/anaconda3/lib/python3.11/site-packages (from matplotlib->GNNSubNet) (1.0.5)\n",
      "Requirement already satisfied: cycler>=0.10 in /Users/jasonliu/anaconda3/lib/python3.11/site-packages (from matplotlib->GNNSubNet) (0.11.0)\n",
      "Requirement already satisfied: fonttools>=4.22.0 in /Users/jasonliu/anaconda3/lib/python3.11/site-packages (from matplotlib->GNNSubNet) (4.25.0)\n",
      "Requirement already satisfied: kiwisolver>=1.3.1 in /Users/jasonliu/anaconda3/lib/python3.11/site-packages (from matplotlib->GNNSubNet) (1.4.4)\n",
      "Requirement already satisfied: packaging>=20.0 in /Users/jasonliu/anaconda3/lib/python3.11/site-packages (from matplotlib->GNNSubNet) (23.1)\n",
      "Requirement already satisfied: pillow>=8 in /Users/jasonliu/anaconda3/lib/python3.11/site-packages (from matplotlib->GNNSubNet) (9.4.0)\n",
      "Requirement already satisfied: pyparsing>=2.3.1 in /Users/jasonliu/anaconda3/lib/python3.11/site-packages (from matplotlib->GNNSubNet) (3.0.9)\n",
      "Requirement already satisfied: python-dateutil>=2.7 in /Users/jasonliu/anaconda3/lib/python3.11/site-packages (from matplotlib->GNNSubNet) (2.8.2)\n",
      "Requirement already satisfied: pytz>=2020.1 in /Users/jasonliu/anaconda3/lib/python3.11/site-packages (from pandas->GNNSubNet) (2023.3.post1)\n",
      "Requirement already satisfied: tzdata>=2022.7 in /Users/jasonliu/anaconda3/lib/python3.11/site-packages (from pandas->GNNSubNet) (2023.3)\n",
      "Requirement already satisfied: joblib>=1.2.0 in /Users/jasonliu/anaconda3/lib/python3.11/site-packages (from scikit-learn->GNNSubNet) (1.2.0)\n",
      "Requirement already satisfied: threadpoolctl>=2.0.0 in /Users/jasonliu/anaconda3/lib/python3.11/site-packages (from scikit-learn->GNNSubNet) (2.2.0)\n",
      "Requirement already satisfied: filelock in /Users/jasonliu/anaconda3/lib/python3.11/site-packages (from torch->GNNSubNet) (3.9.0)\n",
      "Requirement already satisfied: typing-extensions>=4.8.0 in /Users/jasonliu/anaconda3/lib/python3.11/site-packages (from torch->GNNSubNet) (4.9.0)\n",
      "Requirement already satisfied: sympy in /Users/jasonliu/anaconda3/lib/python3.11/site-packages (from torch->GNNSubNet) (1.11.1)\n",
      "Requirement already satisfied: jinja2 in /Users/jasonliu/anaconda3/lib/python3.11/site-packages (from torch->GNNSubNet) (3.1.2)\n",
      "Requirement already satisfied: fsspec in /Users/jasonliu/anaconda3/lib/python3.11/site-packages (from torch->GNNSubNet) (2023.4.0)\n",
      "Requirement already satisfied: aiohttp in /Users/jasonliu/anaconda3/lib/python3.11/site-packages (from torch-geometric->GNNSubNet) (3.8.5)\n",
      "Requirement already satisfied: six>=1.5 in /Users/jasonliu/anaconda3/lib/python3.11/site-packages (from python-dateutil>=2.7->matplotlib->GNNSubNet) (1.16.0)\n",
      "Requirement already satisfied: attrs>=17.3.0 in /Users/jasonliu/anaconda3/lib/python3.11/site-packages (from aiohttp->torch-geometric->GNNSubNet) (22.1.0)\n",
      "Requirement already satisfied: multidict<7.0,>=4.5 in /Users/jasonliu/anaconda3/lib/python3.11/site-packages (from aiohttp->torch-geometric->GNNSubNet) (6.0.2)\n",
      "Requirement already satisfied: async-timeout<5.0,>=4.0.0a3 in /Users/jasonliu/anaconda3/lib/python3.11/site-packages (from aiohttp->torch-geometric->GNNSubNet) (4.0.2)\n",
      "Requirement already satisfied: yarl<2.0,>=1.0 in /Users/jasonliu/anaconda3/lib/python3.11/site-packages (from aiohttp->torch-geometric->GNNSubNet) (1.8.1)\n",
      "Requirement already satisfied: frozenlist>=1.1.1 in /Users/jasonliu/anaconda3/lib/python3.11/site-packages (from aiohttp->torch-geometric->GNNSubNet) (1.3.3)\n",
      "Requirement already satisfied: aiosignal>=1.1.2 in /Users/jasonliu/anaconda3/lib/python3.11/site-packages (from aiohttp->torch-geometric->GNNSubNet) (1.2.0)\n",
      "Requirement already satisfied: MarkupSafe>=2.0 in /Users/jasonliu/anaconda3/lib/python3.11/site-packages (from jinja2->torch->GNNSubNet) (2.1.1)\n",
      "Requirement already satisfied: mpmath>=0.19 in /Users/jasonliu/anaconda3/lib/python3.11/site-packages (from sympy->torch->GNNSubNet) (1.3.0)\n"
     ]
    }
   ],
   "source": [
    "!pip install GNNSubNet"
   ]
  },
  {
   "cell_type": "code",
   "execution_count": 2,
   "id": "db3744f1-bf66-4fc8-8477-bb8d50327d7e",
   "metadata": {
    "tags": []
   },
   "outputs": [
    {
     "name": "stderr",
     "output_type": "stream",
     "text": [
      "/Users/jasonliu/anaconda3/lib/python3.11/site-packages/torch_geometric/typing.py:72: UserWarning: An issue occurred while importing 'torch-scatter'. Disabling its usage. Stacktrace: dlopen(/Users/jasonliu/anaconda3/lib/python3.11/site-packages/torch_scatter/_version_cpu.so, 0x0006): Symbol not found: __ZN3c1017RegisterOperatorsD1Ev\n",
      "  Referenced from: <6A7FD81D-C165-3B48-BBD3-EAC4FC9B36DD> /Users/jasonliu/anaconda3/lib/python3.11/site-packages/torch_scatter/_version_cpu.so\n",
      "  Expected in:     <ED5B7495-D9A3-3875-A01B-C86976E4F5BB> /Users/jasonliu/anaconda3/lib/python3.11/site-packages/torch/lib/libtorch_cpu.dylib\n",
      "  warnings.warn(f\"An issue occurred while importing 'torch-scatter'. \"\n",
      "/Users/jasonliu/anaconda3/lib/python3.11/site-packages/torch_geometric/typing.py:110: UserWarning: An issue occurred while importing 'torch-sparse'. Disabling its usage. Stacktrace: dlopen(/Users/jasonliu/anaconda3/lib/python3.11/site-packages/torch_sparse/_convert_cpu.so, 0x0006): Symbol not found: __ZN2at8internal15invoke_parallelExxxRKNSt3__18functionIFvxxEEE\n",
      "  Referenced from: <2233A9B5-6795-37E7-91E9-A254735A1B30> /Users/jasonliu/anaconda3/lib/python3.11/site-packages/torch_sparse/_convert_cpu.so\n",
      "  Expected in:     <ED5B7495-D9A3-3875-A01B-C86976E4F5BB> /Users/jasonliu/anaconda3/lib/python3.11/site-packages/torch/lib/libtorch_cpu.dylib\n",
      "  warnings.warn(f\"An issue occurred while importing 'torch-sparse'. \"\n",
      "2024-05-09 00:10:18.498539: I tensorflow/core/platform/cpu_feature_guard.cc:210] This TensorFlow binary is optimized to use available CPU instructions in performance-critical operations.\n",
      "To enable the following instructions: AVX2 FMA, in other operations, rebuild TensorFlow with the appropriate compiler flags.\n"
     ]
    }
   ],
   "source": [
    "from GNNSubNet import GNNSubNet as gnn"
   ]
  },
  {
   "cell_type": "code",
   "execution_count": 3,
   "id": "930468b1-6f5a-463e-8d35-e19b215bd7ee",
   "metadata": {
    "tags": []
   },
   "outputs": [
    {
     "name": "stdout",
     "output_type": "stream",
     "text": [
      "Graph is connected  False\n",
      "Calculate subgraph ...\n",
      "Number of subgraphs:  118\n",
      "Size of subgraph:  2049\n",
      "Graph is connected  True\n",
      "##################\n",
      "# DATASET LOADED #\n",
      "##################\n",
      "No existing model. Creating a new Sequential.\n",
      "chebconv for training ...\n",
      "Graphs class 0: 200, Graphs class 1: 306\n",
      "Length of balanced dataset list: 400\n",
      "Train graph class 0: 164, train graph class 1: 156\n",
      "Validation graph class 0: 36, validation graph class 1: 44\n"
     ]
    },
    {
     "name": "stderr",
     "output_type": "stream",
     "text": [
      "100%|██████████| 35/35 [00:04<00:00,  7.91batch/s]\n"
     ]
    },
    {
     "name": "stdout",
     "output_type": "stream",
     "text": [
      "Epoch 0, loss 0.9344\n",
      "Train Acc 0.7781\n",
      "Epoch 0, val_loss 0.4522\n",
      "Saving best model with validation loss 0.4522474706172943\n"
     ]
    },
    {
     "name": "stderr",
     "output_type": "stream",
     "text": [
      "100%|██████████| 35/35 [00:05<00:00,  6.53batch/s]\n"
     ]
    },
    {
     "name": "stdout",
     "output_type": "stream",
     "text": [
      "Epoch 1, loss 0.4224\n",
      "Train Acc 0.8531\n",
      "Epoch 1, val_loss 0.3581\n",
      "Saving best model with validation loss 0.3580806851387024\n"
     ]
    },
    {
     "name": "stderr",
     "output_type": "stream",
     "text": [
      "100%|██████████| 35/35 [00:06<00:00,  5.69batch/s]\n"
     ]
    },
    {
     "name": "stdout",
     "output_type": "stream",
     "text": [
      "Epoch 2, loss 0.4405\n",
      "Train Acc 0.8562\n",
      "Epoch 2, val_loss 0.3388\n",
      "Saving best model with validation loss 0.3387865722179413\n"
     ]
    },
    {
     "name": "stderr",
     "output_type": "stream",
     "text": [
      "100%|██████████| 35/35 [00:05<00:00,  6.14batch/s]\n"
     ]
    },
    {
     "name": "stdout",
     "output_type": "stream",
     "text": [
      "Epoch 3, loss 0.3977\n",
      "Train Acc 0.8531\n",
      "Epoch 3, val_loss 0.3277\n",
      "Saving best model with validation loss 0.3277132213115692\n"
     ]
    },
    {
     "name": "stderr",
     "output_type": "stream",
     "text": [
      "100%|██████████| 35/35 [00:05<00:00,  6.42batch/s]\n"
     ]
    },
    {
     "name": "stdout",
     "output_type": "stream",
     "text": [
      "Epoch 4, loss 0.3999\n",
      "Train Acc 0.8625\n",
      "Epoch 4, val_loss 0.3192\n",
      "Saving best model with validation loss 0.3192359507083893\n"
     ]
    },
    {
     "name": "stderr",
     "output_type": "stream",
     "text": [
      "100%|██████████| 35/35 [00:05<00:00,  6.95batch/s]\n"
     ]
    },
    {
     "name": "stdout",
     "output_type": "stream",
     "text": [
      "Epoch 5, loss 0.3765\n",
      "Train Acc 0.8531\n",
      "Epoch 5, val_loss 0.3088\n",
      "Saving best model with validation loss 0.3088427186012268\n"
     ]
    },
    {
     "name": "stderr",
     "output_type": "stream",
     "text": [
      "100%|██████████| 35/35 [00:05<00:00,  6.25batch/s]\n"
     ]
    },
    {
     "name": "stdout",
     "output_type": "stream",
     "text": [
      "Epoch 6, loss 0.3734\n",
      "Train Acc 0.8250\n",
      "Epoch 6, val_loss 0.3714\n"
     ]
    },
    {
     "name": "stderr",
     "output_type": "stream",
     "text": [
      "100%|██████████| 35/35 [00:05<00:00,  6.62batch/s]\n"
     ]
    },
    {
     "name": "stdout",
     "output_type": "stream",
     "text": [
      "Epoch 7, loss 0.4260\n",
      "Train Acc 0.6156\n",
      "Epoch 7, val_loss 0.5060\n"
     ]
    },
    {
     "name": "stderr",
     "output_type": "stream",
     "text": [
      "100%|██████████| 35/35 [00:04<00:00,  7.37batch/s]\n"
     ]
    },
    {
     "name": "stdout",
     "output_type": "stream",
     "text": [
      "Epoch 8, loss 0.3898\n",
      "Train Acc 0.8594\n",
      "Epoch 8, val_loss 0.2957\n",
      "Saving best model with validation loss 0.2956502437591553\n"
     ]
    },
    {
     "name": "stderr",
     "output_type": "stream",
     "text": [
      "100%|██████████| 35/35 [00:05<00:00,  6.58batch/s]\n"
     ]
    },
    {
     "name": "stdout",
     "output_type": "stream",
     "text": [
      "Epoch 9, loss 0.3783\n",
      "Train Acc 0.8625\n",
      "Epoch 9, val_loss 0.2918\n",
      "Saving best model with validation loss 0.2917662262916565\n"
     ]
    },
    {
     "name": "stderr",
     "output_type": "stream",
     "text": [
      "100%|██████████| 35/35 [00:06<00:00,  5.78batch/s]\n"
     ]
    },
    {
     "name": "stdout",
     "output_type": "stream",
     "text": [
      "Epoch 10, loss 0.3606\n",
      "Train Acc 0.7625\n",
      "Epoch 10, val_loss 0.4119\n"
     ]
    },
    {
     "name": "stderr",
     "output_type": "stream",
     "text": [
      "100%|██████████| 35/35 [00:05<00:00,  6.91batch/s]\n"
     ]
    },
    {
     "name": "stdout",
     "output_type": "stream",
     "text": [
      "Epoch 11, loss 0.4224\n",
      "Train Acc 0.8531\n",
      "Epoch 11, val_loss 0.3845\n"
     ]
    },
    {
     "name": "stderr",
     "output_type": "stream",
     "text": [
      "100%|██████████| 35/35 [00:05<00:00,  6.88batch/s]\n"
     ]
    },
    {
     "name": "stdout",
     "output_type": "stream",
     "text": [
      "Epoch 12, loss 0.3699\n",
      "Train Acc 0.8625\n",
      "Epoch 12, val_loss 0.2968\n"
     ]
    },
    {
     "name": "stderr",
     "output_type": "stream",
     "text": [
      "100%|██████████| 35/35 [00:05<00:00,  6.23batch/s]\n"
     ]
    },
    {
     "name": "stdout",
     "output_type": "stream",
     "text": [
      "Epoch 13, loss 0.3711\n",
      "Train Acc 0.8625\n",
      "Epoch 13, val_loss 0.2895\n",
      "Saving best model with validation loss 0.28948646783828735\n"
     ]
    },
    {
     "name": "stderr",
     "output_type": "stream",
     "text": [
      "100%|██████████| 35/35 [00:06<00:00,  5.48batch/s]\n"
     ]
    },
    {
     "name": "stdout",
     "output_type": "stream",
     "text": [
      "Epoch 14, loss 0.4294\n",
      "Train Acc 0.6562\n",
      "Epoch 14, val_loss 0.5037\n"
     ]
    },
    {
     "name": "stderr",
     "output_type": "stream",
     "text": [
      "100%|██████████| 35/35 [00:05<00:00,  6.61batch/s]\n"
     ]
    },
    {
     "name": "stdout",
     "output_type": "stream",
     "text": [
      "Epoch 15, loss 0.3671\n",
      "Train Acc 0.8500\n",
      "Epoch 15, val_loss 0.3078\n"
     ]
    },
    {
     "name": "stderr",
     "output_type": "stream",
     "text": [
      "100%|██████████| 35/35 [00:04<00:00,  7.20batch/s]\n"
     ]
    },
    {
     "name": "stdout",
     "output_type": "stream",
     "text": [
      "Epoch 16, loss 0.3570\n",
      "Train Acc 0.8469\n",
      "Epoch 16, val_loss 0.3153\n"
     ]
    },
    {
     "name": "stderr",
     "output_type": "stream",
     "text": [
      "100%|██████████| 35/35 [00:04<00:00,  7.32batch/s]\n"
     ]
    },
    {
     "name": "stdout",
     "output_type": "stream",
     "text": [
      "Epoch 17, loss 0.4000\n",
      "Train Acc 0.6937\n",
      "Epoch 17, val_loss 0.4854\n"
     ]
    },
    {
     "name": "stderr",
     "output_type": "stream",
     "text": [
      "100%|██████████| 35/35 [00:04<00:00,  7.00batch/s]\n"
     ]
    },
    {
     "name": "stdout",
     "output_type": "stream",
     "text": [
      "Epoch 18, loss 0.4091\n",
      "Train Acc 0.8625\n",
      "Epoch 18, val_loss 0.2921\n"
     ]
    },
    {
     "name": "stderr",
     "output_type": "stream",
     "text": [
      "100%|██████████| 35/35 [00:05<00:00,  6.75batch/s]\n"
     ]
    },
    {
     "name": "stdout",
     "output_type": "stream",
     "text": [
      "Epoch 19, loss 0.3587\n",
      "Train Acc 0.8625\n",
      "Epoch 19, val_loss 0.2905\n",
      "\n",
      "Confusion matrix (Validation set):\n",
      "\n",
      "[[29  7]\n",
      " [ 0 44]]\n",
      "Validation accuracy: 0.9027777777777778\n"
     ]
    }
   ],
   "source": [
    "#Add in the frount\n",
    "\n",
    "# location of the files\n",
    "loc   = \"/Users/jasonliu/GNN-SubNet/TCGA\"\n",
    "# PPI network\n",
    "ppi   = f'{loc}/KIDNEY_RANDOM_PPI.txt'\n",
    "# single-omic features\n",
    "#feats = [f'{loc}/KIDNEY_RANDOM_Methy_FEATURES.txt']\n",
    "# multi-omic features\n",
    "feats = [f'{loc}/KIDNEY_RANDOM_mRNA_FEATURES.txt', f'{loc}/KIDNEY_RANDOM_Methy_FEATURES.txt']\n",
    "# outcome class\n",
    "targ  = f'{loc}/KIDNEY_RANDOM_TARGET.txt'\n",
    "\n",
    "# Load the multi-omics data \n",
    "g = gnn.GNNSubNet(loc, ppi, feats, targ, random_seed=42)\n",
    "\n",
    "# Train the GNN classifier and validate performance on a test set with Attention mechanism\n",
    "g.train(method=\"chebconv\", use_attention=True)"
   ]
  },
  {
   "cell_type": "code",
   "execution_count": 4,
   "id": "c4d4770f-dff2-42ba-8d4b-68d6ea7796f6",
   "metadata": {
    "tags": []
   },
   "outputs": [
    {
     "name": "stdout",
     "output_type": "stream",
     "text": [
      "Graph is connected  False\n",
      "Calculate subgraph ...\n",
      "Number of subgraphs:  118\n",
      "Size of subgraph:  2049\n",
      "Graph is connected  True\n",
      "##################\n",
      "# DATASET LOADED #\n",
      "##################\n",
      "chebconv for training ...\n",
      "Graphs class 0: 200, Graphs class 1: 306\n",
      "Length of balanced dataset list: 400\n",
      "Train graph class 0: 164, train graph class 1: 156\n",
      "Validation graph class 0: 36, validation graph class 1: 44\n"
     ]
    },
    {
     "name": "stderr",
     "output_type": "stream",
     "text": [
      "100%|██████████| 35/35 [00:04<00:00,  7.95batch/s]\n"
     ]
    },
    {
     "name": "stdout",
     "output_type": "stream",
     "text": [
      "Epoch 0, loss 0.5096\n",
      "Train Acc 0.8531\n",
      "Epoch 0, val_loss 0.3742\n",
      "Saving best model with validation loss 0.3742498755455017\n"
     ]
    },
    {
     "name": "stderr",
     "output_type": "stream",
     "text": [
      "100%|██████████| 35/35 [00:05<00:00,  6.51batch/s]\n"
     ]
    },
    {
     "name": "stdout",
     "output_type": "stream",
     "text": [
      "Epoch 1, loss 0.4248\n",
      "Train Acc 0.8562\n",
      "Epoch 1, val_loss 0.3428\n",
      "Saving best model with validation loss 0.342833936214447\n"
     ]
    },
    {
     "name": "stderr",
     "output_type": "stream",
     "text": [
      "100%|██████████| 35/35 [00:05<00:00,  6.79batch/s]\n"
     ]
    },
    {
     "name": "stdout",
     "output_type": "stream",
     "text": [
      "Epoch 2, loss 0.4139\n",
      "Train Acc 0.8562\n",
      "Epoch 2, val_loss 0.3182\n",
      "Saving best model with validation loss 0.31818050146102905\n"
     ]
    },
    {
     "name": "stderr",
     "output_type": "stream",
     "text": [
      "100%|██████████| 35/35 [00:05<00:00,  6.92batch/s]\n"
     ]
    },
    {
     "name": "stdout",
     "output_type": "stream",
     "text": [
      "Epoch 3, loss 0.3952\n",
      "Train Acc 0.8469\n",
      "Epoch 3, val_loss 0.3244\n"
     ]
    },
    {
     "name": "stderr",
     "output_type": "stream",
     "text": [
      "100%|██████████| 35/35 [00:05<00:00,  6.28batch/s]\n"
     ]
    },
    {
     "name": "stdout",
     "output_type": "stream",
     "text": [
      "Epoch 4, loss 0.4174\n",
      "Train Acc 0.8562\n",
      "Epoch 4, val_loss 0.3038\n",
      "Saving best model with validation loss 0.30383455753326416\n"
     ]
    },
    {
     "name": "stderr",
     "output_type": "stream",
     "text": [
      "100%|██████████| 35/35 [00:05<00:00,  6.31batch/s]\n"
     ]
    },
    {
     "name": "stdout",
     "output_type": "stream",
     "text": [
      "Epoch 5, loss 0.3824\n",
      "Train Acc 0.7937\n",
      "Epoch 5, val_loss 0.3504\n"
     ]
    },
    {
     "name": "stderr",
     "output_type": "stream",
     "text": [
      "100%|██████████| 35/35 [00:04<00:00,  7.49batch/s]\n"
     ]
    },
    {
     "name": "stdout",
     "output_type": "stream",
     "text": [
      "Epoch 6, loss 0.3873\n",
      "Train Acc 0.8406\n",
      "Epoch 6, val_loss 0.3121\n"
     ]
    },
    {
     "name": "stderr",
     "output_type": "stream",
     "text": [
      "100%|██████████| 35/35 [00:05<00:00,  6.87batch/s]\n"
     ]
    },
    {
     "name": "stdout",
     "output_type": "stream",
     "text": [
      "Epoch 7, loss 0.4394\n",
      "Train Acc 0.8531\n",
      "Epoch 7, val_loss 0.2983\n",
      "Saving best model with validation loss 0.29834574460983276\n"
     ]
    },
    {
     "name": "stderr",
     "output_type": "stream",
     "text": [
      "100%|██████████| 35/35 [00:05<00:00,  6.71batch/s]\n"
     ]
    },
    {
     "name": "stdout",
     "output_type": "stream",
     "text": [
      "Epoch 8, loss 0.4031\n",
      "Train Acc 0.8500\n",
      "Epoch 8, val_loss 0.3274\n"
     ]
    },
    {
     "name": "stderr",
     "output_type": "stream",
     "text": [
      "100%|██████████| 35/35 [00:05<00:00,  6.96batch/s]\n"
     ]
    },
    {
     "name": "stdout",
     "output_type": "stream",
     "text": [
      "Epoch 9, loss 0.4066\n",
      "Train Acc 0.8594\n",
      "Epoch 9, val_loss 0.3144\n"
     ]
    },
    {
     "name": "stderr",
     "output_type": "stream",
     "text": [
      "100%|██████████| 35/35 [00:04<00:00,  7.22batch/s]\n"
     ]
    },
    {
     "name": "stdout",
     "output_type": "stream",
     "text": [
      "Epoch 10, loss 0.3877\n",
      "Train Acc 0.8031\n",
      "Epoch 10, val_loss 0.3797\n"
     ]
    },
    {
     "name": "stderr",
     "output_type": "stream",
     "text": [
      "100%|██████████| 35/35 [00:05<00:00,  6.69batch/s]\n"
     ]
    },
    {
     "name": "stdout",
     "output_type": "stream",
     "text": [
      "Epoch 11, loss 0.3944\n",
      "Train Acc 0.8406\n",
      "Epoch 11, val_loss 0.3329\n"
     ]
    },
    {
     "name": "stderr",
     "output_type": "stream",
     "text": [
      "100%|██████████| 35/35 [00:05<00:00,  6.88batch/s]\n"
     ]
    },
    {
     "name": "stdout",
     "output_type": "stream",
     "text": [
      "Epoch 12, loss 0.3447\n",
      "Train Acc 0.8531\n",
      "Epoch 12, val_loss 0.3111\n"
     ]
    },
    {
     "name": "stderr",
     "output_type": "stream",
     "text": [
      "100%|██████████| 35/35 [00:04<00:00,  7.59batch/s]\n"
     ]
    },
    {
     "name": "stdout",
     "output_type": "stream",
     "text": [
      "Epoch 13, loss 0.3583\n",
      "Train Acc 0.8562\n",
      "Epoch 13, val_loss 0.3065\n"
     ]
    },
    {
     "name": "stderr",
     "output_type": "stream",
     "text": [
      "100%|██████████| 35/35 [00:04<00:00,  7.19batch/s]\n"
     ]
    },
    {
     "name": "stdout",
     "output_type": "stream",
     "text": [
      "Epoch 14, loss 0.4014\n",
      "Train Acc 0.7937\n",
      "Epoch 14, val_loss 0.4004\n",
      "Early stopping!\n",
      "\n",
      "Confusion matrix (Validation set):\n",
      "\n",
      "[[29  7]\n",
      " [ 1 43]]\n",
      "Validation accuracy: 0.8914141414141414\n"
     ]
    }
   ],
   "source": [
    "#Add in the frount\n",
    "\n",
    "# location of the files\n",
    "loc   = \"/Users/jasonliu/GNN-SubNet/TCGA\"\n",
    "# PPI network\n",
    "ppi   = f'{loc}/KIDNEY_RANDOM_PPI.txt'\n",
    "# single-omic features\n",
    "#feats = [f'{loc}/KIDNEY_RANDOM_Methy_FEATURES.txt']\n",
    "# multi-omic features\n",
    "feats = [f'{loc}/KIDNEY_RANDOM_mRNA_FEATURES.txt', f'{loc}/KIDNEY_RANDOM_Methy_FEATURES.txt']\n",
    "# outcome class\n",
    "targ  = f'{loc}/KIDNEY_RANDOM_TARGET.txt'\n",
    "\n",
    "# Load the multi-omics data \n",
    "g = gnn.GNNSubNet(loc, ppi, feats, targ, random_seed=42)\n",
    "\n",
    "# Train the GNN classifier and validate performance on a test set with Attention mechanism\n",
    "g.train(method=\"chebconv\", use_attention=False)"
   ]
  },
  {
   "cell_type": "code",
   "execution_count": 3,
   "id": "d1c3b08c-9981-445a-b552-73fbd3352f5c",
   "metadata": {
    "tags": []
   },
   "outputs": [
    {
     "name": "stdout",
     "output_type": "stream",
     "text": [
      "Graph is connected  False\n",
      "Calculate subgraph ...\n",
      "Number of subgraphs:  118\n",
      "Size of subgraph:  2049\n",
      "Graph is connected  True\n",
      "##################\n",
      "# DATASET LOADED #\n",
      "##################\n",
      "chebconv for training ...\n",
      "Graphs class 0: 200, Graphs class 1: 306\n",
      "Length of balanced dataset list: 400\n",
      "Train graph class 0: 164, train graph class 1: 156\n",
      "Validation graph class 0: 36, validation graph class 1: 44\n"
     ]
    },
    {
     "name": "stderr",
     "output_type": "stream",
     "text": [
      "100%|██████████| 35/35 [00:04<00:00,  7.70batch/s]\n"
     ]
    },
    {
     "name": "stdout",
     "output_type": "stream",
     "text": [
      "Epoch 0, loss 0.6528\n",
      "Train Acc 0.8406\n",
      "Epoch 0, val_loss 0.4044\n",
      "Saving best model with validation loss 0.40435925126075745\n"
     ]
    },
    {
     "name": "stderr",
     "output_type": "stream",
     "text": [
      "100%|██████████| 35/35 [00:05<00:00,  6.59batch/s]\n"
     ]
    },
    {
     "name": "stdout",
     "output_type": "stream",
     "text": [
      "Epoch 1, loss 0.4117\n",
      "Train Acc 0.8281\n",
      "Epoch 1, val_loss 0.3817\n",
      "Saving best model with validation loss 0.3817394971847534\n"
     ]
    },
    {
     "name": "stderr",
     "output_type": "stream",
     "text": [
      "100%|██████████| 35/35 [00:04<00:00,  7.48batch/s]\n"
     ]
    },
    {
     "name": "stdout",
     "output_type": "stream",
     "text": [
      "Epoch 2, loss 0.3931\n",
      "Train Acc 0.8500\n",
      "Epoch 2, val_loss 0.3458\n",
      "Saving best model with validation loss 0.34576350450515747\n"
     ]
    },
    {
     "name": "stderr",
     "output_type": "stream",
     "text": [
      "100%|██████████| 35/35 [00:05<00:00,  6.54batch/s]\n"
     ]
    },
    {
     "name": "stdout",
     "output_type": "stream",
     "text": [
      "Epoch 3, loss 0.3795\n",
      "Train Acc 0.8094\n",
      "Epoch 3, val_loss 0.3989\n"
     ]
    },
    {
     "name": "stderr",
     "output_type": "stream",
     "text": [
      "100%|██████████| 35/35 [00:05<00:00,  6.82batch/s]\n"
     ]
    },
    {
     "name": "stdout",
     "output_type": "stream",
     "text": [
      "Epoch 4, loss 0.3994\n",
      "Train Acc 0.8531\n",
      "Epoch 4, val_loss 0.3549\n"
     ]
    },
    {
     "name": "stderr",
     "output_type": "stream",
     "text": [
      "100%|██████████| 35/35 [00:05<00:00,  6.38batch/s]\n"
     ]
    },
    {
     "name": "stdout",
     "output_type": "stream",
     "text": [
      "Epoch 5, loss 0.3882\n",
      "Train Acc 0.8344\n",
      "Epoch 5, val_loss 0.3543\n"
     ]
    },
    {
     "name": "stderr",
     "output_type": "stream",
     "text": [
      "100%|██████████| 35/35 [00:05<00:00,  6.53batch/s]\n"
     ]
    },
    {
     "name": "stdout",
     "output_type": "stream",
     "text": [
      "Epoch 6, loss 0.3733\n",
      "Train Acc 0.8375\n",
      "Epoch 6, val_loss 0.3381\n",
      "Saving best model with validation loss 0.3380959630012512\n"
     ]
    },
    {
     "name": "stderr",
     "output_type": "stream",
     "text": [
      "100%|██████████| 35/35 [00:05<00:00,  6.81batch/s]\n"
     ]
    },
    {
     "name": "stdout",
     "output_type": "stream",
     "text": [
      "Epoch 7, loss 0.3809\n",
      "Train Acc 0.8438\n",
      "Epoch 7, val_loss 0.3310\n",
      "Saving best model with validation loss 0.3310447633266449\n"
     ]
    },
    {
     "name": "stderr",
     "output_type": "stream",
     "text": [
      "100%|██████████| 35/35 [00:05<00:00,  6.48batch/s]\n"
     ]
    },
    {
     "name": "stdout",
     "output_type": "stream",
     "text": [
      "Epoch 8, loss 0.3758\n",
      "Train Acc 0.8438\n",
      "Epoch 8, val_loss 0.3421\n"
     ]
    },
    {
     "name": "stderr",
     "output_type": "stream",
     "text": [
      "100%|██████████| 35/35 [00:05<00:00,  6.69batch/s]\n"
     ]
    },
    {
     "name": "stdout",
     "output_type": "stream",
     "text": [
      "Epoch 9, loss 0.3958\n",
      "Train Acc 0.8469\n",
      "Epoch 9, val_loss 0.3323\n"
     ]
    },
    {
     "name": "stderr",
     "output_type": "stream",
     "text": [
      "100%|██████████| 35/35 [00:05<00:00,  6.61batch/s]\n"
     ]
    },
    {
     "name": "stdout",
     "output_type": "stream",
     "text": [
      "Epoch 10, loss 0.3642\n",
      "Train Acc 0.8000\n",
      "Epoch 10, val_loss 0.4670\n"
     ]
    },
    {
     "name": "stderr",
     "output_type": "stream",
     "text": [
      "100%|██████████| 35/35 [00:04<00:00,  7.03batch/s]\n"
     ]
    },
    {
     "name": "stdout",
     "output_type": "stream",
     "text": [
      "Epoch 11, loss 0.3800\n",
      "Train Acc 0.8562\n",
      "Epoch 11, val_loss 0.3319\n"
     ]
    },
    {
     "name": "stderr",
     "output_type": "stream",
     "text": [
      "100%|██████████| 35/35 [00:05<00:00,  6.61batch/s]\n"
     ]
    },
    {
     "name": "stdout",
     "output_type": "stream",
     "text": [
      "Epoch 12, loss 0.3320\n",
      "Train Acc 0.8438\n",
      "Epoch 12, val_loss 0.3371\n"
     ]
    },
    {
     "name": "stderr",
     "output_type": "stream",
     "text": [
      "100%|██████████| 35/35 [00:04<00:00,  7.48batch/s]\n"
     ]
    },
    {
     "name": "stdout",
     "output_type": "stream",
     "text": [
      "Epoch 13, loss 0.3655\n",
      "Train Acc 0.8438\n",
      "Epoch 13, val_loss 0.3622\n"
     ]
    },
    {
     "name": "stderr",
     "output_type": "stream",
     "text": [
      "100%|██████████| 35/35 [00:05<00:00,  6.28batch/s]\n"
     ]
    },
    {
     "name": "stdout",
     "output_type": "stream",
     "text": [
      "Epoch 14, loss 0.3971\n",
      "Train Acc 0.8250\n",
      "Epoch 14, val_loss 0.4320\n",
      "Early stopping!\n",
      "\n",
      "Confusion matrix (Validation set):\n",
      "\n",
      "[[29  7]\n",
      " [ 1 43]]\n",
      "Validation accuracy: 0.8914141414141414\n",
      "Adding GAT to: ChebConv(2, 2, K=10, normalization=sym)\n"
     ]
    }
   ],
   "source": [
    "#Add in the back\n",
    "\n",
    "\n",
    "# location of the files\n",
    "loc   = \"/Users/jasonliu/GNN-SubNet/TCGA\"\n",
    "# PPI network\n",
    "ppi   = f'{loc}/KIDNEY_RANDOM_PPI.txt'\n",
    "# single-omic features\n",
    "#feats = [f'{loc}/KIDNEY_RANDOM_Methy_FEATURES.txt']\n",
    "# multi-omic features\n",
    "feats = [f'{loc}/KIDNEY_RANDOM_mRNA_FEATURES.txt', f'{loc}/KIDNEY_RANDOM_Methy_FEATURES.txt']\n",
    "# outcome class\n",
    "targ  = f'{loc}/KIDNEY_RANDOM_TARGET.txt'\n",
    "\n",
    "# Load the multi-omics data \n",
    "g = gnn.GNNSubNet(loc, ppi, feats, targ, random_seed=42)\n",
    "\n",
    "# Train the GNN classifier and validate performance on a test set with Attention mechanism\n",
    "g.train(method=\"chebconv\", use_attention=True)"
   ]
  },
  {
   "cell_type": "code",
   "execution_count": 4,
   "id": "1049f56c-67ff-46a4-95ab-ee59aa0cc7c3",
   "metadata": {
    "tags": []
   },
   "outputs": [
    {
     "name": "stdout",
     "output_type": "stream",
     "text": [
      "Graph is connected  False\n",
      "Calculate subgraph ...\n",
      "Number of subgraphs:  118\n",
      "Size of subgraph:  2049\n",
      "Graph is connected  True\n",
      "##################\n",
      "# DATASET LOADED #\n",
      "##################\n",
      "chebconv for training ...\n",
      "Graphs class 0: 200, Graphs class 1: 306\n",
      "Length of balanced dataset list: 400\n",
      "Train graph class 0: 164, train graph class 1: 156\n",
      "Validation graph class 0: 36, validation graph class 1: 44\n"
     ]
    },
    {
     "name": "stderr",
     "output_type": "stream",
     "text": [
      "100%|██████████| 35/35 [00:04<00:00,  7.66batch/s]\n"
     ]
    },
    {
     "name": "stdout",
     "output_type": "stream",
     "text": [
      "Epoch 0, loss 0.6547\n",
      "Train Acc 0.7906\n",
      "Epoch 0, val_loss 0.5406\n",
      "Saving best model with validation loss 0.540552020072937\n"
     ]
    },
    {
     "name": "stderr",
     "output_type": "stream",
     "text": [
      "100%|██████████| 35/35 [00:06<00:00,  5.47batch/s]\n"
     ]
    },
    {
     "name": "stdout",
     "output_type": "stream",
     "text": [
      "Epoch 1, loss 0.5118\n",
      "Train Acc 0.8156\n",
      "Epoch 1, val_loss 0.4825\n",
      "Saving best model with validation loss 0.4825441837310791\n"
     ]
    },
    {
     "name": "stderr",
     "output_type": "stream",
     "text": [
      "100%|██████████| 35/35 [00:05<00:00,  6.75batch/s]\n"
     ]
    },
    {
     "name": "stdout",
     "output_type": "stream",
     "text": [
      "Epoch 2, loss 0.5078\n",
      "Train Acc 0.8031\n",
      "Epoch 2, val_loss 0.4284\n",
      "Saving best model with validation loss 0.428389310836792\n"
     ]
    },
    {
     "name": "stderr",
     "output_type": "stream",
     "text": [
      "100%|██████████| 35/35 [00:04<00:00,  7.27batch/s]\n"
     ]
    },
    {
     "name": "stdout",
     "output_type": "stream",
     "text": [
      "Epoch 3, loss 0.4685\n",
      "Train Acc 0.8125\n",
      "Epoch 3, val_loss 0.4084\n",
      "Saving best model with validation loss 0.40842270851135254\n"
     ]
    },
    {
     "name": "stderr",
     "output_type": "stream",
     "text": [
      "100%|██████████| 35/35 [00:05<00:00,  6.85batch/s]\n"
     ]
    },
    {
     "name": "stdout",
     "output_type": "stream",
     "text": [
      "Epoch 4, loss 0.4273\n",
      "Train Acc 0.8313\n",
      "Epoch 4, val_loss 0.3977\n",
      "Saving best model with validation loss 0.3977321982383728\n"
     ]
    },
    {
     "name": "stderr",
     "output_type": "stream",
     "text": [
      "100%|██████████| 35/35 [00:04<00:00,  7.72batch/s]\n"
     ]
    },
    {
     "name": "stdout",
     "output_type": "stream",
     "text": [
      "Epoch 5, loss 0.3982\n",
      "Train Acc 0.8562\n",
      "Epoch 5, val_loss 0.3986\n"
     ]
    },
    {
     "name": "stderr",
     "output_type": "stream",
     "text": [
      "100%|██████████| 35/35 [00:04<00:00,  7.51batch/s]\n"
     ]
    },
    {
     "name": "stdout",
     "output_type": "stream",
     "text": [
      "Epoch 6, loss 0.4136\n",
      "Train Acc 0.8406\n",
      "Epoch 6, val_loss 0.3883\n",
      "Saving best model with validation loss 0.38831835985183716\n"
     ]
    },
    {
     "name": "stderr",
     "output_type": "stream",
     "text": [
      "100%|██████████| 35/35 [00:05<00:00,  6.46batch/s]\n"
     ]
    },
    {
     "name": "stdout",
     "output_type": "stream",
     "text": [
      "Epoch 7, loss 0.4345\n",
      "Train Acc 0.6813\n",
      "Epoch 7, val_loss 0.5245\n"
     ]
    },
    {
     "name": "stderr",
     "output_type": "stream",
     "text": [
      "100%|██████████| 35/35 [00:04<00:00,  7.11batch/s]\n"
     ]
    },
    {
     "name": "stdout",
     "output_type": "stream",
     "text": [
      "Epoch 8, loss 0.3937\n",
      "Train Acc 0.8594\n",
      "Epoch 8, val_loss 0.3745\n",
      "Saving best model with validation loss 0.37454256415367126\n"
     ]
    },
    {
     "name": "stderr",
     "output_type": "stream",
     "text": [
      "100%|██████████| 35/35 [00:05<00:00,  6.86batch/s]\n"
     ]
    },
    {
     "name": "stdout",
     "output_type": "stream",
     "text": [
      "Epoch 9, loss 0.3866\n",
      "Train Acc 0.8594\n",
      "Epoch 9, val_loss 0.3543\n",
      "Saving best model with validation loss 0.3543216288089752\n"
     ]
    },
    {
     "name": "stderr",
     "output_type": "stream",
     "text": [
      "100%|██████████| 35/35 [00:06<00:00,  5.17batch/s]\n"
     ]
    },
    {
     "name": "stdout",
     "output_type": "stream",
     "text": [
      "Epoch 10, loss 0.3773\n",
      "Train Acc 0.7812\n",
      "Epoch 10, val_loss 0.4545\n"
     ]
    },
    {
     "name": "stderr",
     "output_type": "stream",
     "text": [
      "100%|██████████| 35/35 [00:04<00:00,  7.87batch/s]\n"
     ]
    },
    {
     "name": "stdout",
     "output_type": "stream",
     "text": [
      "Epoch 11, loss 0.4072\n",
      "Train Acc 0.8438\n",
      "Epoch 11, val_loss 0.3834\n"
     ]
    },
    {
     "name": "stderr",
     "output_type": "stream",
     "text": [
      "100%|██████████| 35/35 [00:05<00:00,  6.32batch/s]\n"
     ]
    },
    {
     "name": "stdout",
     "output_type": "stream",
     "text": [
      "Epoch 12, loss 0.3598\n",
      "Train Acc 0.8594\n",
      "Epoch 12, val_loss 0.3523\n",
      "Saving best model with validation loss 0.35226970911026\n"
     ]
    },
    {
     "name": "stderr",
     "output_type": "stream",
     "text": [
      "100%|██████████| 35/35 [00:05<00:00,  6.47batch/s]\n"
     ]
    },
    {
     "name": "stdout",
     "output_type": "stream",
     "text": [
      "Epoch 13, loss 0.3708\n",
      "Train Acc 0.8625\n",
      "Epoch 13, val_loss 0.3434\n",
      "Saving best model with validation loss 0.3434292674064636\n"
     ]
    },
    {
     "name": "stderr",
     "output_type": "stream",
     "text": [
      "100%|██████████| 35/35 [00:04<00:00,  7.31batch/s]\n"
     ]
    },
    {
     "name": "stdout",
     "output_type": "stream",
     "text": [
      "Epoch 14, loss 0.4371\n",
      "Train Acc 0.8063\n",
      "Epoch 14, val_loss 0.4261\n"
     ]
    },
    {
     "name": "stderr",
     "output_type": "stream",
     "text": [
      "100%|██████████| 35/35 [00:06<00:00,  5.76batch/s]\n"
     ]
    },
    {
     "name": "stdout",
     "output_type": "stream",
     "text": [
      "Epoch 15, loss 0.3756\n",
      "Train Acc 0.8625\n",
      "Epoch 15, val_loss 0.3541\n"
     ]
    },
    {
     "name": "stderr",
     "output_type": "stream",
     "text": [
      "100%|██████████| 35/35 [00:05<00:00,  6.00batch/s]\n"
     ]
    },
    {
     "name": "stdout",
     "output_type": "stream",
     "text": [
      "Epoch 16, loss 0.3700\n",
      "Train Acc 0.8656\n",
      "Epoch 16, val_loss 0.3378\n",
      "Saving best model with validation loss 0.3377842903137207\n"
     ]
    },
    {
     "name": "stderr",
     "output_type": "stream",
     "text": [
      "100%|██████████| 35/35 [00:04<00:00,  7.55batch/s]\n"
     ]
    },
    {
     "name": "stdout",
     "output_type": "stream",
     "text": [
      "Epoch 17, loss 0.4177\n",
      "Train Acc 0.7094\n",
      "Epoch 17, val_loss 0.5363\n"
     ]
    },
    {
     "name": "stderr",
     "output_type": "stream",
     "text": [
      "100%|██████████| 35/35 [00:06<00:00,  5.55batch/s]\n"
     ]
    },
    {
     "name": "stdout",
     "output_type": "stream",
     "text": [
      "Epoch 18, loss 0.3728\n",
      "Train Acc 0.8562\n",
      "Epoch 18, val_loss 0.3525\n"
     ]
    },
    {
     "name": "stderr",
     "output_type": "stream",
     "text": [
      "100%|██████████| 35/35 [00:05<00:00,  6.24batch/s]\n"
     ]
    },
    {
     "name": "stdout",
     "output_type": "stream",
     "text": [
      "Epoch 19, loss 0.3505\n",
      "Train Acc 0.8625\n",
      "Epoch 19, val_loss 0.3351\n",
      "Saving best model with validation loss 0.33510705828666687\n",
      "\n",
      "Confusion matrix (Validation set):\n",
      "\n",
      "[[28  8]\n",
      " [ 0 44]]\n",
      "Validation accuracy: 0.8888888888888888\n"
     ]
    }
   ],
   "source": [
    "#Add in the back\n",
    "\n",
    "\n",
    "# location of the files\n",
    "loc   = \"/Users/jasonliu/GNN-SubNet/TCGA\"\n",
    "# PPI network\n",
    "ppi   = f'{loc}/KIDNEY_RANDOM_PPI.txt'\n",
    "# single-omic features\n",
    "#feats = [f'{loc}/KIDNEY_RANDOM_Methy_FEATURES.txt']\n",
    "# multi-omic features\n",
    "feats = [f'{loc}/KIDNEY_RANDOM_mRNA_FEATURES.txt', f'{loc}/KIDNEY_RANDOM_Methy_FEATURES.txt']\n",
    "# outcome class\n",
    "targ  = f'{loc}/KIDNEY_RANDOM_TARGET.txt'\n",
    "\n",
    "# Load the multi-omics data \n",
    "g = gnn.GNNSubNet(loc, ppi, feats, targ, random_seed=42)\n",
    "\n",
    "# Train the GNN classifier and validate performance on a test set without Attention mechanism\n",
    "g.train(method=\"chebconv\", use_attention=False)"
   ]
  },
  {
   "cell_type": "code",
   "execution_count": 9,
   "id": "c7147488-0485-40f5-bd80-269d5e7d152c",
   "metadata": {
    "tags": []
   },
   "outputs": [
    {
     "name": "stdout",
     "output_type": "stream",
     "text": [
      "Graph is connected  False\n",
      "Calculate subgraph ...\n",
      "Number of subgraphs:  118\n",
      "Size of subgraph:  2049\n",
      "Graph is connected  True\n",
      "##################\n",
      "# DATASET LOADED #\n",
      "##################\n",
      "graphcnn for training ...\n",
      "Graphs class 0: 200, Graphs class 1: 306\n",
      "Length of balanced dataset list: 400\n",
      "Train graph class 0: 164, train graph class 1: 156\n",
      "Validation graph class 0: 36, validation graph class 1: 44\n"
     ]
    },
    {
     "name": "stderr",
     "output_type": "stream",
     "text": [
      "100%|██████████| 35/35 [00:07<00:00,  4.63batch/s]\n"
     ]
    },
    {
     "name": "stdout",
     "output_type": "stream",
     "text": [
      "Epoch 0, loss 151.7598\n",
      "Train Acc 0.5938\n",
      "Epoch 0, val_loss 13.8113\n",
      "Saving best model with validation loss 13.811314582824707\n"
     ]
    },
    {
     "name": "stderr",
     "output_type": "stream",
     "text": [
      "100%|██████████| 35/35 [00:08<00:00,  4.28batch/s]\n"
     ]
    },
    {
     "name": "stdout",
     "output_type": "stream",
     "text": [
      "Epoch 1, loss 46.3195\n",
      "Train Acc 0.4938\n",
      "Epoch 1, val_loss 27.1396\n"
     ]
    },
    {
     "name": "stderr",
     "output_type": "stream",
     "text": [
      "100%|██████████| 35/35 [00:07<00:00,  4.53batch/s]\n"
     ]
    },
    {
     "name": "stdout",
     "output_type": "stream",
     "text": [
      "Epoch 2, loss 12.3800\n",
      "Train Acc 0.7750\n",
      "Epoch 2, val_loss 1.7830\n",
      "Saving best model with validation loss 1.7830156087875366\n"
     ]
    },
    {
     "name": "stderr",
     "output_type": "stream",
     "text": [
      "100%|██████████| 35/35 [00:06<00:00,  5.30batch/s]\n"
     ]
    },
    {
     "name": "stdout",
     "output_type": "stream",
     "text": [
      "Epoch 3, loss 11.7445\n",
      "Train Acc 0.5125\n",
      "Epoch 3, val_loss 20.2344\n"
     ]
    },
    {
     "name": "stderr",
     "output_type": "stream",
     "text": [
      "100%|██████████| 35/35 [00:07<00:00,  4.56batch/s]\n"
     ]
    },
    {
     "name": "stdout",
     "output_type": "stream",
     "text": [
      "Epoch 4, loss 19.0258\n",
      "Train Acc 0.7688\n",
      "Epoch 4, val_loss 2.1669\n"
     ]
    },
    {
     "name": "stderr",
     "output_type": "stream",
     "text": [
      "100%|██████████| 35/35 [00:07<00:00,  4.70batch/s]\n"
     ]
    },
    {
     "name": "stdout",
     "output_type": "stream",
     "text": [
      "Epoch 5, loss 14.8627\n",
      "Train Acc 0.7625\n",
      "Epoch 5, val_loss 3.9149\n"
     ]
    },
    {
     "name": "stderr",
     "output_type": "stream",
     "text": [
      "100%|██████████| 35/35 [00:07<00:00,  4.66batch/s]\n"
     ]
    },
    {
     "name": "stdout",
     "output_type": "stream",
     "text": [
      "Epoch 6, loss 10.0384\n",
      "Train Acc 0.5125\n",
      "Epoch 6, val_loss 15.2116\n"
     ]
    },
    {
     "name": "stderr",
     "output_type": "stream",
     "text": [
      "100%|██████████| 35/35 [00:07<00:00,  4.92batch/s]\n"
     ]
    },
    {
     "name": "stdout",
     "output_type": "stream",
     "text": [
      "Epoch 7, loss 12.1183\n",
      "Train Acc 0.7250\n",
      "Epoch 7, val_loss 4.9142\n"
     ]
    },
    {
     "name": "stderr",
     "output_type": "stream",
     "text": [
      "100%|██████████| 35/35 [00:09<00:00,  3.64batch/s]\n"
     ]
    },
    {
     "name": "stdout",
     "output_type": "stream",
     "text": [
      "Epoch 8, loss 9.5680\n",
      "Train Acc 0.6469\n",
      "Epoch 8, val_loss 6.4317\n"
     ]
    },
    {
     "name": "stderr",
     "output_type": "stream",
     "text": [
      "100%|██████████| 35/35 [00:08<00:00,  4.31batch/s]\n"
     ]
    },
    {
     "name": "stdout",
     "output_type": "stream",
     "text": [
      "Epoch 9, loss 15.7570\n",
      "Train Acc 0.5188\n",
      "Epoch 9, val_loss 13.3838\n"
     ]
    },
    {
     "name": "stderr",
     "output_type": "stream",
     "text": [
      "100%|██████████| 35/35 [00:06<00:00,  5.11batch/s]\n"
     ]
    },
    {
     "name": "stdout",
     "output_type": "stream",
     "text": [
      "Epoch 10, loss 11.3374\n",
      "Train Acc 0.5156\n",
      "Epoch 10, val_loss 15.3216\n"
     ]
    },
    {
     "name": "stderr",
     "output_type": "stream",
     "text": [
      "100%|██████████| 35/35 [00:07<00:00,  4.61batch/s]\n"
     ]
    },
    {
     "name": "stdout",
     "output_type": "stream",
     "text": [
      "Epoch 11, loss 10.5281\n",
      "Train Acc 0.7719\n",
      "Epoch 11, val_loss 2.0178\n"
     ]
    },
    {
     "name": "stderr",
     "output_type": "stream",
     "text": [
      "100%|██████████| 35/35 [00:08<00:00,  4.31batch/s]\n"
     ]
    },
    {
     "name": "stdout",
     "output_type": "stream",
     "text": [
      "Epoch 12, loss 10.2100\n",
      "Train Acc 0.6250\n",
      "Epoch 12, val_loss 4.7146\n",
      "Early stopping!\n",
      "\n",
      "Confusion matrix (Validation set):\n",
      "\n",
      "[[28  8]\n",
      " [14 30]]\n",
      "Validation accuracy: 72.5%\n",
      "Validation loss 1.7830156087875366\n"
     ]
    }
   ],
   "source": [
    "g = gnn.GNNSubNet(loc, ppi, feats, targ, random_seed=42)\n",
    "g.train(use_attention=True)"
   ]
  },
  {
   "cell_type": "code",
   "execution_count": 8,
   "id": "3d74ddf8-0364-443d-86ec-04206f92162a",
   "metadata": {},
   "outputs": [
    {
     "name": "stdout",
     "output_type": "stream",
     "text": [
      "Graph is connected  False\n",
      "Calculate subgraph ...\n",
      "Number of subgraphs:  118\n",
      "Size of subgraph:  2049\n",
      "Graph is connected  True\n",
      "##################\n",
      "# DATASET LOADED #\n",
      "##################\n",
      "graphcnn for training ...\n",
      "Graphs class 0: 200, Graphs class 1: 306\n",
      "Length of balanced dataset list: 400\n",
      "Train graph class 0: 164, train graph class 1: 156\n",
      "Validation graph class 0: 36, validation graph class 1: 44\n"
     ]
    },
    {
     "name": "stderr",
     "output_type": "stream",
     "text": [
      "100%|██████████| 35/35 [00:06<00:00,  5.15batch/s]\n"
     ]
    },
    {
     "name": "stdout",
     "output_type": "stream",
     "text": [
      "Epoch 0, loss 84.0283\n",
      "Train Acc 0.5437\n",
      "Epoch 0, val_loss 19.5951\n",
      "Saving best model with validation loss 19.59512710571289\n"
     ]
    },
    {
     "name": "stderr",
     "output_type": "stream",
     "text": [
      "100%|██████████| 35/35 [00:07<00:00,  4.69batch/s]\n"
     ]
    },
    {
     "name": "stdout",
     "output_type": "stream",
     "text": [
      "Epoch 1, loss 33.2644\n",
      "Train Acc 0.5531\n",
      "Epoch 1, val_loss 21.3658\n"
     ]
    },
    {
     "name": "stderr",
     "output_type": "stream",
     "text": [
      "100%|██████████| 35/35 [00:07<00:00,  4.71batch/s]\n"
     ]
    },
    {
     "name": "stdout",
     "output_type": "stream",
     "text": [
      "Epoch 2, loss 28.4813\n",
      "Train Acc 0.5062\n",
      "Epoch 2, val_loss 21.9488\n"
     ]
    },
    {
     "name": "stderr",
     "output_type": "stream",
     "text": [
      "100%|██████████| 35/35 [00:06<00:00,  5.25batch/s]\n"
     ]
    },
    {
     "name": "stdout",
     "output_type": "stream",
     "text": [
      "Epoch 3, loss 26.1866\n",
      "Train Acc 0.5969\n",
      "Epoch 3, val_loss 9.4143\n",
      "Saving best model with validation loss 9.414291381835938\n"
     ]
    },
    {
     "name": "stderr",
     "output_type": "stream",
     "text": [
      "100%|██████████| 35/35 [00:08<00:00,  4.21batch/s]\n"
     ]
    },
    {
     "name": "stdout",
     "output_type": "stream",
     "text": [
      "Epoch 4, loss 22.9363\n",
      "Train Acc 0.7031\n",
      "Epoch 4, val_loss 7.4815\n",
      "Saving best model with validation loss 7.481456756591797\n"
     ]
    },
    {
     "name": "stderr",
     "output_type": "stream",
     "text": [
      "100%|██████████| 35/35 [00:07<00:00,  4.60batch/s]\n"
     ]
    },
    {
     "name": "stdout",
     "output_type": "stream",
     "text": [
      "Epoch 5, loss 22.4836\n",
      "Train Acc 0.5813\n",
      "Epoch 5, val_loss 17.1199\n"
     ]
    },
    {
     "name": "stderr",
     "output_type": "stream",
     "text": [
      "100%|██████████| 35/35 [00:06<00:00,  5.18batch/s]\n"
     ]
    },
    {
     "name": "stdout",
     "output_type": "stream",
     "text": [
      "Epoch 6, loss 22.1060\n",
      "Train Acc 0.5781\n",
      "Epoch 6, val_loss 10.1308\n"
     ]
    },
    {
     "name": "stderr",
     "output_type": "stream",
     "text": [
      "100%|██████████| 35/35 [00:06<00:00,  5.07batch/s]\n"
     ]
    },
    {
     "name": "stdout",
     "output_type": "stream",
     "text": [
      "Epoch 7, loss 30.2847\n",
      "Train Acc 0.5531\n",
      "Epoch 7, val_loss 20.0557\n"
     ]
    },
    {
     "name": "stderr",
     "output_type": "stream",
     "text": [
      "100%|██████████| 35/35 [00:09<00:00,  3.70batch/s]\n"
     ]
    },
    {
     "name": "stdout",
     "output_type": "stream",
     "text": [
      "Epoch 8, loss 26.9559\n",
      "Train Acc 0.5031\n",
      "Epoch 8, val_loss 32.4012\n"
     ]
    },
    {
     "name": "stderr",
     "output_type": "stream",
     "text": [
      "100%|██████████| 35/35 [00:07<00:00,  4.49batch/s]\n"
     ]
    },
    {
     "name": "stdout",
     "output_type": "stream",
     "text": [
      "Epoch 9, loss 16.3915\n",
      "Train Acc 0.6594\n",
      "Epoch 9, val_loss 7.5060\n"
     ]
    },
    {
     "name": "stderr",
     "output_type": "stream",
     "text": [
      "100%|██████████| 35/35 [00:06<00:00,  5.30batch/s]\n"
     ]
    },
    {
     "name": "stdout",
     "output_type": "stream",
     "text": [
      "Epoch 10, loss 17.9121\n",
      "Train Acc 0.6687\n",
      "Epoch 10, val_loss 5.7590\n",
      "Saving best model with validation loss 5.758997440338135\n"
     ]
    },
    {
     "name": "stderr",
     "output_type": "stream",
     "text": [
      "100%|██████████| 35/35 [00:07<00:00,  4.79batch/s]\n"
     ]
    },
    {
     "name": "stdout",
     "output_type": "stream",
     "text": [
      "Epoch 11, loss 14.9587\n",
      "Train Acc 0.6125\n",
      "Epoch 11, val_loss 6.1877\n"
     ]
    },
    {
     "name": "stderr",
     "output_type": "stream",
     "text": [
      "100%|██████████| 35/35 [00:07<00:00,  4.48batch/s]\n"
     ]
    },
    {
     "name": "stdout",
     "output_type": "stream",
     "text": [
      "Epoch 12, loss 15.1566\n",
      "Train Acc 0.5125\n",
      "Epoch 12, val_loss 29.9044\n"
     ]
    },
    {
     "name": "stderr",
     "output_type": "stream",
     "text": [
      "100%|██████████| 35/35 [00:07<00:00,  4.53batch/s]\n"
     ]
    },
    {
     "name": "stdout",
     "output_type": "stream",
     "text": [
      "Epoch 13, loss 13.2006\n",
      "Train Acc 0.7219\n",
      "Epoch 13, val_loss 9.2553\n"
     ]
    },
    {
     "name": "stderr",
     "output_type": "stream",
     "text": [
      "100%|██████████| 35/35 [00:07<00:00,  4.91batch/s]\n"
     ]
    },
    {
     "name": "stdout",
     "output_type": "stream",
     "text": [
      "Epoch 14, loss 15.2965\n",
      "Train Acc 0.6281\n",
      "Epoch 14, val_loss 6.8643\n"
     ]
    },
    {
     "name": "stderr",
     "output_type": "stream",
     "text": [
      "100%|██████████| 35/35 [00:07<00:00,  4.94batch/s]\n"
     ]
    },
    {
     "name": "stdout",
     "output_type": "stream",
     "text": [
      "Epoch 15, loss 13.1606\n",
      "Train Acc 0.5375\n",
      "Epoch 15, val_loss 13.0126\n"
     ]
    },
    {
     "name": "stderr",
     "output_type": "stream",
     "text": [
      "100%|██████████| 35/35 [00:07<00:00,  4.39batch/s]\n"
     ]
    },
    {
     "name": "stdout",
     "output_type": "stream",
     "text": [
      "Epoch 16, loss 14.5633\n",
      "Train Acc 0.6594\n",
      "Epoch 16, val_loss 5.2079\n",
      "Saving best model with validation loss 5.207921504974365\n"
     ]
    },
    {
     "name": "stderr",
     "output_type": "stream",
     "text": [
      "100%|██████████| 35/35 [00:07<00:00,  4.51batch/s]\n"
     ]
    },
    {
     "name": "stdout",
     "output_type": "stream",
     "text": [
      "Epoch 17, loss 13.1859\n",
      "Train Acc 0.5594\n",
      "Epoch 17, val_loss 17.8266\n"
     ]
    },
    {
     "name": "stderr",
     "output_type": "stream",
     "text": [
      "100%|██████████| 35/35 [00:07<00:00,  4.68batch/s]\n"
     ]
    },
    {
     "name": "stdout",
     "output_type": "stream",
     "text": [
      "Epoch 18, loss 13.7280\n",
      "Train Acc 0.7844\n",
      "Epoch 18, val_loss 5.5681\n"
     ]
    },
    {
     "name": "stderr",
     "output_type": "stream",
     "text": [
      "100%|██████████| 35/35 [00:07<00:00,  4.88batch/s]\n"
     ]
    },
    {
     "name": "stdout",
     "output_type": "stream",
     "text": [
      "Epoch 19, loss 14.4187\n",
      "Train Acc 0.5875\n",
      "Epoch 19, val_loss 8.7269\n",
      "\n",
      "Confusion matrix (Validation set):\n",
      "\n",
      "[[29  7]\n",
      " [18 26]]\n",
      "Validation accuracy: 68.75%\n",
      "Validation loss 5.207921504974365\n"
     ]
    }
   ],
   "source": [
    "g = gnn.GNNSubNet(loc, ppi, feats, targ, random_seed=42)\n",
    "g.train(use_attention=False)"
   ]
  },
  {
   "cell_type": "code",
   "execution_count": 6,
   "id": "c1f7f9aa-362e-40fd-8d73-798d90b80683",
   "metadata": {},
   "outputs": [
    {
     "name": "stdout",
     "output_type": "stream",
     "text": [
      "\n",
      "Number of nodes: 2049\n",
      "Number of edges: 13588\n",
      "Number of modalities: 2\n"
     ]
    }
   ],
   "source": [
    "g.summary()"
   ]
  },
  {
   "cell_type": "code",
   "execution_count": 15,
   "id": "6b0dfec1-21e1-4c6c-b77a-40dcdcee609d",
   "metadata": {},
   "outputs": [
    {
     "name": "stdout",
     "output_type": "stream",
     "text": [
      "<bound method GNNSubNet.explain of <GNNSubNet.GNNSubNet.GNNSubNet object at 0x15ddd8ed0>>\n"
     ]
    }
   ],
   "source": [
    "print(g.explain)"
   ]
  },
  {
   "cell_type": "code",
   "execution_count": 11,
   "id": "cb226631-49eb-4e4b-8c53-147e56bd76f4",
   "metadata": {
    "tags": []
   },
   "outputs": [
    {
     "data": {
      "text/plain": [
       "['__class__',\n",
       " '__delattr__',\n",
       " '__dict__',\n",
       " '__dir__',\n",
       " '__doc__',\n",
       " '__eq__',\n",
       " '__format__',\n",
       " '__ge__',\n",
       " '__getattribute__',\n",
       " '__getstate__',\n",
       " '__gt__',\n",
       " '__hash__',\n",
       " '__init__',\n",
       " '__init_subclass__',\n",
       " '__le__',\n",
       " '__lt__',\n",
       " '__module__',\n",
       " '__ne__',\n",
       " '__new__',\n",
       " '__reduce__',\n",
       " '__reduce_ex__',\n",
       " '__repr__',\n",
       " '__setattr__',\n",
       " '__sizeof__',\n",
       " '__str__',\n",
       " '__subclasshook__',\n",
       " '__weakref__',\n",
       " '_explainer_run',\n",
       " 'accuracy',\n",
       " 'add_graph_attention_layer',\n",
       " 'attention_units',\n",
       " 'classifier',\n",
       " 'confusion_matrix',\n",
       " 'dataset',\n",
       " 'download_TCGA',\n",
       " 'edge_mask',\n",
       " 'edges',\n",
       " 'explain',\n",
       " 'explain_chebconv',\n",
       " 'explain_graphcheb',\n",
       " 'explain_graphcnn',\n",
       " 'features',\n",
       " 'gene_names',\n",
       " 'location',\n",
       " 'model',\n",
       " 'model_status',\n",
       " 'module_importances',\n",
       " 'modules',\n",
       " 'node_mask',\n",
       " 'node_mask_matrix',\n",
       " 'ppi',\n",
       " 'predict',\n",
       " 'predict_chebconv',\n",
       " 'predict_graphcheb',\n",
       " 'predict_graphcnn',\n",
       " 'predictions',\n",
       " 's2v_test_dataset',\n",
       " 'summary',\n",
       " 'target',\n",
       " 'test_loss',\n",
       " 'train',\n",
       " 'train_chebconv',\n",
       " 'train_chebnet',\n",
       " 'train_graphcheb',\n",
       " 'train_graphcnn',\n",
       " 'true_class',\n",
       " 'use_attention']"
      ]
     },
     "execution_count": 11,
     "metadata": {},
     "output_type": "execute_result"
    }
   ],
   "source": [
    "dir(g)"
   ]
  },
  {
   "cell_type": "code",
   "execution_count": null,
   "id": "ab380732-9aeb-46be-a8eb-e0dc5d23bb5f",
   "metadata": {},
   "outputs": [],
   "source": []
  }
 ],
 "metadata": {
  "kernelspec": {
   "display_name": "Python 3 (ipykernel)",
   "language": "python",
   "name": "python3"
  },
  "language_info": {
   "codemirror_mode": {
    "name": "ipython",
    "version": 3
   },
   "file_extension": ".py",
   "mimetype": "text/x-python",
   "name": "python",
   "nbconvert_exporter": "python",
   "pygments_lexer": "ipython3",
   "version": "3.11.5"
  }
 },
 "nbformat": 4,
 "nbformat_minor": 5
}
