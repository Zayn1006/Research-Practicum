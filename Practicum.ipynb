{
 "cells": [
  {
   "cell_type": "code",
   "execution_count": 1,
   "id": "c9c112d0-e93f-49c8-bda5-002d7545fdab",
   "metadata": {
    "tags": []
   },
   "outputs": [
    {
     "name": "stderr",
     "output_type": "stream",
     "text": [
      "2024-10-25 21:24:01.736049: I tensorflow/core/platform/cpu_feature_guard.cc:210] This TensorFlow binary is optimized to use available CPU instructions in performance-critical operations.\n",
      "To enable the following instructions: AVX2 FMA, in other operations, rebuild TensorFlow with the appropriate compiler flags.\n"
     ]
    }
   ],
   "source": [
    "import sys\n",
    "import pandas as pd\n",
    "import numpy as np\n",
    "import tensorflow as tf\n",
    "import matplotlib.pyplot as plt\n",
    "import seaborn as sns\n",
    "from sklearn.metrics import roc_curve, auc, confusion_matrix\n",
    "from sklearn.preprocessing import MinMaxScaler\n",
    "from sklearn.decomposition import PCA\n",
    "from sklearn.linear_model import Lasso\n",
    "from sklearn.feature_selection import SelectFromModel\n",
    "from sklearn.model_selection import cross_val_score, StratifiedKFold\n",
    "from sklearn.svm import SVC\n",
    "from sklearn.model_selection import train_test_split\n",
    "from sklearn.ensemble import RandomForestClassifier\n",
    "from sklearn.metrics import accuracy_score\n",
    "from sklearn.metrics import classification_report\n",
    "from sklearn.model_selection import GridSearchCV\n",
    "from sklearn.metrics import f1_score\n",
    "from tensorflow.keras.layers import Conv1D, MaxPooling1D, Flatten, Dense, Dropout\n",
    "from tensorflow.keras.optimizers import Adam\n",
    "from tensorflow.keras.utils import to_categorical\n",
    "from tensorflow.keras.models import Sequential\n"
   ]
  },
  {
   "cell_type": "code",
   "execution_count": null,
   "id": "a6730efc-0a93-4459-bdde-be90dae52639",
   "metadata": {},
   "outputs": [],
   "source": []
  },
  {
   "cell_type": "code",
   "execution_count": 2,
   "id": "61fd6512-da81-4e60-a8eb-54308b788de6",
   "metadata": {
    "tags": []
   },
   "outputs": [],
   "source": [
    "# Set the path and add to sys.path\n",
    "sys.path.insert(0, \"/Users/jasonliu/GNN-SubNet/GNNSubNet\") "
   ]
  },
  {
   "cell_type": "code",
   "execution_count": 3,
   "id": "db3744f1-bf66-4fc8-8477-bb8d50327d7e",
   "metadata": {
    "tags": []
   },
   "outputs": [
    {
     "name": "stderr",
     "output_type": "stream",
     "text": [
      "/Users/jasonliu/anaconda3/lib/python3.11/site-packages/torch_geometric/typing.py:72: UserWarning: An issue occurred while importing 'torch-scatter'. Disabling its usage. Stacktrace: dlopen(/Users/jasonliu/anaconda3/lib/python3.11/site-packages/torch_scatter/_version_cpu.so, 0x0006): Symbol not found: __ZN3c1017RegisterOperatorsD1Ev\n",
      "  Referenced from: <6A7FD81D-C165-3B48-BBD3-EAC4FC9B36DD> /Users/jasonliu/anaconda3/lib/python3.11/site-packages/torch_scatter/_version_cpu.so\n",
      "  Expected in:     <ED5B7495-D9A3-3875-A01B-C86976E4F5BB> /Users/jasonliu/anaconda3/lib/python3.11/site-packages/torch/lib/libtorch_cpu.dylib\n",
      "  warnings.warn(f\"An issue occurred while importing 'torch-scatter'. \"\n",
      "/Users/jasonliu/anaconda3/lib/python3.11/site-packages/torch_geometric/typing.py:110: UserWarning: An issue occurred while importing 'torch-sparse'. Disabling its usage. Stacktrace: dlopen(/Users/jasonliu/anaconda3/lib/python3.11/site-packages/torch_sparse/_convert_cpu.so, 0x0006): Symbol not found: __ZN2at8internal15invoke_parallelExxxRKNSt3__18functionIFvxxEEE\n",
      "  Referenced from: <2233A9B5-6795-37E7-91E9-A254735A1B30> /Users/jasonliu/anaconda3/lib/python3.11/site-packages/torch_sparse/_convert_cpu.so\n",
      "  Expected in:     <ED5B7495-D9A3-3875-A01B-C86976E4F5BB> /Users/jasonliu/anaconda3/lib/python3.11/site-packages/torch/lib/libtorch_cpu.dylib\n",
      "  warnings.warn(f\"An issue occurred while importing 'torch-sparse'. \"\n"
     ]
    }
   ],
   "source": [
    "from GNNSubNet import GNNSubNet"
   ]
  },
  {
   "cell_type": "code",
   "execution_count": 5,
   "id": "66c3e920-cb61-4ff1-9a06-d9fabb026d08",
   "metadata": {
    "tags": []
   },
   "outputs": [
    {
     "name": "stdout",
     "output_type": "stream",
     "text": [
      "['__class__', '__delattr__', '__dict__', '__dir__', '__doc__', '__eq__', '__format__', '__ge__', '__getattribute__', '__getstate__', '__gt__', '__hash__', '__init__', '__init_subclass__', '__le__', '__lt__', '__module__', '__ne__', '__new__', '__reduce__', '__reduce_ex__', '__repr__', '__setattr__', '__sizeof__', '__str__', '__subclasshook__', '__weakref__', 'add_graph_attention_layer', 'download_TCGA', 'explain', 'explain_chebconv', 'explain_graphcheb', 'explain_graphcnn', 'predict', 'predict_chebconv', 'predict_graphcheb', 'predict_graphcnn', 'summary', 'train', 'train_chebconv', 'train_chebnet', 'train_graphcheb', 'train_graphcnn']\n"
     ]
    }
   ],
   "source": [
    "print(dir(GNNSubNet))\n"
   ]
  },
  {
   "cell_type": "code",
   "execution_count": 15,
   "id": "7cbccc38-52df-4425-bb56-cabe4a5a6932",
   "metadata": {
    "tags": []
   },
   "outputs": [],
   "source": [
    "# Read methylation data\n",
    "methy_data = pd.read_csv('/Users/jasonliu/GNN-SubNet/TCGA/KIDNEY_RANDOM_Methy_FEATURES.txt', delimiter=' ')\n",
    "\n",
    "# Read mRNA data\n",
    "mrna_data = pd.read_csv('/Users/jasonliu/GNN-SubNet/TCGA/KIDNEY_RANDOM_mRNA_FEATURES.txt', delimiter=' ')\n",
    "\n",
    "# Read PPI data\n",
    "ppi_data = pd.read_csv('/Users/jasonliu/GNN-SubNet/TCGA/KIDNEY_RANDOM_PPI.txt', delimiter=' ')\n",
    "\n",
    "# Read target data\n",
    "target_data = pd.read_csv('/Users/jasonliu/GNN-SubNet/TCGA/KIDNEY_RANDOM_TARGET.txt', delimiter=' ')"
   ]
  },
  {
   "cell_type": "code",
   "execution_count": 16,
   "id": "dbd41c7c-0f8c-4c56-9828-e2ed254a203d",
   "metadata": {
    "tags": []
   },
   "outputs": [
    {
     "data": {
      "text/html": [
       "<div>\n",
       "<style scoped>\n",
       "    .dataframe tbody tr th:only-of-type {\n",
       "        vertical-align: middle;\n",
       "    }\n",
       "\n",
       "    .dataframe tbody tr th {\n",
       "        vertical-align: top;\n",
       "    }\n",
       "\n",
       "    .dataframe thead th {\n",
       "        text-align: right;\n",
       "    }\n",
       "</style>\n",
       "<table border=\"1\" class=\"dataframe\">\n",
       "  <thead>\n",
       "    <tr style=\"text-align: right;\">\n",
       "      <th></th>\n",
       "      <th>ACTN1</th>\n",
       "      <th>ATP2A1</th>\n",
       "      <th>MAN1B1</th>\n",
       "      <th>NPHP4</th>\n",
       "      <th>MAEL</th>\n",
       "      <th>PROX1</th>\n",
       "      <th>NR5A2</th>\n",
       "      <th>ETV6</th>\n",
       "      <th>COL6A3</th>\n",
       "      <th>SLMAP</th>\n",
       "      <th>...</th>\n",
       "      <th>KIF18A</th>\n",
       "      <th>STX19</th>\n",
       "      <th>CSTF2T</th>\n",
       "      <th>MRC1</th>\n",
       "      <th>TRIM32</th>\n",
       "      <th>STON1</th>\n",
       "      <th>GTF3C4</th>\n",
       "      <th>OGN</th>\n",
       "      <th>ECM2</th>\n",
       "      <th>POU5F2</th>\n",
       "    </tr>\n",
       "  </thead>\n",
       "  <tbody>\n",
       "    <tr>\n",
       "      <th>TCGA.3Z.A93Z</th>\n",
       "      <td>-0.0063</td>\n",
       "      <td>-0.4851</td>\n",
       "      <td>-0.4896</td>\n",
       "      <td>0.3768</td>\n",
       "      <td>0.3686</td>\n",
       "      <td>0.4394</td>\n",
       "      <td>0.3762</td>\n",
       "      <td>0.2232</td>\n",
       "      <td>0.4286</td>\n",
       "      <td>-0.2660</td>\n",
       "      <td>...</td>\n",
       "      <td>-0.3574</td>\n",
       "      <td>-0.0221</td>\n",
       "      <td>-0.2521</td>\n",
       "      <td>0.3795</td>\n",
       "      <td>-0.4882</td>\n",
       "      <td>0.2572</td>\n",
       "      <td>0.2910</td>\n",
       "      <td>0.3161</td>\n",
       "      <td>0.2704</td>\n",
       "      <td>0.0270</td>\n",
       "    </tr>\n",
       "    <tr>\n",
       "      <th>TCGA.6D.AA2E</th>\n",
       "      <td>0.1481</td>\n",
       "      <td>-0.4799</td>\n",
       "      <td>-0.4882</td>\n",
       "      <td>0.4153</td>\n",
       "      <td>0.3911</td>\n",
       "      <td>0.4277</td>\n",
       "      <td>0.4272</td>\n",
       "      <td>0.2435</td>\n",
       "      <td>0.3580</td>\n",
       "      <td>-0.1912</td>\n",
       "      <td>...</td>\n",
       "      <td>-0.4492</td>\n",
       "      <td>0.1014</td>\n",
       "      <td>NaN</td>\n",
       "      <td>0.4406</td>\n",
       "      <td>-0.4862</td>\n",
       "      <td>0.4077</td>\n",
       "      <td>0.3460</td>\n",
       "      <td>0.3105</td>\n",
       "      <td>0.4484</td>\n",
       "      <td>0.3682</td>\n",
       "    </tr>\n",
       "    <tr>\n",
       "      <th>TCGA.A3.3357</th>\n",
       "      <td>-0.0540</td>\n",
       "      <td>-0.4859</td>\n",
       "      <td>-0.4913</td>\n",
       "      <td>0.4520</td>\n",
       "      <td>0.2489</td>\n",
       "      <td>0.2177</td>\n",
       "      <td>0.4246</td>\n",
       "      <td>0.3026</td>\n",
       "      <td>0.4149</td>\n",
       "      <td>-0.2734</td>\n",
       "      <td>...</td>\n",
       "      <td>-0.3726</td>\n",
       "      <td>0.1299</td>\n",
       "      <td>-0.3404</td>\n",
       "      <td>0.3322</td>\n",
       "      <td>-0.4807</td>\n",
       "      <td>0.4417</td>\n",
       "      <td>0.4172</td>\n",
       "      <td>0.3356</td>\n",
       "      <td>0.4349</td>\n",
       "      <td>0.3700</td>\n",
       "    </tr>\n",
       "    <tr>\n",
       "      <th>TCGA.A3.3358</th>\n",
       "      <td>-0.1005</td>\n",
       "      <td>-0.4778</td>\n",
       "      <td>-0.4869</td>\n",
       "      <td>0.4336</td>\n",
       "      <td>0.0612</td>\n",
       "      <td>0.4032</td>\n",
       "      <td>0.4249</td>\n",
       "      <td>0.1463</td>\n",
       "      <td>0.3638</td>\n",
       "      <td>-0.2886</td>\n",
       "      <td>...</td>\n",
       "      <td>-0.4391</td>\n",
       "      <td>0.3571</td>\n",
       "      <td>-0.4185</td>\n",
       "      <td>0.4406</td>\n",
       "      <td>-0.4827</td>\n",
       "      <td>0.4041</td>\n",
       "      <td>0.0591</td>\n",
       "      <td>0.4012</td>\n",
       "      <td>0.4195</td>\n",
       "      <td>0.3517</td>\n",
       "    </tr>\n",
       "    <tr>\n",
       "      <th>TCGA.A3.3367</th>\n",
       "      <td>-0.0493</td>\n",
       "      <td>-0.4830</td>\n",
       "      <td>-0.4926</td>\n",
       "      <td>0.4449</td>\n",
       "      <td>0.3904</td>\n",
       "      <td>0.4525</td>\n",
       "      <td>0.4417</td>\n",
       "      <td>0.2842</td>\n",
       "      <td>0.3929</td>\n",
       "      <td>-0.3218</td>\n",
       "      <td>...</td>\n",
       "      <td>-0.4569</td>\n",
       "      <td>0.2291</td>\n",
       "      <td>-0.3374</td>\n",
       "      <td>0.4197</td>\n",
       "      <td>-0.4860</td>\n",
       "      <td>0.4455</td>\n",
       "      <td>0.1714</td>\n",
       "      <td>0.4007</td>\n",
       "      <td>0.3509</td>\n",
       "      <td>0.3725</td>\n",
       "    </tr>\n",
       "  </tbody>\n",
       "</table>\n",
       "<p>5 rows × 4785 columns</p>\n",
       "</div>"
      ],
      "text/plain": [
       "               ACTN1  ATP2A1  MAN1B1   NPHP4    MAEL   PROX1   NR5A2    ETV6  \\\n",
       "TCGA.3Z.A93Z -0.0063 -0.4851 -0.4896  0.3768  0.3686  0.4394  0.3762  0.2232   \n",
       "TCGA.6D.AA2E  0.1481 -0.4799 -0.4882  0.4153  0.3911  0.4277  0.4272  0.2435   \n",
       "TCGA.A3.3357 -0.0540 -0.4859 -0.4913  0.4520  0.2489  0.2177  0.4246  0.3026   \n",
       "TCGA.A3.3358 -0.1005 -0.4778 -0.4869  0.4336  0.0612  0.4032  0.4249  0.1463   \n",
       "TCGA.A3.3367 -0.0493 -0.4830 -0.4926  0.4449  0.3904  0.4525  0.4417  0.2842   \n",
       "\n",
       "              COL6A3   SLMAP  ...  KIF18A   STX19  CSTF2T    MRC1  TRIM32  \\\n",
       "TCGA.3Z.A93Z  0.4286 -0.2660  ... -0.3574 -0.0221 -0.2521  0.3795 -0.4882   \n",
       "TCGA.6D.AA2E  0.3580 -0.1912  ... -0.4492  0.1014     NaN  0.4406 -0.4862   \n",
       "TCGA.A3.3357  0.4149 -0.2734  ... -0.3726  0.1299 -0.3404  0.3322 -0.4807   \n",
       "TCGA.A3.3358  0.3638 -0.2886  ... -0.4391  0.3571 -0.4185  0.4406 -0.4827   \n",
       "TCGA.A3.3367  0.3929 -0.3218  ... -0.4569  0.2291 -0.3374  0.4197 -0.4860   \n",
       "\n",
       "               STON1  GTF3C4     OGN    ECM2  POU5F2  \n",
       "TCGA.3Z.A93Z  0.2572  0.2910  0.3161  0.2704  0.0270  \n",
       "TCGA.6D.AA2E  0.4077  0.3460  0.3105  0.4484  0.3682  \n",
       "TCGA.A3.3357  0.4417  0.4172  0.3356  0.4349  0.3700  \n",
       "TCGA.A3.3358  0.4041  0.0591  0.4012  0.4195  0.3517  \n",
       "TCGA.A3.3367  0.4455  0.1714  0.4007  0.3509  0.3725  \n",
       "\n",
       "[5 rows x 4785 columns]"
      ]
     },
     "execution_count": 16,
     "metadata": {},
     "output_type": "execute_result"
    }
   ],
   "source": [
    "methy_data.head()"
   ]
  },
  {
   "cell_type": "code",
   "execution_count": 17,
   "id": "e44b0c4d-763c-4115-9984-c15f2ca90b84",
   "metadata": {
    "tags": []
   },
   "outputs": [
    {
     "data": {
      "text/html": [
       "<div>\n",
       "<style scoped>\n",
       "    .dataframe tbody tr th:only-of-type {\n",
       "        vertical-align: middle;\n",
       "    }\n",
       "\n",
       "    .dataframe tbody tr th {\n",
       "        vertical-align: top;\n",
       "    }\n",
       "\n",
       "    .dataframe thead th {\n",
       "        text-align: right;\n",
       "    }\n",
       "</style>\n",
       "<table border=\"1\" class=\"dataframe\">\n",
       "  <thead>\n",
       "    <tr style=\"text-align: right;\">\n",
       "      <th></th>\n",
       "      <th>ACTN1</th>\n",
       "      <th>ATP2A1</th>\n",
       "      <th>MAN1B1</th>\n",
       "      <th>NPHP4</th>\n",
       "      <th>MAEL</th>\n",
       "      <th>PROX1</th>\n",
       "      <th>NR5A2</th>\n",
       "      <th>ETV6</th>\n",
       "      <th>COL6A3</th>\n",
       "      <th>SLMAP</th>\n",
       "      <th>...</th>\n",
       "      <th>KIF18A</th>\n",
       "      <th>STX19</th>\n",
       "      <th>CSTF2T</th>\n",
       "      <th>MRC1</th>\n",
       "      <th>TRIM32</th>\n",
       "      <th>STON1</th>\n",
       "      <th>GTF3C4</th>\n",
       "      <th>OGN</th>\n",
       "      <th>ECM2</th>\n",
       "      <th>POU5F2</th>\n",
       "    </tr>\n",
       "  </thead>\n",
       "  <tbody>\n",
       "    <tr>\n",
       "      <th>TCGA.3Z.A93Z</th>\n",
       "      <td>11.0698</td>\n",
       "      <td>3.0921</td>\n",
       "      <td>11.7421</td>\n",
       "      <td>7.8134</td>\n",
       "      <td>2.5894</td>\n",
       "      <td>1.8111</td>\n",
       "      <td>6.9463</td>\n",
       "      <td>9.1658</td>\n",
       "      <td>11.1480</td>\n",
       "      <td>9.0714</td>\n",
       "      <td>...</td>\n",
       "      <td>4.0602</td>\n",
       "      <td>0.0000</td>\n",
       "      <td>9.4688</td>\n",
       "      <td>9.4035</td>\n",
       "      <td>8.1963</td>\n",
       "      <td>8.9048</td>\n",
       "      <td>7.4951</td>\n",
       "      <td>7.3306</td>\n",
       "      <td>8.4294</td>\n",
       "      <td>0.7025</td>\n",
       "    </tr>\n",
       "    <tr>\n",
       "      <th>TCGA.6D.AA2E</th>\n",
       "      <td>11.4613</td>\n",
       "      <td>3.4214</td>\n",
       "      <td>10.8787</td>\n",
       "      <td>7.7058</td>\n",
       "      <td>2.2563</td>\n",
       "      <td>7.0281</td>\n",
       "      <td>3.7455</td>\n",
       "      <td>9.1420</td>\n",
       "      <td>9.5394</td>\n",
       "      <td>9.8582</td>\n",
       "      <td>...</td>\n",
       "      <td>2.0834</td>\n",
       "      <td>0.0000</td>\n",
       "      <td>9.3340</td>\n",
       "      <td>8.3859</td>\n",
       "      <td>8.5528</td>\n",
       "      <td>8.6393</td>\n",
       "      <td>7.7926</td>\n",
       "      <td>5.9026</td>\n",
       "      <td>9.1267</td>\n",
       "      <td>0.0000</td>\n",
       "    </tr>\n",
       "    <tr>\n",
       "      <th>TCGA.A3.3357</th>\n",
       "      <td>11.5370</td>\n",
       "      <td>3.0013</td>\n",
       "      <td>11.2569</td>\n",
       "      <td>7.9381</td>\n",
       "      <td>2.3231</td>\n",
       "      <td>2.4162</td>\n",
       "      <td>6.9123</td>\n",
       "      <td>9.7619</td>\n",
       "      <td>8.5751</td>\n",
       "      <td>9.5013</td>\n",
       "      <td>...</td>\n",
       "      <td>5.1307</td>\n",
       "      <td>1.2232</td>\n",
       "      <td>9.6955</td>\n",
       "      <td>8.5877</td>\n",
       "      <td>8.6284</td>\n",
       "      <td>10.4866</td>\n",
       "      <td>9.0014</td>\n",
       "      <td>1.4159</td>\n",
       "      <td>7.8259</td>\n",
       "      <td>0.7375</td>\n",
       "    </tr>\n",
       "    <tr>\n",
       "      <th>TCGA.A3.3358</th>\n",
       "      <td>12.8086</td>\n",
       "      <td>5.4678</td>\n",
       "      <td>11.3485</td>\n",
       "      <td>7.7571</td>\n",
       "      <td>6.3198</td>\n",
       "      <td>3.0558</td>\n",
       "      <td>7.9439</td>\n",
       "      <td>9.7116</td>\n",
       "      <td>10.4098</td>\n",
       "      <td>9.1938</td>\n",
       "      <td>...</td>\n",
       "      <td>5.6061</td>\n",
       "      <td>0.0000</td>\n",
       "      <td>9.4742</td>\n",
       "      <td>9.8343</td>\n",
       "      <td>8.2560</td>\n",
       "      <td>8.7421</td>\n",
       "      <td>8.5275</td>\n",
       "      <td>2.6062</td>\n",
       "      <td>8.5423</td>\n",
       "      <td>0.0000</td>\n",
       "    </tr>\n",
       "    <tr>\n",
       "      <th>TCGA.A3.3367</th>\n",
       "      <td>11.8861</td>\n",
       "      <td>4.9567</td>\n",
       "      <td>11.4433</td>\n",
       "      <td>8.0568</td>\n",
       "      <td>6.7388</td>\n",
       "      <td>3.7628</td>\n",
       "      <td>6.8732</td>\n",
       "      <td>9.4332</td>\n",
       "      <td>10.6955</td>\n",
       "      <td>9.2851</td>\n",
       "      <td>...</td>\n",
       "      <td>5.6191</td>\n",
       "      <td>0.9411</td>\n",
       "      <td>9.8883</td>\n",
       "      <td>10.1633</td>\n",
       "      <td>8.6338</td>\n",
       "      <td>10.3339</td>\n",
       "      <td>8.8744</td>\n",
       "      <td>3.5144</td>\n",
       "      <td>8.4985</td>\n",
       "      <td>0.0000</td>\n",
       "    </tr>\n",
       "  </tbody>\n",
       "</table>\n",
       "<p>5 rows × 4785 columns</p>\n",
       "</div>"
      ],
      "text/plain": [
       "                ACTN1  ATP2A1   MAN1B1   NPHP4    MAEL   PROX1   NR5A2  \\\n",
       "TCGA.3Z.A93Z  11.0698  3.0921  11.7421  7.8134  2.5894  1.8111  6.9463   \n",
       "TCGA.6D.AA2E  11.4613  3.4214  10.8787  7.7058  2.2563  7.0281  3.7455   \n",
       "TCGA.A3.3357  11.5370  3.0013  11.2569  7.9381  2.3231  2.4162  6.9123   \n",
       "TCGA.A3.3358  12.8086  5.4678  11.3485  7.7571  6.3198  3.0558  7.9439   \n",
       "TCGA.A3.3367  11.8861  4.9567  11.4433  8.0568  6.7388  3.7628  6.8732   \n",
       "\n",
       "                ETV6   COL6A3   SLMAP  ...  KIF18A   STX19  CSTF2T     MRC1  \\\n",
       "TCGA.3Z.A93Z  9.1658  11.1480  9.0714  ...  4.0602  0.0000  9.4688   9.4035   \n",
       "TCGA.6D.AA2E  9.1420   9.5394  9.8582  ...  2.0834  0.0000  9.3340   8.3859   \n",
       "TCGA.A3.3357  9.7619   8.5751  9.5013  ...  5.1307  1.2232  9.6955   8.5877   \n",
       "TCGA.A3.3358  9.7116  10.4098  9.1938  ...  5.6061  0.0000  9.4742   9.8343   \n",
       "TCGA.A3.3367  9.4332  10.6955  9.2851  ...  5.6191  0.9411  9.8883  10.1633   \n",
       "\n",
       "              TRIM32    STON1  GTF3C4     OGN    ECM2  POU5F2  \n",
       "TCGA.3Z.A93Z  8.1963   8.9048  7.4951  7.3306  8.4294  0.7025  \n",
       "TCGA.6D.AA2E  8.5528   8.6393  7.7926  5.9026  9.1267  0.0000  \n",
       "TCGA.A3.3357  8.6284  10.4866  9.0014  1.4159  7.8259  0.7375  \n",
       "TCGA.A3.3358  8.2560   8.7421  8.5275  2.6062  8.5423  0.0000  \n",
       "TCGA.A3.3367  8.6338  10.3339  8.8744  3.5144  8.4985  0.0000  \n",
       "\n",
       "[5 rows x 4785 columns]"
      ]
     },
     "execution_count": 17,
     "metadata": {},
     "output_type": "execute_result"
    }
   ],
   "source": [
    "mrna_data.head()"
   ]
  },
  {
   "cell_type": "code",
   "execution_count": 18,
   "id": "6634ebb4-0b18-4e2b-8df0-27e86d55414a",
   "metadata": {
    "tags": []
   },
   "outputs": [
    {
     "data": {
      "text/html": [
       "<div>\n",
       "<style scoped>\n",
       "    .dataframe tbody tr th:only-of-type {\n",
       "        vertical-align: middle;\n",
       "    }\n",
       "\n",
       "    .dataframe tbody tr th {\n",
       "        vertical-align: top;\n",
       "    }\n",
       "\n",
       "    .dataframe thead th {\n",
       "        text-align: right;\n",
       "    }\n",
       "</style>\n",
       "<table border=\"1\" class=\"dataframe\">\n",
       "  <thead>\n",
       "    <tr style=\"text-align: right;\">\n",
       "      <th></th>\n",
       "      <th>protein1</th>\n",
       "      <th>protein2</th>\n",
       "      <th>combined_score</th>\n",
       "    </tr>\n",
       "  </thead>\n",
       "  <tbody>\n",
       "    <tr>\n",
       "      <th>4719</th>\n",
       "      <td>FUCA2</td>\n",
       "      <td>MPO</td>\n",
       "      <td>902</td>\n",
       "    </tr>\n",
       "    <tr>\n",
       "      <th>4721</th>\n",
       "      <td>FUCA2</td>\n",
       "      <td>HSP90B1</td>\n",
       "      <td>906</td>\n",
       "    </tr>\n",
       "    <tr>\n",
       "      <th>4723</th>\n",
       "      <td>FUCA2</td>\n",
       "      <td>C1GALT1</td>\n",
       "      <td>227</td>\n",
       "    </tr>\n",
       "    <tr>\n",
       "      <th>4725</th>\n",
       "      <td>FUCA2</td>\n",
       "      <td>GEMIN4</td>\n",
       "      <td>221</td>\n",
       "    </tr>\n",
       "    <tr>\n",
       "      <th>4728</th>\n",
       "      <td>FUCA2</td>\n",
       "      <td>DSN1</td>\n",
       "      <td>900</td>\n",
       "    </tr>\n",
       "  </tbody>\n",
       "</table>\n",
       "</div>"
      ],
      "text/plain": [
       "     protein1 protein2  combined_score\n",
       "4719    FUCA2      MPO             902\n",
       "4721    FUCA2  HSP90B1             906\n",
       "4723    FUCA2  C1GALT1             227\n",
       "4725    FUCA2   GEMIN4             221\n",
       "4728    FUCA2     DSN1             900"
      ]
     },
     "execution_count": 18,
     "metadata": {},
     "output_type": "execute_result"
    }
   ],
   "source": [
    "ppi_data.head()"
   ]
  },
  {
   "cell_type": "code",
   "execution_count": 42,
   "id": "71ae964b-aabf-41a9-a5c9-6072a5d90638",
   "metadata": {
    "tags": []
   },
   "outputs": [
    {
     "data": {
      "text/html": [
       "<div>\n",
       "<style scoped>\n",
       "    .dataframe tbody tr th:only-of-type {\n",
       "        vertical-align: middle;\n",
       "    }\n",
       "\n",
       "    .dataframe tbody tr th {\n",
       "        vertical-align: top;\n",
       "    }\n",
       "\n",
       "    .dataframe thead th {\n",
       "        text-align: right;\n",
       "    }\n",
       "</style>\n",
       "<table border=\"1\" class=\"dataframe\">\n",
       "  <thead>\n",
       "    <tr style=\"text-align: right;\">\n",
       "      <th></th>\n",
       "      <th>target</th>\n",
       "    </tr>\n",
       "  </thead>\n",
       "  <tbody>\n",
       "    <tr>\n",
       "      <th>TCGA.3Z.A93Z</th>\n",
       "      <td>1</td>\n",
       "    </tr>\n",
       "    <tr>\n",
       "      <th>TCGA.6D.AA2E</th>\n",
       "      <td>1</td>\n",
       "    </tr>\n",
       "    <tr>\n",
       "      <th>TCGA.A3.3357</th>\n",
       "      <td>1</td>\n",
       "    </tr>\n",
       "    <tr>\n",
       "      <th>TCGA.A3.3358</th>\n",
       "      <td>1</td>\n",
       "    </tr>\n",
       "    <tr>\n",
       "      <th>TCGA.A3.3367</th>\n",
       "      <td>1</td>\n",
       "    </tr>\n",
       "  </tbody>\n",
       "</table>\n",
       "</div>"
      ],
      "text/plain": [
       "              target\n",
       "TCGA.3Z.A93Z       1\n",
       "TCGA.6D.AA2E       1\n",
       "TCGA.A3.3357       1\n",
       "TCGA.A3.3358       1\n",
       "TCGA.A3.3367       1"
      ]
     },
     "execution_count": 42,
     "metadata": {},
     "output_type": "execute_result"
    }
   ],
   "source": [
    "# Transform target data\n",
    "target_t = target_data.T\n",
    "\n",
    "target_t.columns = ['target']\n",
    "\n",
    "target_t.head()"
   ]
  },
  {
   "cell_type": "code",
   "execution_count": 88,
   "id": "f693be1f-a3da-4d3a-b8fa-4ee547255216",
   "metadata": {
    "tags": []
   },
   "outputs": [
    {
     "name": "stdout",
     "output_type": "stream",
     "text": [
      "Series([], dtype: int64)\n"
     ]
    }
   ],
   "source": [
    "# Remove genes containing missing values in at least one patient\n",
    "methy_data_clean = methy_data.dropna(axis=1)\n",
    "mrna_data_clean = mrna_data.dropna(axis=1)\n",
    "\n",
    "# Early concatenation\n",
    "merged_data = pd.concat([methy_data_clean, mrna_data_clean], axis=1)\n",
    "\n",
    "# Check if cause NA\n",
    "missing_values_per_column = merged_data.isnull().sum()\n",
    "\n",
    "print(missing_values_per_column[missing_values_per_column > 0])\n"
   ]
  },
  {
   "cell_type": "code",
   "execution_count": 89,
   "id": "f2425bca-8211-403b-a231-0463c02546ee",
   "metadata": {
    "tags": []
   },
   "outputs": [],
   "source": [
    "# Min-Max Standerdization\n",
    "scaler = MinMaxScaler()\n",
    "scaled_data = scaler.fit_transform(merged_data)\n",
    "\n",
    "# Transform to DataFrame\n",
    "scaled_multiomic_data = pd.DataFrame(scaled_data, index=merged_data.index, columns=merged_data.columns)\n",
    "\n",
    "# Make sure the sample ID is consistent with the sample ID of the target data\n",
    "multiomics_data = scaled_multiomic_data.loc[target_t.index]"
   ]
  },
  {
   "cell_type": "code",
   "execution_count": 64,
   "id": "680a04e5-7c79-4e5b-bfc6-ebde657f0923",
   "metadata": {
    "tags": []
   },
   "outputs": [],
   "source": [
    "# Middle Integration \n",
    "scaler = MinMaxScaler()\n",
    "\n",
    "scaled_methy = scaler.fit_transform(methy_data_clean)\n",
    "scaled_mrna = scaler.fit_transform(mrna_data_clean)\n",
    "\n",
    "scaled_methy_df = pd.DataFrame(scaled_methy, index=methy_data_clean.index, columns=methy_data_clean.columns)\n",
    "scaled_mrna_df = pd.DataFrame(scaled_mrna, index=mrna_data_clean.index, columns=mrna_data_clean.columns)"
   ]
  },
  {
   "cell_type": "code",
   "execution_count": 81,
   "id": "a5df61ad-8b48-4eba-8776-471aee66cbc4",
   "metadata": {
    "tags": []
   },
   "outputs": [
    {
     "name": "stdout",
     "output_type": "stream",
     "text": [
      "Number of components for mRNA explaining 90% variance: 168\n"
     ]
    },
    {
     "data": {
      "image/png": "[encoded data removed]",
      "text/plain": [
       "<Figure size 640x480 with 1 Axes>"
      ]
     },
     "metadata": {},
     "output_type": "display_data"
    }
   ],
   "source": [
    "# Feature extraction for Middle Integration \n",
    "pca_mrna = PCA()\n",
    "pca_mrna.fit(scaled_mrna_df)\n",
    "\n",
    "explained_variance_ratio = pca_mrna.explained_variance_ratio_\n",
    "\n",
    "cumulative_explained_variance = np.cumsum(explained_variance_ratio)\n",
    "\n",
    "n_components_mrna = np.argmax(cumulative_explained_variance >= 0.90) + 1\n",
    "print(f\"Number of components for mRNA explaining 90% variance: {n_components_mrna}\")\n",
    "\n",
    "# Scree Plot mRNA\n",
    "plt.plot(np.arange(1, len(explained_variance_ratio) + 1), cumulative_explained_variance, marker='o', linestyle='--')\n",
    "plt.xlabel('Number of Principal Components')\n",
    "plt.ylabel('Cumulative Explained Variance')\n",
    "plt.title('Scree Plot - mRNA Data')\n",
    "plt.axhline(y=0.90, color='r', linestyle='-')  # 90% \n",
    "plt.show()"
   ]
  },
  {
   "cell_type": "code",
   "execution_count": 82,
   "id": "fc1a7ea0-fbf0-462c-a2f3-fa954abf69e9",
   "metadata": {
    "tags": []
   },
   "outputs": [
    {
     "name": "stdout",
     "output_type": "stream",
     "text": [
      "Number of components for Methylation explaining 90% variance: 106\n"
     ]
    },
    {
     "data": {
      "image/png": "[encoded data removed]",
      "text/plain": [
       "<Figure size 640x480 with 1 Axes>"
      ]
     },
     "metadata": {},
     "output_type": "display_data"
    }
   ],
   "source": [
    "pca_methy = PCA()\n",
    "pca_methy.fit(scaled_methy_df)\n",
    "\n",
    "explained_variance_ratio_methy = pca_methy.explained_variance_ratio_\n",
    "cumulative_explained_variance_methy = np.cumsum(explained_variance_ratio_methy)\n",
    "\n",
    "n_components_methy = np.argmax(cumulative_explained_variance_methy >= 0.90) + 1\n",
    "print(f\"Number of components for Methylation explaining 90% variance: {n_components_methy}\")\n",
    "\n",
    "# Scree Plot for methylation data\n",
    "plt.plot(np.arange(1, len(explained_variance_ratio_methy) + 1), cumulative_explained_variance_methy, marker='o', linestyle='--')\n",
    "plt.xlabel('Number of Principal Components')\n",
    "plt.ylabel('Cumulative Explained Variance')\n",
    "plt.title('Scree Plot - Methylation Data')\n",
    "plt.axhline(y=0.90, color='r', linestyle='-')  \n",
    "plt.show()"
   ]
  },
  {
   "cell_type": "code",
   "execution_count": 86,
   "id": "4fef13c2-fe49-411b-8b2e-7f6605b2d765",
   "metadata": {
    "tags": []
   },
   "outputs": [
    {
     "name": "stdout",
     "output_type": "stream",
     "text": [
      "Original mRNA shape: (506, 4785)\n",
      "Reduced mRNA shape: (506, 168)\n",
      "Original Methylation shape: (506, 4785)\n",
      "Reduced Methylation shape: (506, 106)\n"
     ]
    }
   ],
   "source": [
    "# Apply PCA to mRNA & methylation data\n",
    "pca_mrna = PCA(n_components=n_components_mrna)\n",
    "mrna_reduced = pca_mrna.fit_transform(scaled_mrna_df)\n",
    "\n",
    "pca_methy = PCA(n_components=n_components_methy)\n",
    "methy_reduced = pca_methy.fit_transform(scaled_methy_df)\n",
    "\n",
    "print(f\"Original mRNA shape: {mrna_data.shape}\")\n",
    "print(f\"Reduced mRNA shape: {mrna_reduced.shape}\")\n",
    "print(f\"Original Methylation shape: {methy_data.shape}\")\n",
    "print(f\"Reduced Methylation shape: {methy_reduced.shape}\")"
   ]
  },
  {
   "cell_type": "code",
   "execution_count": 87,
   "id": "3c0f7aeb-bcef-4376-a6de-8683fc8f2042",
   "metadata": {
    "tags": []
   },
   "outputs": [],
   "source": [
    "reducted_multiomics_data = np.concatenate([mrna_reduced, methy_reduced], axis=1)"
   ]
  },
  {
   "cell_type": "code",
   "execution_count": 154,
   "id": "19882391-eca1-4490-b608-06a615450809",
   "metadata": {
    "tags": []
   },
   "outputs": [
    {
     "name": "stderr",
     "output_type": "stream",
     "text": [
      "/Users/jasonliu/anaconda3/lib/python3.11/site-packages/keras/src/layers/core/dense.py:88: UserWarning: Do not pass an `input_shape`/`input_dim` argument to a layer. When using Sequential models, prefer using an `Input(shape)` object as the first layer in the model instead.\n",
      "  super().__init__(activity_regularizer=activity_regularizer, **kwargs)\n"
     ]
    },
    {
     "name": "stdout",
     "output_type": "stream",
     "text": [
      "Epoch 1/50\n",
      "\u001b[1m13/13\u001b[0m \u001b[32m━━━━━━━━━━━━━━━━━━━━\u001b[0m\u001b[37m\u001b[0m \u001b[1m1s\u001b[0m 28ms/step - accuracy: 0.6526 - loss: 0.6923 - val_accuracy: 0.9020 - val_loss: 0.3152\n",
      "Epoch 2/50\n",
      "\u001b[1m13/13\u001b[0m \u001b[32m━━━━━━━━━━━━━━━━━━━━\u001b[0m\u001b[37m\u001b[0m \u001b[1m0s\u001b[0m 15ms/step - accuracy: 0.8336 - loss: 0.5165 - val_accuracy: 0.9020 - val_loss: 0.2481\n",
      "Epoch 3/50\n",
      "\u001b[1m13/13\u001b[0m \u001b[32m━━━━━━━━━━━━━━━━━━━━\u001b[0m\u001b[37m\u001b[0m \u001b[1m0s\u001b[0m 11ms/step - accuracy: 0.8600 - loss: 0.3750 - val_accuracy: 0.9020 - val_loss: 0.2468\n",
      "Epoch 4/50\n",
      "\u001b[1m13/13\u001b[0m \u001b[32m━━━━━━━━━━━━━━━━━━━━\u001b[0m\u001b[37m\u001b[0m \u001b[1m0s\u001b[0m 12ms/step - accuracy: 0.8899 - loss: 0.3347 - val_accuracy: 0.9020 - val_loss: 0.2418\n",
      "Epoch 5/50\n",
      "\u001b[1m13/13\u001b[0m \u001b[32m━━━━━━━━━━━━━━━━━━━━\u001b[0m\u001b[37m\u001b[0m \u001b[1m0s\u001b[0m 9ms/step - accuracy: 0.8745 - loss: 0.3376 - val_accuracy: 0.9020 - val_loss: 0.2261\n",
      "Epoch 6/50\n",
      "\u001b[1m13/13\u001b[0m \u001b[32m━━━━━━━━━━━━━━━━━━━━\u001b[0m\u001b[37m\u001b[0m \u001b[1m0s\u001b[0m 10ms/step - accuracy: 0.8794 - loss: 0.3110 - val_accuracy: 0.9020 - val_loss: 0.2276\n",
      "Epoch 7/50\n",
      "\u001b[1m13/13\u001b[0m \u001b[32m━━━━━━━━━━━━━━━━━━━━\u001b[0m\u001b[37m\u001b[0m \u001b[1m0s\u001b[0m 10ms/step - accuracy: 0.8915 - loss: 0.3302 - val_accuracy: 0.9020 - val_loss: 0.2280\n",
      "Epoch 8/50\n",
      "\u001b[1m13/13\u001b[0m \u001b[32m━━━━━━━━━━━━━━━━━━━━\u001b[0m\u001b[37m\u001b[0m \u001b[1m0s\u001b[0m 9ms/step - accuracy: 0.8733 - loss: 0.3854 - val_accuracy: 0.9020 - val_loss: 0.2406\n",
      "Epoch 9/50\n",
      "\u001b[1m13/13\u001b[0m \u001b[32m━━━━━━━━━━━━━━━━━━━━\u001b[0m\u001b[37m\u001b[0m \u001b[1m0s\u001b[0m 11ms/step - accuracy: 0.8901 - loss: 0.3399 - val_accuracy: 0.9020 - val_loss: 0.2349\n",
      "Epoch 10/50\n",
      "\u001b[1m13/13\u001b[0m \u001b[32m━━━━━━━━━━━━━━━━━━━━\u001b[0m\u001b[37m\u001b[0m \u001b[1m0s\u001b[0m 13ms/step - accuracy: 0.9171 - loss: 0.2982 - val_accuracy: 0.9020 - val_loss: 0.2535\n",
      "Epoch 11/50\n",
      "\u001b[1m13/13\u001b[0m \u001b[32m━━━━━━━━━━━━━━━━━━━━\u001b[0m\u001b[37m\u001b[0m \u001b[1m0s\u001b[0m 9ms/step - accuracy: 0.9156 - loss: 0.2685 - val_accuracy: 0.9020 - val_loss: 0.2450\n",
      "Epoch 12/50\n",
      "\u001b[1m13/13\u001b[0m \u001b[32m━━━━━━━━━━━━━━━━━━━━\u001b[0m\u001b[37m\u001b[0m \u001b[1m0s\u001b[0m 10ms/step - accuracy: 0.8820 - loss: 0.3191 - val_accuracy: 0.9020 - val_loss: 0.2737\n",
      "Epoch 13/50\n",
      "\u001b[1m13/13\u001b[0m \u001b[32m━━━━━━━━━━━━━━━━━━━━\u001b[0m\u001b[37m\u001b[0m \u001b[1m0s\u001b[0m 10ms/step - accuracy: 0.9125 - loss: 0.2811 - val_accuracy: 0.9020 - val_loss: 0.2388\n",
      "Epoch 14/50\n",
      "\u001b[1m13/13\u001b[0m \u001b[32m━━━━━━━━━━━━━━━━━━━━\u001b[0m\u001b[37m\u001b[0m \u001b[1m0s\u001b[0m 10ms/step - accuracy: 0.9036 - loss: 0.3001 - val_accuracy: 0.9020 - val_loss: 0.2631\n",
      "Epoch 15/50\n",
      "\u001b[1m13/13\u001b[0m \u001b[32m━━━━━━━━━━━━━━━━━━━━\u001b[0m\u001b[37m\u001b[0m \u001b[1m0s\u001b[0m 10ms/step - accuracy: 0.8717 - loss: 0.3284 - val_accuracy: 0.9020 - val_loss: 0.2356\n",
      "Epoch 16/50\n",
      "\u001b[1m13/13\u001b[0m \u001b[32m━━━━━━━━━━━━━━━━━━━━\u001b[0m\u001b[37m\u001b[0m \u001b[1m0s\u001b[0m 10ms/step - accuracy: 0.8737 - loss: 0.3800 - val_accuracy: 0.9020 - val_loss: 0.2510\n",
      "Epoch 17/50\n",
      "\u001b[1m13/13\u001b[0m \u001b[32m━━━━━━━━━━━━━━━━━━━━\u001b[0m\u001b[37m\u001b[0m \u001b[1m0s\u001b[0m 10ms/step - accuracy: 0.8857 - loss: 0.3492 - val_accuracy: 0.9020 - val_loss: 0.2552\n",
      "Epoch 18/50\n",
      "\u001b[1m13/13\u001b[0m \u001b[32m━━━━━━━━━━━━━━━━━━━━\u001b[0m\u001b[37m\u001b[0m \u001b[1m0s\u001b[0m 10ms/step - accuracy: 0.9057 - loss: 0.2844 - val_accuracy: 0.9020 - val_loss: 0.2983\n",
      "Epoch 19/50\n",
      "\u001b[1m13/13\u001b[0m \u001b[32m━━━━━━━━━━━━━━━━━━━━\u001b[0m\u001b[37m\u001b[0m \u001b[1m0s\u001b[0m 10ms/step - accuracy: 0.8892 - loss: 0.3207 - val_accuracy: 0.9020 - val_loss: 0.2634\n",
      "Epoch 20/50\n",
      "\u001b[1m13/13\u001b[0m \u001b[32m━━━━━━━━━━━━━━━━━━━━\u001b[0m\u001b[37m\u001b[0m \u001b[1m0s\u001b[0m 10ms/step - accuracy: 0.8870 - loss: 0.3145 - val_accuracy: 0.9020 - val_loss: 0.2929\n",
      "Epoch 21/50\n",
      "\u001b[1m13/13\u001b[0m \u001b[32m━━━━━━━━━━━━━━━━━━━━\u001b[0m\u001b[37m\u001b[0m \u001b[1m0s\u001b[0m 10ms/step - accuracy: 0.8850 - loss: 0.3181 - val_accuracy: 0.9020 - val_loss: 0.2598\n",
      "Epoch 22/50\n",
      "\u001b[1m13/13\u001b[0m \u001b[32m━━━━━━━━━━━━━━━━━━━━\u001b[0m\u001b[37m\u001b[0m \u001b[1m0s\u001b[0m 10ms/step - accuracy: 0.8959 - loss: 0.3344 - val_accuracy: 0.9020 - val_loss: 0.2255\n",
      "Epoch 23/50\n",
      "\u001b[1m13/13\u001b[0m \u001b[32m━━━━━━━━━━━━━━━━━━━━\u001b[0m\u001b[37m\u001b[0m \u001b[1m0s\u001b[0m 10ms/step - accuracy: 0.8804 - loss: 0.3215 - val_accuracy: 0.9020 - val_loss: 0.2315\n",
      "Epoch 24/50\n",
      "\u001b[1m13/13\u001b[0m \u001b[32m━━━━━━━━━━━━━━━━━━━━\u001b[0m\u001b[37m\u001b[0m \u001b[1m0s\u001b[0m 10ms/step - accuracy: 0.8939 - loss: 0.3142 - val_accuracy: 0.9020 - val_loss: 0.2369\n",
      "Epoch 25/50\n",
      "\u001b[1m13/13\u001b[0m \u001b[32m━━━━━━━━━━━━━━━━━━━━\u001b[0m\u001b[37m\u001b[0m \u001b[1m0s\u001b[0m 10ms/step - accuracy: 0.9169 - loss: 0.2505 - val_accuracy: 0.9020 - val_loss: 0.2548\n",
      "Epoch 26/50\n",
      "\u001b[1m13/13\u001b[0m \u001b[32m━━━━━━━━━━━━━━━━━━━━\u001b[0m\u001b[37m\u001b[0m \u001b[1m0s\u001b[0m 10ms/step - accuracy: 0.8975 - loss: 0.3043 - val_accuracy: 0.9020 - val_loss: 0.2322\n",
      "Epoch 27/50\n",
      "\u001b[1m13/13\u001b[0m \u001b[32m━━━━━━━━━━━━━━━━━━━━\u001b[0m\u001b[37m\u001b[0m \u001b[1m0s\u001b[0m 10ms/step - accuracy: 0.9004 - loss: 0.2907 - val_accuracy: 0.9020 - val_loss: 0.2365\n",
      "Epoch 28/50\n",
      "\u001b[1m13/13\u001b[0m \u001b[32m━━━━━━━━━━━━━━━━━━━━\u001b[0m\u001b[37m\u001b[0m \u001b[1m0s\u001b[0m 10ms/step - accuracy: 0.8951 - loss: 0.2962 - val_accuracy: 0.9020 - val_loss: 0.2471\n",
      "Epoch 29/50\n",
      "\u001b[1m13/13\u001b[0m \u001b[32m━━━━━━━━━━━━━━━━━━━━\u001b[0m\u001b[37m\u001b[0m \u001b[1m0s\u001b[0m 10ms/step - accuracy: 0.8748 - loss: 0.3360 - val_accuracy: 0.9020 - val_loss: 0.2336\n",
      "Epoch 30/50\n",
      "\u001b[1m13/13\u001b[0m \u001b[32m━━━━━━━━━━━━━━━━━━━━\u001b[0m\u001b[37m\u001b[0m \u001b[1m0s\u001b[0m 10ms/step - accuracy: 0.9018 - loss: 0.2821 - val_accuracy: 0.9020 - val_loss: 0.2676\n",
      "Epoch 31/50\n",
      "\u001b[1m13/13\u001b[0m \u001b[32m━━━━━━━━━━━━━━━━━━━━\u001b[0m\u001b[37m\u001b[0m \u001b[1m0s\u001b[0m 10ms/step - accuracy: 0.8901 - loss: 0.3069 - val_accuracy: 0.9020 - val_loss: 0.2312\n",
      "Epoch 32/50\n",
      "\u001b[1m13/13\u001b[0m \u001b[32m━━━━━━━━━━━━━━━━━━━━\u001b[0m\u001b[37m\u001b[0m \u001b[1m0s\u001b[0m 10ms/step - accuracy: 0.8961 - loss: 0.3097 - val_accuracy: 0.9020 - val_loss: 0.2475\n",
      "Epoch 33/50\n",
      "\u001b[1m13/13\u001b[0m \u001b[32m━━━━━━━━━━━━━━━━━━━━\u001b[0m\u001b[37m\u001b[0m \u001b[1m0s\u001b[0m 10ms/step - accuracy: 0.8815 - loss: 0.3202 - val_accuracy: 0.9020 - val_loss: 0.2394\n",
      "Epoch 34/50\n",
      "\u001b[1m13/13\u001b[0m \u001b[32m━━━━━━━━━━━━━━━━━━━━\u001b[0m\u001b[37m\u001b[0m \u001b[1m0s\u001b[0m 11ms/step - accuracy: 0.8664 - loss: 0.3320 - val_accuracy: 0.9020 - val_loss: 0.2333\n",
      "Epoch 35/50\n",
      "\u001b[1m13/13\u001b[0m \u001b[32m━━━━━━━━━━━━━━━━━━━━\u001b[0m\u001b[37m\u001b[0m \u001b[1m0s\u001b[0m 11ms/step - accuracy: 0.8891 - loss: 0.3078 - val_accuracy: 0.9020 - val_loss: 0.2531\n",
      "Epoch 36/50\n",
      "\u001b[1m13/13\u001b[0m \u001b[32m━━━━━━━━━━━━━━━━━━━━\u001b[0m\u001b[37m\u001b[0m \u001b[1m0s\u001b[0m 10ms/step - accuracy: 0.8956 - loss: 0.3146 - val_accuracy: 0.9020 - val_loss: 0.2643\n",
      "Epoch 37/50\n",
      "\u001b[1m13/13\u001b[0m \u001b[32m━━━━━━━━━━━━━━━━━━━━\u001b[0m\u001b[37m\u001b[0m \u001b[1m0s\u001b[0m 11ms/step - accuracy: 0.9068 - loss: 0.2658 - val_accuracy: 0.9020 - val_loss: 0.2442\n",
      "Epoch 38/50\n",
      "\u001b[1m13/13\u001b[0m \u001b[32m━━━━━━━━━━━━━━━━━━━━\u001b[0m\u001b[37m\u001b[0m \u001b[1m0s\u001b[0m 9ms/step - accuracy: 0.8912 - loss: 0.2930 - val_accuracy: 0.9020 - val_loss: 0.2454\n",
      "Epoch 39/50\n",
      "\u001b[1m13/13\u001b[0m \u001b[32m━━━━━━━━━━━━━━━━━━━━\u001b[0m\u001b[37m\u001b[0m \u001b[1m0s\u001b[0m 11ms/step - accuracy: 0.8862 - loss: 0.2853 - val_accuracy: 0.9020 - val_loss: 0.2467\n",
      "Epoch 40/50\n",
      "\u001b[1m13/13\u001b[0m \u001b[32m━━━━━━━━━━━━━━━━━━━━\u001b[0m\u001b[37m\u001b[0m \u001b[1m0s\u001b[0m 10ms/step - accuracy: 0.9106 - loss: 0.2525 - val_accuracy: 0.9020 - val_loss: 0.2602\n",
      "Epoch 41/50\n",
      "\u001b[1m13/13\u001b[0m \u001b[32m━━━━━━━━━━━━━━━━━━━━\u001b[0m\u001b[37m\u001b[0m \u001b[1m0s\u001b[0m 11ms/step - accuracy: 0.8943 - loss: 0.2767 - val_accuracy: 0.9020 - val_loss: 0.2575\n",
      "Epoch 42/50\n",
      "\u001b[1m13/13\u001b[0m \u001b[32m━━━━━━━━━━━━━━━━━━━━\u001b[0m\u001b[37m\u001b[0m \u001b[1m0s\u001b[0m 12ms/step - accuracy: 0.9141 - loss: 0.2341 - val_accuracy: 0.9020 - val_loss: 0.2658\n",
      "Epoch 43/50\n",
      "\u001b[1m13/13\u001b[0m \u001b[32m━━━━━━━━━━━━━━━━━━━━\u001b[0m\u001b[37m\u001b[0m \u001b[1m0s\u001b[0m 10ms/step - accuracy: 0.9216 - loss: 0.2360 - val_accuracy: 0.9020 - val_loss: 0.2852\n",
      "Epoch 44/50\n",
      "\u001b[1m13/13\u001b[0m \u001b[32m━━━━━━━━━━━━━━━━━━━━\u001b[0m\u001b[37m\u001b[0m \u001b[1m0s\u001b[0m 12ms/step - accuracy: 0.9133 - loss: 0.2461 - val_accuracy: 0.9020 - val_loss: 0.2639\n",
      "Epoch 45/50\n",
      "\u001b[1m13/13\u001b[0m \u001b[32m━━━━━━━━━━━━━━━━━━━━\u001b[0m\u001b[37m\u001b[0m \u001b[1m0s\u001b[0m 11ms/step - accuracy: 0.8891 - loss: 0.2572 - val_accuracy: 0.9020 - val_loss: 0.2606\n",
      "Epoch 46/50\n",
      "\u001b[1m13/13\u001b[0m \u001b[32m━━━━━━━━━━━━━━━━━━━━\u001b[0m\u001b[37m\u001b[0m \u001b[1m0s\u001b[0m 11ms/step - accuracy: 0.9140 - loss: 0.2267 - val_accuracy: 0.9020 - val_loss: 0.2613\n",
      "Epoch 47/50\n",
      "\u001b[1m13/13\u001b[0m \u001b[32m━━━━━━━━━━━━━━━━━━━━\u001b[0m\u001b[37m\u001b[0m \u001b[1m0s\u001b[0m 13ms/step - accuracy: 0.8873 - loss: 0.2644 - val_accuracy: 0.9020 - val_loss: 0.2886\n",
      "Epoch 48/50\n",
      "\u001b[1m13/13\u001b[0m \u001b[32m━━━━━━━━━━━━━━━━━━━━\u001b[0m\u001b[37m\u001b[0m \u001b[1m0s\u001b[0m 10ms/step - accuracy: 0.8902 - loss: 0.2689 - val_accuracy: 0.9020 - val_loss: 0.2747\n",
      "Epoch 49/50\n",
      "\u001b[1m13/13\u001b[0m \u001b[32m━━━━━━━━━━━━━━━━━━━━\u001b[0m\u001b[37m\u001b[0m \u001b[1m0s\u001b[0m 14ms/step - accuracy: 0.8911 - loss: 0.2485 - val_accuracy: 0.9020 - val_loss: 0.2740\n",
      "Epoch 50/50\n",
      "\u001b[1m13/13\u001b[0m \u001b[32m━━━━━━━━━━━━━━━━━━━━\u001b[0m\u001b[37m\u001b[0m \u001b[1m0s\u001b[0m 12ms/step - accuracy: 0.8864 - loss: 0.2346 - val_accuracy: 0.9020 - val_loss: 0.2955\n",
      "\u001b[1m4/4\u001b[0m \u001b[32m━━━━━━━━━━━━━━━━━━━━\u001b[0m\u001b[37m\u001b[0m \u001b[1m0s\u001b[0m 3ms/step - accuracy: 0.9087 - loss: 0.3085 \n"
     ]
    }
   ],
   "source": [
    "# Early Integration data\n",
    "# Split into 80% training & 20% testing\n",
    "X_train_early, X_test_early, y_train_early, y_test_early = train_test_split(multiomics_data, target_t['target'], test_size=0.2, random_state=42)\n",
    "\n",
    "# Define stratified k-fold cross-validation\n",
    "skf = StratifiedKFold(n_splits=5, shuffle=True, random_state=42)\n",
    "\n",
    "# Random Forest Model for Early Integration\n",
    "rf_model_early = RandomForestClassifier(n_estimators=100, random_state=42)\n",
    "\n",
    "# SVM model using RBF kernel for Early Integration\n",
    "svm_model_early = SVC(kernel='rbf', random_state=42)\n",
    "\n",
    "# Build the MLP model for Early Integration\n",
    "mlp_model_early = Sequential()\n",
    "\n",
    "# Input layer for Early Integration (assuming input features have the dimension X_train_early.shape[1])\n",
    "mlp_model_early.add(Dense(128, input_dim=X_train_early.shape[1], activation='relu'))\n",
    "# Hidden layers for Early Integration\n",
    "mlp_model_early.add(Dense(64, activation='relu'))\n",
    "mlp_model_early.add(Dropout(0.5))  # Add Dropout to prevent overfitting\n",
    "mlp_model_early.add(Dense(32, activation='relu'))\n",
    "# Output layer for Early Integration\n",
    "mlp_model_early.add(Dense(1, activation='sigmoid'))\n",
    "\n",
    "# Compile the MLP model for Early Integration\n",
    "mlp_model_early.compile(optimizer=Adam(learning_rate=0.001), loss='binary_crossentropy', metrics=['accuracy'])\n",
    "\n",
    "# Train Models for Early Integration\n",
    "rf_model_early.fit(X_train_early, y_train_early)\n",
    "svm_model_early.fit(X_train_early, y_train_early)\n",
    "history_early = mlp_model_early.fit(X_train_early, y_train_early, epochs=50, batch_size=32, validation_data=(X_test_early, y_test_early))\n",
    "\n",
    "# Predict and evaluate for Early Integration\n",
    "y_pred_rf_early = rf_model_early.predict(X_test_early)\n",
    "accuracy_rf_early = accuracy_score(y_test_early, y_pred_rf_early)\n",
    "\n",
    "y_pred_svm_early = svm_model_early.predict(X_test_early)\n",
    "accuracy_svm_early = accuracy_score(y_test_early, y_pred_svm_early)\n",
    "\n",
    "loss_early, accuracy_mlp_early = mlp_model_early.evaluate(X_test_early, y_test_early)\n"
   ]
  },
  {
   "cell_type": "code",
   "execution_count": 107,
   "id": "233a7155-b7a4-4730-a80f-9b1d613defe1",
   "metadata": {
    "tags": []
   },
   "outputs": [
    {
     "name": "stdout",
     "output_type": "stream",
     "text": [
      "SVM CV Accuracy: 0.8972 (+/- 0.0196)\n",
      "Random Forest CV Accuracy: 0.8182 (+/- 0.0203)\n"
     ]
    }
   ],
   "source": [
    "# Cross-validation for Random Forest model\n",
    "rf_cv_scores = cross_val_score(rf_model_early, multiomics_data, target_t['target'], cv=skf, scoring='accuracy')\n",
    "\n",
    "# Cross-validation for SVM model\n",
    "svm_cv_scores = cross_val_score(svm_model_early, multiomics_data, target_t['target'], cv=skf, scoring='accuracy')\n",
    "\n",
    "print(f\"SVM CV Accuracy: {svm_cv_scores.mean():.4f} (+/- {svm_cv_scores.std():.4f})\")\n",
    "print(f\"Random Forest CV Accuracy: {rf_cv_scores.mean():.4f} (+/- {rf_cv_scores.std():.4f})\")"
   ]
  },
  {
   "cell_type": "code",
   "execution_count": 148,
   "id": "23b3b1ec-70d0-4679-9078-6b3717598cf1",
   "metadata": {
    "tags": []
   },
   "outputs": [
    {
     "name": "stderr",
     "output_type": "stream",
     "text": [
      "/Users/jasonliu/anaconda3/lib/python3.11/site-packages/keras/src/layers/convolutional/base_conv.py:99: UserWarning: Do not pass an `input_shape`/`input_dim` argument to a layer. When using Sequential models, prefer using an `Input(shape)` object as the first layer in the model instead.\n",
      "  super().__init__(\n"
     ]
    },
    {
     "name": "stdout",
     "output_type": "stream",
     "text": [
      "Epoch 1/30\n",
      "\u001b[1m13/13\u001b[0m \u001b[32m━━━━━━━━━━━━━━━━━━━━\u001b[0m\u001b[37m\u001b[0m \u001b[1m16s\u001b[0m 1s/step - accuracy: 0.5751 - loss: 2.3202 - val_accuracy: 0.8922 - val_loss: 0.5403\n",
      "Epoch 2/30\n",
      "\u001b[1m13/13\u001b[0m \u001b[32m━━━━━━━━━━━━━━━━━━━━\u001b[0m\u001b[37m\u001b[0m \u001b[1m13s\u001b[0m 1s/step - accuracy: 0.7506 - loss: 0.5368 - val_accuracy: 0.9020 - val_loss: 0.4064\n",
      "Epoch 3/30\n",
      "\u001b[1m13/13\u001b[0m \u001b[32m━━━━━━━━━━━━━━━━━━━━\u001b[0m\u001b[37m\u001b[0m \u001b[1m12s\u001b[0m 933ms/step - accuracy: 0.8641 - loss: 0.3830 - val_accuracy: 0.8922 - val_loss: 0.2659\n",
      "Epoch 4/30\n",
      "\u001b[1m13/13\u001b[0m \u001b[32m━━━━━━━━━━━━━━━━━━━━\u001b[0m\u001b[37m\u001b[0m \u001b[1m12s\u001b[0m 950ms/step - accuracy: 0.8757 - loss: 0.3714 - val_accuracy: 0.8922 - val_loss: 0.2435\n",
      "Epoch 5/30\n",
      "\u001b[1m13/13\u001b[0m \u001b[32m━━━━━━━━━━━━━━━━━━━━\u001b[0m\u001b[37m\u001b[0m \u001b[1m12s\u001b[0m 932ms/step - accuracy: 0.9090 - loss: 0.3054 - val_accuracy: 0.9020 - val_loss: 0.2579\n",
      "Epoch 6/30\n",
      "\u001b[1m13/13\u001b[0m \u001b[32m━━━━━━━━━━━━━━━━━━━━\u001b[0m\u001b[37m\u001b[0m \u001b[1m12s\u001b[0m 958ms/step - accuracy: 0.8817 - loss: 0.3537 - val_accuracy: 0.8922 - val_loss: 0.2406\n",
      "Epoch 7/30\n",
      "\u001b[1m13/13\u001b[0m \u001b[32m━━━━━━━━━━━━━━━━━━━━\u001b[0m\u001b[37m\u001b[0m \u001b[1m12s\u001b[0m 892ms/step - accuracy: 0.8958 - loss: 0.3172 - val_accuracy: 0.8922 - val_loss: 0.2600\n",
      "Epoch 8/30\n",
      "\u001b[1m13/13\u001b[0m \u001b[32m━━━━━━━━━━━━━━━━━━━━\u001b[0m\u001b[37m\u001b[0m \u001b[1m12s\u001b[0m 907ms/step - accuracy: 0.8920 - loss: 0.3073 - val_accuracy: 0.9020 - val_loss: 0.2364\n",
      "Epoch 9/30\n",
      "\u001b[1m13/13\u001b[0m \u001b[32m━━━━━━━━━━━━━━━━━━━━\u001b[0m\u001b[37m\u001b[0m \u001b[1m12s\u001b[0m 897ms/step - accuracy: 0.8900 - loss: 0.3286 - val_accuracy: 0.8922 - val_loss: 0.2386\n",
      "Epoch 10/30\n",
      "\u001b[1m13/13\u001b[0m \u001b[32m━━━━━━━━━━━━━━━━━━━━\u001b[0m\u001b[37m\u001b[0m \u001b[1m12s\u001b[0m 901ms/step - accuracy: 0.8888 - loss: 0.3117 - val_accuracy: 0.9020 - val_loss: 0.2383\n",
      "Epoch 11/30\n",
      "\u001b[1m13/13\u001b[0m \u001b[32m━━━━━━━━━━━━━━━━━━━━\u001b[0m\u001b[37m\u001b[0m \u001b[1m12s\u001b[0m 911ms/step - accuracy: 0.8865 - loss: 0.3220 - val_accuracy: 0.9020 - val_loss: 0.2370\n",
      "Epoch 12/30\n",
      "\u001b[1m13/13\u001b[0m \u001b[32m━━━━━━━━━━━━━━━━━━━━\u001b[0m\u001b[37m\u001b[0m \u001b[1m12s\u001b[0m 892ms/step - accuracy: 0.8986 - loss: 0.2874 - val_accuracy: 0.9020 - val_loss: 0.2365\n",
      "Epoch 13/30\n",
      "\u001b[1m13/13\u001b[0m \u001b[32m━━━━━━━━━━━━━━━━━━━━\u001b[0m\u001b[37m\u001b[0m \u001b[1m11s\u001b[0m 872ms/step - accuracy: 0.9112 - loss: 0.2633 - val_accuracy: 0.9020 - val_loss: 0.2414\n",
      "Epoch 14/30\n",
      "\u001b[1m13/13\u001b[0m \u001b[32m━━━━━━━━━━━━━━━━━━━━\u001b[0m\u001b[37m\u001b[0m \u001b[1m12s\u001b[0m 888ms/step - accuracy: 0.8691 - loss: 0.3265 - val_accuracy: 0.9020 - val_loss: 0.2434\n",
      "Epoch 15/30\n",
      "\u001b[1m13/13\u001b[0m \u001b[32m━━━━━━━━━━━━━━━━━━━━\u001b[0m\u001b[37m\u001b[0m \u001b[1m11s\u001b[0m 885ms/step - accuracy: 0.8907 - loss: 0.3120 - val_accuracy: 0.9020 - val_loss: 0.2544\n",
      "Epoch 16/30\n",
      "\u001b[1m13/13\u001b[0m \u001b[32m━━━━━━━━━━━━━━━━━━━━\u001b[0m\u001b[37m\u001b[0m \u001b[1m12s\u001b[0m 916ms/step - accuracy: 0.8940 - loss: 0.3025 - val_accuracy: 0.9020 - val_loss: 0.2390\n",
      "Epoch 17/30\n",
      "\u001b[1m13/13\u001b[0m \u001b[32m━━━━━━━━━━━━━━━━━━━━\u001b[0m\u001b[37m\u001b[0m \u001b[1m12s\u001b[0m 892ms/step - accuracy: 0.9041 - loss: 0.2677 - val_accuracy: 0.9020 - val_loss: 0.2436\n",
      "Epoch 18/30\n",
      "\u001b[1m13/13\u001b[0m \u001b[32m━━━━━━━━━━━━━━━━━━━━\u001b[0m\u001b[37m\u001b[0m \u001b[1m12s\u001b[0m 885ms/step - accuracy: 0.9031 - loss: 0.2855 - val_accuracy: 0.9020 - val_loss: 0.2488\n",
      "Epoch 19/30\n",
      "\u001b[1m13/13\u001b[0m \u001b[32m━━━━━━━━━━━━━━━━━━━━\u001b[0m\u001b[37m\u001b[0m \u001b[1m12s\u001b[0m 884ms/step - accuracy: 0.9021 - loss: 0.2707 - val_accuracy: 0.9020 - val_loss: 0.2456\n",
      "Epoch 20/30\n",
      "\u001b[1m13/13\u001b[0m \u001b[32m━━━━━━━━━━━━━━━━━━━━\u001b[0m\u001b[37m\u001b[0m \u001b[1m12s\u001b[0m 944ms/step - accuracy: 0.8865 - loss: 0.2951 - val_accuracy: 0.9020 - val_loss: 0.2659\n",
      "Epoch 21/30\n",
      "\u001b[1m13/13\u001b[0m \u001b[32m━━━━━━━━━━━━━━━━━━━━\u001b[0m\u001b[37m\u001b[0m \u001b[1m11s\u001b[0m 881ms/step - accuracy: 0.8893 - loss: 0.3011 - val_accuracy: 0.9020 - val_loss: 0.2478\n",
      "Epoch 22/30\n",
      "\u001b[1m13/13\u001b[0m \u001b[32m━━━━━━━━━━━━━━━━━━━━\u001b[0m\u001b[37m\u001b[0m \u001b[1m12s\u001b[0m 899ms/step - accuracy: 0.8878 - loss: 0.2804 - val_accuracy: 0.9020 - val_loss: 0.2577\n",
      "Epoch 23/30\n",
      "\u001b[1m13/13\u001b[0m \u001b[32m━━━━━━━━━━━━━━━━━━━━\u001b[0m\u001b[37m\u001b[0m \u001b[1m11s\u001b[0m 883ms/step - accuracy: 0.8948 - loss: 0.2825 - val_accuracy: 0.9020 - val_loss: 0.2587\n",
      "Epoch 24/30\n",
      "\u001b[1m13/13\u001b[0m \u001b[32m━━━━━━━━━━━━━━━━━━━━\u001b[0m\u001b[37m\u001b[0m \u001b[1m12s\u001b[0m 892ms/step - accuracy: 0.8846 - loss: 0.2971 - val_accuracy: 0.9020 - val_loss: 0.2718\n",
      "Epoch 25/30\n",
      "\u001b[1m13/13\u001b[0m \u001b[32m━━━━━━━━━━━━━━━━━━━━\u001b[0m\u001b[37m\u001b[0m \u001b[1m13s\u001b[0m 981ms/step - accuracy: 0.8864 - loss: 0.2725 - val_accuracy: 0.9020 - val_loss: 0.2693\n",
      "Epoch 26/30\n",
      "\u001b[1m13/13\u001b[0m \u001b[32m━━━━━━━━━━━━━━━━━━━━\u001b[0m\u001b[37m\u001b[0m \u001b[1m12s\u001b[0m 889ms/step - accuracy: 0.9151 - loss: 0.2436 - val_accuracy: 0.9020 - val_loss: 0.2667\n",
      "Epoch 27/30\n",
      "\u001b[1m13/13\u001b[0m \u001b[32m━━━━━━━━━━━━━━━━━━━━\u001b[0m\u001b[37m\u001b[0m \u001b[1m12s\u001b[0m 883ms/step - accuracy: 0.9025 - loss: 0.2429 - val_accuracy: 0.8824 - val_loss: 0.2874\n",
      "Epoch 28/30\n",
      "\u001b[1m13/13\u001b[0m \u001b[32m━━━━━━━━━━━━━━━━━━━━\u001b[0m\u001b[37m\u001b[0m \u001b[1m12s\u001b[0m 894ms/step - accuracy: 0.8964 - loss: 0.2440 - val_accuracy: 0.9020 - val_loss: 0.2976\n",
      "Epoch 29/30\n",
      "\u001b[1m13/13\u001b[0m \u001b[32m━━━━━━━━━━━━━━━━━━━━\u001b[0m\u001b[37m\u001b[0m \u001b[1m12s\u001b[0m 903ms/step - accuracy: 0.9024 - loss: 0.2184 - val_accuracy: 0.8725 - val_loss: 0.3059\n",
      "Epoch 30/30\n",
      "\u001b[1m13/13\u001b[0m \u001b[32m━━━━━━━━━━━━━━━━━━━━\u001b[0m\u001b[37m\u001b[0m \u001b[1m12s\u001b[0m 890ms/step - accuracy: 0.8990 - loss: 0.2228 - val_accuracy: 0.8725 - val_loss: 0.3050\n",
      "\u001b[1m4/4\u001b[0m \u001b[32m━━━━━━━━━━━━━━━━━━━━\u001b[0m\u001b[37m\u001b[0m \u001b[1m1s\u001b[0m 140ms/step - accuracy: 0.8907 - loss: 0.3211\n",
      "Test accuracy: 0.8725\n"
     ]
    }
   ],
   "source": [
    "# Convert the DataFrame to a NumPy array\n",
    "multiomics_data_np = multiomics_data.to_numpy()\n",
    "\n",
    "# Reshape data to match the input shape required by CNN (samples, features, channels)\n",
    "X_reshaped_early = multiomics_data_np.reshape(multiomics_data.shape[0], multiomics_data.shape[1], 1)\n",
    "\n",
    "X_train_early, X_test_early, y_train_early, y_test_early = train_test_split(X_reshaped_early, target_t['target'], test_size=0.2, random_state=42)\n",
    "\n",
    "\n",
    "# Building the CNN model\n",
    "cnn_model_early = Sequential()\n",
    "\n",
    "# First convolutional layer\n",
    "cnn_model_early.add(Conv1D(filters=64, kernel_size=10, activation='relu', input_shape=(X_train_early.shape[1], 1)))\n",
    "cnn_model_early.add(MaxPooling1D(pool_size=2))\n",
    "\n",
    "# Second convolutional layer\n",
    "cnn_model_early.add(Conv1D(filters=64, kernel_size=7, activation='relu'))\n",
    "cnn_model_early.add(MaxPooling1D(pool_size=2))\n",
    "\n",
    "# Third convolutional layer\n",
    "cnn_model_early.add(Conv1D(filters=128, kernel_size=7, activation='relu'))\n",
    "cnn_model_early.add(MaxPooling1D(pool_size=2))\n",
    "\n",
    "# Flatten layer\n",
    "cnn_model_early.add(Flatten())\n",
    "\n",
    "# Fully connected layer\n",
    "cnn_model_early.add(Dense(256, activation='relu'))\n",
    "cnn_model_early.add(Dropout(0.5))\n",
    "\n",
    "# Output layer with sigmoid activation for binary classification\n",
    "cnn_model_early.add(Dense(1, activation='sigmoid'))  # Use softmax activation and adjust units for multi-class problems\n",
    "\n",
    "# Compile the model\n",
    "cnn_model_early.compile(optimizer=Adam(learning_rate=0.001), loss='binary_crossentropy', metrics=['accuracy'])\n",
    "\n",
    "# Train the model\n",
    "history = cnn_model_early.fit(X_train_early, y_train_early, epochs=30, batch_size=32, validation_data=(X_test_early, y_test_early))\n",
    "\n",
    "# Evaluate model performance\n",
    "test_loss, test_accuracy_cnn_early = cnn_model_early.evaluate(X_test_early, y_test_early)\n",
    "print(f'Test accuracy: {test_accuracy_cnn_early:.4f}')\n",
    "\n"
   ]
  },
  {
   "cell_type": "code",
   "execution_count": 155,
   "id": "7baec302-23a6-4065-91f4-eb45639a6ce0",
   "metadata": {
    "tags": []
   },
   "outputs": [
    {
     "name": "stdout",
     "output_type": "stream",
     "text": [
      "MLP (Early Integration) Accuracy: 0.9020\n",
      "SVM (Early Integration) Accuracy: 0.9020\n",
      "RF (Early Integration) Accuracy: 0.8235\n",
      "CNN (Middle Integration) Accuracy:0.8725\n"
     ]
    }
   ],
   "source": [
    "print(f\"MLP (Early Integration) Accuracy: {accuracy_mlp_early:.4f}\")\n",
    "print(f\"SVM (Early Integration) Accuracy: {accuracy_svm_early:.4f}\")\n",
    "print(f\"RF (Early Integration) Accuracy: {accuracy_rf_early:.4f}\")\n",
    "print(f\"CNN (Middle Integration) Accuracy:{test_accuracy_cnn_early:.4f}\")"
   ]
  },
  {
   "cell_type": "code",
   "execution_count": 157,
   "id": "74197b72-7c84-4912-8052-8cb856d8b440",
   "metadata": {
    "tags": []
   },
   "outputs": [
    {
     "name": "stderr",
     "output_type": "stream",
     "text": [
      "/Users/jasonliu/anaconda3/lib/python3.11/site-packages/keras/src/layers/core/dense.py:88: UserWarning: Do not pass an `input_shape`/`input_dim` argument to a layer. When using Sequential models, prefer using an `Input(shape)` object as the first layer in the model instead.\n",
      "  super().__init__(activity_regularizer=activity_regularizer, **kwargs)\n"
     ]
    },
    {
     "name": "stdout",
     "output_type": "stream",
     "text": [
      "Epoch 1/50\n",
      "\u001b[1m13/13\u001b[0m \u001b[32m━━━━━━━━━━━━━━━━━━━━\u001b[0m\u001b[37m\u001b[0m \u001b[1m1s\u001b[0m 14ms/step - accuracy: 0.5809 - loss: 0.6041 - val_accuracy: 0.9020 - val_loss: 0.3087\n",
      "Epoch 2/50\n",
      "\u001b[1m13/13\u001b[0m \u001b[32m━━━━━━━━━━━━━━━━━━━━\u001b[0m\u001b[37m\u001b[0m \u001b[1m0s\u001b[0m 4ms/step - accuracy: 0.8838 - loss: 0.3464 - val_accuracy: 0.9020 - val_loss: 0.2423\n",
      "Epoch 3/50\n",
      "\u001b[1m13/13\u001b[0m \u001b[32m━━━━━━━━━━━━━━━━━━━━\u001b[0m\u001b[37m\u001b[0m \u001b[1m0s\u001b[0m 5ms/step - accuracy: 0.9042 - loss: 0.3148 - val_accuracy: 0.9020 - val_loss: 0.2417\n",
      "Epoch 4/50\n",
      "\u001b[1m13/13\u001b[0m \u001b[32m━━━━━━━━━━━━━━━━━━━━\u001b[0m\u001b[37m\u001b[0m \u001b[1m0s\u001b[0m 5ms/step - accuracy: 0.8999 - loss: 0.2934 - val_accuracy: 0.9020 - val_loss: 0.2427\n",
      "Epoch 5/50\n",
      "\u001b[1m13/13\u001b[0m \u001b[32m━━━━━━━━━━━━━━━━━━━━\u001b[0m\u001b[37m\u001b[0m \u001b[1m0s\u001b[0m 4ms/step - accuracy: 0.8938 - loss: 0.2944 - val_accuracy: 0.9020 - val_loss: 0.2475\n",
      "Epoch 6/50\n",
      "\u001b[1m13/13\u001b[0m \u001b[32m━━━━━━━━━━━━━━━━━━━━\u001b[0m\u001b[37m\u001b[0m \u001b[1m0s\u001b[0m 3ms/step - accuracy: 0.9000 - loss: 0.2656 - val_accuracy: 0.9020 - val_loss: 0.2557\n",
      "Epoch 7/50\n",
      "\u001b[1m13/13\u001b[0m \u001b[32m━━━━━━━━━━━━━━━━━━━━\u001b[0m\u001b[37m\u001b[0m \u001b[1m0s\u001b[0m 4ms/step - accuracy: 0.9089 - loss: 0.2551 - val_accuracy: 0.9020 - val_loss: 0.2623\n",
      "Epoch 8/50\n",
      "\u001b[1m13/13\u001b[0m \u001b[32m━━━━━━━━━━━━━━━━━━━━\u001b[0m\u001b[37m\u001b[0m \u001b[1m0s\u001b[0m 4ms/step - accuracy: 0.8954 - loss: 0.2363 - val_accuracy: 0.9020 - val_loss: 0.2716\n",
      "Epoch 9/50\n",
      "\u001b[1m13/13\u001b[0m \u001b[32m━━━━━━━━━━━━━━━━━━━━\u001b[0m\u001b[37m\u001b[0m \u001b[1m0s\u001b[0m 3ms/step - accuracy: 0.9066 - loss: 0.2303 - val_accuracy: 0.9020 - val_loss: 0.2867\n",
      "Epoch 10/50\n",
      "\u001b[1m13/13\u001b[0m \u001b[32m━━━━━━━━━━━━━━━━━━━━\u001b[0m\u001b[37m\u001b[0m \u001b[1m0s\u001b[0m 4ms/step - accuracy: 0.8924 - loss: 0.2372 - val_accuracy: 0.8922 - val_loss: 0.2995\n",
      "Epoch 11/50\n",
      "\u001b[1m13/13\u001b[0m \u001b[32m━━━━━━━━━━━━━━━━━━━━\u001b[0m\u001b[37m\u001b[0m \u001b[1m0s\u001b[0m 4ms/step - accuracy: 0.8904 - loss: 0.2256 - val_accuracy: 0.8824 - val_loss: 0.3192\n",
      "Epoch 12/50\n",
      "\u001b[1m13/13\u001b[0m \u001b[32m━━━━━━━━━━━━━━━━━━━━\u001b[0m\u001b[37m\u001b[0m \u001b[1m0s\u001b[0m 4ms/step - accuracy: 0.9248 - loss: 0.1851 - val_accuracy: 0.8529 - val_loss: 0.3463\n",
      "Epoch 13/50\n",
      "\u001b[1m13/13\u001b[0m \u001b[32m━━━━━━━━━━━━━━━━━━━━\u001b[0m\u001b[37m\u001b[0m \u001b[1m0s\u001b[0m 4ms/step - accuracy: 0.9148 - loss: 0.1846 - val_accuracy: 0.8431 - val_loss: 0.3663\n",
      "Epoch 14/50\n",
      "\u001b[1m13/13\u001b[0m \u001b[32m━━━━━━━━━━━━━━━━━━━━\u001b[0m\u001b[37m\u001b[0m \u001b[1m0s\u001b[0m 4ms/step - accuracy: 0.9088 - loss: 0.1958 - val_accuracy: 0.8333 - val_loss: 0.4039\n",
      "Epoch 15/50\n",
      "\u001b[1m13/13\u001b[0m \u001b[32m━━━━━━━━━━━━━━━━━━━━\u001b[0m\u001b[37m\u001b[0m \u001b[1m0s\u001b[0m 3ms/step - accuracy: 0.9059 - loss: 0.1789 - val_accuracy: 0.8333 - val_loss: 0.4269\n",
      "Epoch 16/50\n",
      "\u001b[1m13/13\u001b[0m \u001b[32m━━━━━━━━━━━━━━━━━━━━\u001b[0m\u001b[37m\u001b[0m \u001b[1m0s\u001b[0m 4ms/step - accuracy: 0.9133 - loss: 0.1484 - val_accuracy: 0.8235 - val_loss: 0.4494\n",
      "Epoch 17/50\n",
      "\u001b[1m13/13\u001b[0m \u001b[32m━━━━━━━━━━━━━━━━━━━━\u001b[0m\u001b[37m\u001b[0m \u001b[1m0s\u001b[0m 4ms/step - accuracy: 0.9110 - loss: 0.1585 - val_accuracy: 0.8235 - val_loss: 0.4724\n",
      "Epoch 18/50\n",
      "\u001b[1m13/13\u001b[0m \u001b[32m━━━━━━━━━━━━━━━━━━━━\u001b[0m\u001b[37m\u001b[0m \u001b[1m0s\u001b[0m 3ms/step - accuracy: 0.9225 - loss: 0.1499 - val_accuracy: 0.8235 - val_loss: 0.5049\n",
      "Epoch 19/50\n",
      "\u001b[1m13/13\u001b[0m \u001b[32m━━━━━━━━━━━━━━━━━━━━\u001b[0m\u001b[37m\u001b[0m \u001b[1m0s\u001b[0m 4ms/step - accuracy: 0.9097 - loss: 0.1467 - val_accuracy: 0.8235 - val_loss: 0.5361\n",
      "Epoch 20/50\n",
      "\u001b[1m13/13\u001b[0m \u001b[32m━━━━━━━━━━━━━━━━━━━━\u001b[0m\u001b[37m\u001b[0m \u001b[1m0s\u001b[0m 3ms/step - accuracy: 0.9006 - loss: 0.1414 - val_accuracy: 0.8235 - val_loss: 0.5653\n",
      "Epoch 21/50\n",
      "\u001b[1m13/13\u001b[0m \u001b[32m━━━━━━━━━━━━━━━━━━━━\u001b[0m\u001b[37m\u001b[0m \u001b[1m0s\u001b[0m 4ms/step - accuracy: 0.9034 - loss: 0.1582 - val_accuracy: 0.8235 - val_loss: 0.5702\n",
      "Epoch 22/50\n",
      "\u001b[1m13/13\u001b[0m \u001b[32m━━━━━━━━━━━━━━━━━━━━\u001b[0m\u001b[37m\u001b[0m \u001b[1m0s\u001b[0m 4ms/step - accuracy: 0.9177 - loss: 0.1503 - val_accuracy: 0.8235 - val_loss: 0.5753\n",
      "Epoch 23/50\n",
      "\u001b[1m13/13\u001b[0m \u001b[32m━━━━━━━━━━━━━━━━━━━━\u001b[0m\u001b[37m\u001b[0m \u001b[1m0s\u001b[0m 4ms/step - accuracy: 0.9147 - loss: 0.1523 - val_accuracy: 0.8235 - val_loss: 0.5735\n",
      "Epoch 24/50\n",
      "\u001b[1m13/13\u001b[0m \u001b[32m━━━━━━━━━━━━━━━━━━━━\u001b[0m\u001b[37m\u001b[0m \u001b[1m0s\u001b[0m 4ms/step - accuracy: 0.9228 - loss: 0.1305 - val_accuracy: 0.8235 - val_loss: 0.5830\n",
      "Epoch 25/50\n",
      "\u001b[1m13/13\u001b[0m \u001b[32m━━━━━━━━━━━━━━━━━━━━\u001b[0m\u001b[37m\u001b[0m \u001b[1m0s\u001b[0m 4ms/step - accuracy: 0.9047 - loss: 0.1410 - val_accuracy: 0.8235 - val_loss: 0.6028\n",
      "Epoch 26/50\n",
      "\u001b[1m13/13\u001b[0m \u001b[32m━━━━━━━━━━━━━━━━━━━━\u001b[0m\u001b[37m\u001b[0m \u001b[1m0s\u001b[0m 3ms/step - accuracy: 0.9331 - loss: 0.1236 - val_accuracy: 0.8235 - val_loss: 0.6411\n",
      "Epoch 27/50\n",
      "\u001b[1m13/13\u001b[0m \u001b[32m━━━━━━━━━━━━━━━━━━━━\u001b[0m\u001b[37m\u001b[0m \u001b[1m0s\u001b[0m 3ms/step - accuracy: 0.9104 - loss: 0.1246 - val_accuracy: 0.8235 - val_loss: 0.6473\n",
      "Epoch 28/50\n",
      "\u001b[1m13/13\u001b[0m \u001b[32m━━━━━━━━━━━━━━━━━━━━\u001b[0m\u001b[37m\u001b[0m \u001b[1m0s\u001b[0m 3ms/step - accuracy: 0.9245 - loss: 0.1160 - val_accuracy: 0.8235 - val_loss: 0.6515\n",
      "Epoch 29/50\n",
      "\u001b[1m13/13\u001b[0m \u001b[32m━━━━━━━━━━━━━━━━━━━━\u001b[0m\u001b[37m\u001b[0m \u001b[1m0s\u001b[0m 3ms/step - accuracy: 0.9015 - loss: 0.1442 - val_accuracy: 0.8235 - val_loss: 0.6809\n",
      "Epoch 30/50\n",
      "\u001b[1m13/13\u001b[0m \u001b[32m━━━━━━━━━━━━━━━━━━━━\u001b[0m\u001b[37m\u001b[0m \u001b[1m0s\u001b[0m 3ms/step - accuracy: 0.9186 - loss: 0.1350 - val_accuracy: 0.8235 - val_loss: 0.6912\n",
      "Epoch 31/50\n",
      "\u001b[1m13/13\u001b[0m \u001b[32m━━━━━━━━━━━━━━━━━━━━\u001b[0m\u001b[37m\u001b[0m \u001b[1m0s\u001b[0m 3ms/step - accuracy: 0.8998 - loss: 0.1511 - val_accuracy: 0.8235 - val_loss: 0.6987\n",
      "Epoch 32/50\n",
      "\u001b[1m13/13\u001b[0m \u001b[32m━━━━━━━━━━━━━━━━━━━━\u001b[0m\u001b[37m\u001b[0m \u001b[1m0s\u001b[0m 3ms/step - accuracy: 0.9006 - loss: 0.1402 - val_accuracy: 0.8235 - val_loss: 0.6967\n",
      "Epoch 33/50\n",
      "\u001b[1m13/13\u001b[0m \u001b[32m━━━━━━━━━━━━━━━━━━━━\u001b[0m\u001b[37m\u001b[0m \u001b[1m0s\u001b[0m 4ms/step - accuracy: 0.9049 - loss: 0.1338 - val_accuracy: 0.8235 - val_loss: 0.7023\n",
      "Epoch 34/50\n",
      "\u001b[1m13/13\u001b[0m \u001b[32m━━━━━━━━━━━━━━━━━━━━\u001b[0m\u001b[37m\u001b[0m \u001b[1m0s\u001b[0m 4ms/step - accuracy: 0.9278 - loss: 0.1302 - val_accuracy: 0.8235 - val_loss: 0.7127\n",
      "Epoch 35/50\n",
      "\u001b[1m13/13\u001b[0m \u001b[32m━━━━━━━━━━━━━━━━━━━━\u001b[0m\u001b[37m\u001b[0m \u001b[1m0s\u001b[0m 4ms/step - accuracy: 0.9309 - loss: 0.1209 - val_accuracy: 0.8235 - val_loss: 0.7427\n",
      "Epoch 36/50\n",
      "\u001b[1m13/13\u001b[0m \u001b[32m━━━━━━━━━━━━━━━━━━━━\u001b[0m\u001b[37m\u001b[0m \u001b[1m0s\u001b[0m 4ms/step - accuracy: 0.9159 - loss: 0.1336 - val_accuracy: 0.8235 - val_loss: 0.7623\n",
      "Epoch 37/50\n",
      "\u001b[1m13/13\u001b[0m \u001b[32m━━━━━━━━━━━━━━━━━━━━\u001b[0m\u001b[37m\u001b[0m \u001b[1m0s\u001b[0m 4ms/step - accuracy: 0.9199 - loss: 0.1328 - val_accuracy: 0.8235 - val_loss: 0.7583\n",
      "Epoch 38/50\n",
      "\u001b[1m13/13\u001b[0m \u001b[32m━━━━━━━━━━━━━━━━━━━━\u001b[0m\u001b[37m\u001b[0m \u001b[1m0s\u001b[0m 4ms/step - accuracy: 0.9207 - loss: 0.1113 - val_accuracy: 0.8235 - val_loss: 0.7678\n",
      "Epoch 39/50\n",
      "\u001b[1m13/13\u001b[0m \u001b[32m━━━━━━━━━━━━━━━━━━━━\u001b[0m\u001b[37m\u001b[0m \u001b[1m0s\u001b[0m 3ms/step - accuracy: 0.8894 - loss: 0.1631 - val_accuracy: 0.8235 - val_loss: 0.7402\n",
      "Epoch 40/50\n",
      "\u001b[1m13/13\u001b[0m \u001b[32m━━━━━━━━━━━━━━━━━━━━\u001b[0m\u001b[37m\u001b[0m \u001b[1m0s\u001b[0m 4ms/step - accuracy: 0.9209 - loss: 0.1186 - val_accuracy: 0.8235 - val_loss: 0.7638\n",
      "Epoch 41/50\n",
      "\u001b[1m13/13\u001b[0m \u001b[32m━━━━━━━━━━━━━━━━━━━━\u001b[0m\u001b[37m\u001b[0m \u001b[1m0s\u001b[0m 3ms/step - accuracy: 0.9019 - loss: 0.1380 - val_accuracy: 0.8235 - val_loss: 0.7824\n",
      "Epoch 42/50\n",
      "\u001b[1m13/13\u001b[0m \u001b[32m━━━━━━━━━━━━━━━━━━━━\u001b[0m\u001b[37m\u001b[0m \u001b[1m0s\u001b[0m 4ms/step - accuracy: 0.9455 - loss: 0.1131 - val_accuracy: 0.8235 - val_loss: 0.7968\n",
      "Epoch 43/50\n",
      "\u001b[1m13/13\u001b[0m \u001b[32m━━━━━━━━━━━━━━━━━━━━\u001b[0m\u001b[37m\u001b[0m \u001b[1m0s\u001b[0m 3ms/step - accuracy: 0.9184 - loss: 0.1293 - val_accuracy: 0.8235 - val_loss: 0.7915\n",
      "Epoch 44/50\n",
      "\u001b[1m13/13\u001b[0m \u001b[32m━━━━━━━━━━━━━━━━━━━━\u001b[0m\u001b[37m\u001b[0m \u001b[1m0s\u001b[0m 3ms/step - accuracy: 0.9110 - loss: 0.1241 - val_accuracy: 0.8235 - val_loss: 0.8069\n",
      "Epoch 45/50\n",
      "\u001b[1m13/13\u001b[0m \u001b[32m━━━━━━━━━━━━━━━━━━━━\u001b[0m\u001b[37m\u001b[0m \u001b[1m0s\u001b[0m 4ms/step - accuracy: 0.9206 - loss: 0.1218 - val_accuracy: 0.8235 - val_loss: 0.8106\n",
      "Epoch 46/50\n",
      "\u001b[1m13/13\u001b[0m \u001b[32m━━━━━━━━━━━━━━━━━━━━\u001b[0m\u001b[37m\u001b[0m \u001b[1m0s\u001b[0m 4ms/step - accuracy: 0.9202 - loss: 0.1313 - val_accuracy: 0.8235 - val_loss: 0.8146\n",
      "Epoch 47/50\n",
      "\u001b[1m13/13\u001b[0m \u001b[32m━━━━━━━━━━━━━━━━━━━━\u001b[0m\u001b[37m\u001b[0m \u001b[1m0s\u001b[0m 3ms/step - accuracy: 0.9290 - loss: 0.1250 - val_accuracy: 0.8235 - val_loss: 0.8239\n",
      "Epoch 48/50\n",
      "\u001b[1m13/13\u001b[0m \u001b[32m━━━━━━━━━━━━━━━━━━━━\u001b[0m\u001b[37m\u001b[0m \u001b[1m0s\u001b[0m 3ms/step - accuracy: 0.9137 - loss: 0.1195 - val_accuracy: 0.8235 - val_loss: 0.8424\n",
      "Epoch 49/50\n",
      "\u001b[1m13/13\u001b[0m \u001b[32m━━━━━━━━━━━━━━━━━━━━\u001b[0m\u001b[37m\u001b[0m \u001b[1m0s\u001b[0m 3ms/step - accuracy: 0.9035 - loss: 0.1268 - val_accuracy: 0.8235 - val_loss: 0.8377\n",
      "Epoch 50/50\n",
      "\u001b[1m13/13\u001b[0m \u001b[32m━━━━━━━━━━━━━━━━━━━━\u001b[0m\u001b[37m\u001b[0m \u001b[1m0s\u001b[0m 4ms/step - accuracy: 0.9119 - loss: 0.1254 - val_accuracy: 0.8235 - val_loss: 0.8495\n",
      "\u001b[1m4/4\u001b[0m \u001b[32m━━━━━━━━━━━━━━━━━━━━\u001b[0m\u001b[37m\u001b[0m \u001b[1m0s\u001b[0m 1ms/step - accuracy: 0.8357 - loss: 0.8875 \n"
     ]
    }
   ],
   "source": [
    "# Middle Integration data\n",
    "# Split into 80% training & 20% testing\n",
    "X_train_mid, X_test_mid, y_train_mid, y_test_mid = train_test_split(reducted_multiomics_data, target_t['target'], test_size=0.2, random_state=42)\n",
    "\n",
    "# Define stratified k-fold cross-validation\n",
    "skf = StratifiedKFold(n_splits=5, shuffle=True, random_state=42)\n",
    "\n",
    "# Random Forest Model for Middle Integration\n",
    "rf_model_mid = RandomForestClassifier(n_estimators=100, random_state=42)\n",
    "\n",
    "# SVM model using RBF kernel for Middle Integration\n",
    "svm_model_mid = SVC(kernel='rbf', random_state=42)\n",
    "\n",
    "# Build the MLP model for Middle Integration\n",
    "mlp_model_mid = Sequential()\n",
    "\n",
    "# Input layer for Middle Integration (assuming input features have the dimension X_train_mid.shape[1])\n",
    "mlp_model_mid.add(Dense(128, input_dim=X_train_mid.shape[1], activation='relu'))\n",
    "\n",
    "# Hidden layers for Middle Integration\n",
    "mlp_model_mid.add(Dense(64, activation='relu'))\n",
    "mlp_model_mid.add(Dropout(0.5))  # Add Dropout to prevent overfitting\n",
    "\n",
    "mlp_model_mid.add(Dense(32, activation='relu'))\n",
    "\n",
    "# Output layer for Middle Integration\n",
    "mlp_model_mid.add(Dense(1, activation='sigmoid'))\n",
    "\n",
    "# Compile the MLP model for Middle Integration\n",
    "mlp_model_mid.compile(optimizer=Adam(learning_rate=0.001), loss='binary_crossentropy', metrics=['accuracy'])\n",
    "\n",
    "# Train Models for Middle Integration\n",
    "rf_model_mid.fit(X_train_mid, y_train_mid)\n",
    "svm_model_mid.fit(X_train_mid, y_train_mid)\n",
    "history_mid = mlp_model_mid.fit(X_train_mid, y_train_mid, epochs=50, batch_size=32, validation_data=(X_test_mid, y_test_mid))\n",
    "\n",
    "# Predict and evaluate for Middle Integration\n",
    "y_pred_rf_mid = rf_model_mid.predict(X_test_mid)\n",
    "accuracy_rf_mid = accuracy_score(y_test_mid, y_pred_rf_mid)\n",
    "\n",
    "y_pred_svm_mid = svm_model_mid.predict(X_test_mid)\n",
    "accuracy_svm_mid = accuracy_score(y_test_mid, y_pred_svm_mid)\n",
    "\n",
    "loss_mid, accuracy_mlp_mid = mlp_model_mid.evaluate(X_test_mid, y_test_mid)\n"
   ]
  },
  {
   "cell_type": "code",
   "execution_count": 151,
   "id": "1aeff72c-129e-4aec-b8a6-bbdd3aea4608",
   "metadata": {
    "tags": []
   },
   "outputs": [
    {
     "name": "stdout",
     "output_type": "stream",
     "text": [
      "Epoch 1/30\n"
     ]
    },
    {
     "name": "stderr",
     "output_type": "stream",
     "text": [
      "/Users/jasonliu/anaconda3/lib/python3.11/site-packages/keras/src/layers/convolutional/base_conv.py:99: UserWarning: Do not pass an `input_shape`/`input_dim` argument to a layer. When using Sequential models, prefer using an `Input(shape)` object as the first layer in the model instead.\n",
      "  super().__init__(\n"
     ]
    },
    {
     "name": "stdout",
     "output_type": "stream",
     "text": [
      "\u001b[1m13/13\u001b[0m \u001b[32m━━━━━━━━━━━━━━━━━━━━\u001b[0m\u001b[37m\u001b[0m \u001b[1m2s\u001b[0m 48ms/step - accuracy: 0.7754 - loss: 0.5072 - val_accuracy: 0.8824 - val_loss: 0.2760\n",
      "Epoch 2/30\n",
      "\u001b[1m13/13\u001b[0m \u001b[32m━━━━━━━━━━━━━━━━━━━━\u001b[0m\u001b[37m\u001b[0m \u001b[1m0s\u001b[0m 29ms/step - accuracy: 0.9015 - loss: 0.3221 - val_accuracy: 0.9020 - val_loss: 0.2296\n",
      "Epoch 3/30\n",
      "\u001b[1m13/13\u001b[0m \u001b[32m━━━━━━━━━━━━━━━━━━━━\u001b[0m\u001b[37m\u001b[0m \u001b[1m0s\u001b[0m 30ms/step - accuracy: 0.9048 - loss: 0.2769 - val_accuracy: 0.9020 - val_loss: 0.2200\n",
      "Epoch 4/30\n",
      "\u001b[1m13/13\u001b[0m \u001b[32m━━━━━━━━━━━━━━━━━━━━\u001b[0m\u001b[37m\u001b[0m \u001b[1m0s\u001b[0m 30ms/step - accuracy: 0.8954 - loss: 0.2737 - val_accuracy: 0.8922 - val_loss: 0.2224\n",
      "Epoch 5/30\n",
      "\u001b[1m13/13\u001b[0m \u001b[32m━━━━━━━━━━━━━━━━━━━━\u001b[0m\u001b[37m\u001b[0m \u001b[1m0s\u001b[0m 29ms/step - accuracy: 0.9029 - loss: 0.2513 - val_accuracy: 0.8922 - val_loss: 0.2264\n",
      "Epoch 6/30\n",
      "\u001b[1m13/13\u001b[0m \u001b[32m━━━━━━━━━━━━━━━━━━━━\u001b[0m\u001b[37m\u001b[0m \u001b[1m0s\u001b[0m 29ms/step - accuracy: 0.9029 - loss: 0.2365 - val_accuracy: 0.8922 - val_loss: 0.2372\n",
      "Epoch 7/30\n",
      "\u001b[1m13/13\u001b[0m \u001b[32m━━━━━━━━━━━━━━━━━━━━\u001b[0m\u001b[37m\u001b[0m \u001b[1m0s\u001b[0m 30ms/step - accuracy: 0.8750 - loss: 0.2727 - val_accuracy: 0.9020 - val_loss: 0.2701\n",
      "Epoch 8/30\n",
      "\u001b[1m13/13\u001b[0m \u001b[32m━━━━━━━━━━━━━━━━━━━━\u001b[0m\u001b[37m\u001b[0m \u001b[1m0s\u001b[0m 29ms/step - accuracy: 0.8986 - loss: 0.2407 - val_accuracy: 0.8824 - val_loss: 0.2520\n",
      "Epoch 9/30\n",
      "\u001b[1m13/13\u001b[0m \u001b[32m━━━━━━━━━━━━━━━━━━━━\u001b[0m\u001b[37m\u001b[0m \u001b[1m0s\u001b[0m 30ms/step - accuracy: 0.9110 - loss: 0.1976 - val_accuracy: 0.8824 - val_loss: 0.2853\n",
      "Epoch 10/30\n",
      "\u001b[1m13/13\u001b[0m \u001b[32m━━━━━━━━━━━━━━━━━━━━\u001b[0m\u001b[37m\u001b[0m \u001b[1m0s\u001b[0m 29ms/step - accuracy: 0.9027 - loss: 0.1994 - val_accuracy: 0.8627 - val_loss: 0.2942\n",
      "Epoch 11/30\n",
      "\u001b[1m13/13\u001b[0m \u001b[32m━━━━━━━━━━━━━━━━━━━━\u001b[0m\u001b[37m\u001b[0m \u001b[1m0s\u001b[0m 30ms/step - accuracy: 0.9051 - loss: 0.1810 - val_accuracy: 0.8529 - val_loss: 0.3008\n",
      "Epoch 12/30\n",
      "\u001b[1m13/13\u001b[0m \u001b[32m━━━━━━━━━━━━━━━━━━━━\u001b[0m\u001b[37m\u001b[0m \u001b[1m1s\u001b[0m 42ms/step - accuracy: 0.8973 - loss: 0.1878 - val_accuracy: 0.8824 - val_loss: 0.3842\n",
      "Epoch 13/30\n",
      "\u001b[1m13/13\u001b[0m \u001b[32m━━━━━━━━━━━━━━━━━━━━\u001b[0m\u001b[37m\u001b[0m \u001b[1m0s\u001b[0m 37ms/step - accuracy: 0.9135 - loss: 0.1701 - val_accuracy: 0.8333 - val_loss: 0.3222\n",
      "Epoch 14/30\n",
      "\u001b[1m13/13\u001b[0m \u001b[32m━━━━━━━━━━━━━━━━━━━━\u001b[0m\u001b[37m\u001b[0m \u001b[1m0s\u001b[0m 37ms/step - accuracy: 0.9085 - loss: 0.1776 - val_accuracy: 0.8235 - val_loss: 0.3247\n",
      "Epoch 15/30\n",
      "\u001b[1m13/13\u001b[0m \u001b[32m━━━━━━━━━━━━━━━━━━━━\u001b[0m\u001b[37m\u001b[0m \u001b[1m1s\u001b[0m 42ms/step - accuracy: 0.9317 - loss: 0.1709 - val_accuracy: 0.8431 - val_loss: 0.3470\n",
      "Epoch 16/30\n",
      "\u001b[1m13/13\u001b[0m \u001b[32m━━━━━━━━━━━━━━━━━━━━\u001b[0m\u001b[37m\u001b[0m \u001b[1m1s\u001b[0m 37ms/step - accuracy: 0.9160 - loss: 0.1517 - val_accuracy: 0.8333 - val_loss: 0.4210\n",
      "Epoch 17/30\n",
      "\u001b[1m13/13\u001b[0m \u001b[32m━━━━━━━━━━━━━━━━━━━━\u001b[0m\u001b[37m\u001b[0m \u001b[1m1s\u001b[0m 40ms/step - accuracy: 0.9050 - loss: 0.1558 - val_accuracy: 0.8235 - val_loss: 0.4417\n",
      "Epoch 18/30\n",
      "\u001b[1m13/13\u001b[0m \u001b[32m━━━━━━━━━━━━━━━━━━━━\u001b[0m\u001b[37m\u001b[0m \u001b[1m1s\u001b[0m 41ms/step - accuracy: 0.8988 - loss: 0.1463 - val_accuracy: 0.8333 - val_loss: 0.4311\n",
      "Epoch 19/30\n",
      "\u001b[1m13/13\u001b[0m \u001b[32m━━━━━━━━━━━━━━━━━━━━\u001b[0m\u001b[37m\u001b[0m \u001b[1m1s\u001b[0m 39ms/step - accuracy: 0.9277 - loss: 0.1188 - val_accuracy: 0.8235 - val_loss: 0.4602\n",
      "Epoch 20/30\n",
      "\u001b[1m13/13\u001b[0m \u001b[32m━━━━━━━━━━━━━━━━━━━━\u001b[0m\u001b[37m\u001b[0m \u001b[1m1s\u001b[0m 38ms/step - accuracy: 0.9049 - loss: 0.1322 - val_accuracy: 0.8235 - val_loss: 0.4893\n",
      "Epoch 21/30\n",
      "\u001b[1m13/13\u001b[0m \u001b[32m━━━━━━━━━━━━━━━━━━━━\u001b[0m\u001b[37m\u001b[0m \u001b[1m1s\u001b[0m 51ms/step - accuracy: 0.9280 - loss: 0.1340 - val_accuracy: 0.8235 - val_loss: 0.4533\n",
      "Epoch 22/30\n",
      "\u001b[1m13/13\u001b[0m \u001b[32m━━━━━━━━━━━━━━━━━━━━\u001b[0m\u001b[37m\u001b[0m \u001b[1m1s\u001b[0m 39ms/step - accuracy: 0.9018 - loss: 0.1415 - val_accuracy: 0.8235 - val_loss: 0.4836\n",
      "Epoch 23/30\n",
      "\u001b[1m13/13\u001b[0m \u001b[32m━━━━━━━━━━━━━━━━━━━━\u001b[0m\u001b[37m\u001b[0m \u001b[1m1s\u001b[0m 37ms/step - accuracy: 0.9205 - loss: 0.1350 - val_accuracy: 0.8235 - val_loss: 0.4607\n",
      "Epoch 24/30\n",
      "\u001b[1m13/13\u001b[0m \u001b[32m━━━━━━━━━━━━━━━━━━━━\u001b[0m\u001b[37m\u001b[0m \u001b[1m0s\u001b[0m 36ms/step - accuracy: 0.9077 - loss: 0.1255 - val_accuracy: 0.8235 - val_loss: 0.5449\n",
      "Epoch 25/30\n",
      "\u001b[1m13/13\u001b[0m \u001b[32m━━━━━━━━━━━━━━━━━━━━\u001b[0m\u001b[37m\u001b[0m \u001b[1m0s\u001b[0m 36ms/step - accuracy: 0.9105 - loss: 0.1339 - val_accuracy: 0.8235 - val_loss: 0.4537\n",
      "Epoch 26/30\n",
      "\u001b[1m13/13\u001b[0m \u001b[32m━━━━━━━━━━━━━━━━━━━━\u001b[0m\u001b[37m\u001b[0m \u001b[1m0s\u001b[0m 36ms/step - accuracy: 0.9154 - loss: 0.1421 - val_accuracy: 0.8235 - val_loss: 0.4365\n",
      "Epoch 27/30\n",
      "\u001b[1m13/13\u001b[0m \u001b[32m━━━━━━━━━━━━━━━━━━━━\u001b[0m\u001b[37m\u001b[0m \u001b[1m1s\u001b[0m 41ms/step - accuracy: 0.9084 - loss: 0.1457 - val_accuracy: 0.8235 - val_loss: 0.5040\n",
      "Epoch 28/30\n",
      "\u001b[1m13/13\u001b[0m \u001b[32m━━━━━━━━━━━━━━━━━━━━\u001b[0m\u001b[37m\u001b[0m \u001b[1m0s\u001b[0m 34ms/step - accuracy: 0.9188 - loss: 0.1280 - val_accuracy: 0.8235 - val_loss: 0.4876\n",
      "Epoch 29/30\n",
      "\u001b[1m13/13\u001b[0m \u001b[32m━━━━━━━━━━━━━━━━━━━━\u001b[0m\u001b[37m\u001b[0m \u001b[1m0s\u001b[0m 35ms/step - accuracy: 0.9084 - loss: 0.1353 - val_accuracy: 0.8235 - val_loss: 0.5878\n",
      "Epoch 30/30\n",
      "\u001b[1m13/13\u001b[0m \u001b[32m━━━━━━━━━━━━━━━━━━━━\u001b[0m\u001b[37m\u001b[0m \u001b[1m0s\u001b[0m 37ms/step - accuracy: 0.8957 - loss: 0.1319 - val_accuracy: 0.8235 - val_loss: 0.4947\n",
      "\u001b[1m4/4\u001b[0m \u001b[32m━━━━━━━━━━━━━━━━━━━━\u001b[0m\u001b[37m\u001b[0m \u001b[1m0s\u001b[0m 9ms/step - accuracy: 0.8357 - loss: 0.5353 \n",
      "Test accuracy: 0.8235\n"
     ]
    }
   ],
   "source": [
    "# Reshape data to match the input shape required by CNN (samples, features, channels)\n",
    "X_reshaped_mid = reducted_multiomics_data.reshape(reducted_multiomics_data.shape[0], reducted_multiomics_data.shape[1], 1)\n",
    "\n",
    "X_train_mid, X_test_mid, y_train_mid, y_test_mid = train_test_split(X_reshaped_mid, target_t['target'], test_size=0.2, random_state=42)\n",
    "\n",
    "\n",
    "# Building the CNN model\n",
    "cnn_model_mid = Sequential()\n",
    "\n",
    "# First convolutional layer\n",
    "cnn_model_mid.add(Conv1D(filters=64, kernel_size=10, activation='relu', input_shape=(X_train_mid.shape[1], 1)))\n",
    "cnn_model_mid.add(MaxPooling1D(pool_size=2))\n",
    "\n",
    "# Second convolutional layer\n",
    "cnn_model_mid.add(Conv1D(filters=64, kernel_size=7, activation='relu'))\n",
    "cnn_model_mid.add(MaxPooling1D(pool_size=2))\n",
    "\n",
    "# Third convolutional layer\n",
    "cnn_model_mid.add(Conv1D(filters=128, kernel_size=7, activation='relu'))\n",
    "cnn_model_mid.add(MaxPooling1D(pool_size=2))\n",
    "\n",
    "# Flatten layer\n",
    "cnn_model_mid.add(Flatten())\n",
    "\n",
    "# Fully connected layer\n",
    "cnn_model_mid.add(Dense(256, activation='relu'))\n",
    "cnn_model_mid.add(Dropout(0.5))\n",
    "\n",
    "# Output layer with sigmoid activation for binary classification\n",
    "cnn_model_mid.add(Dense(1, activation='sigmoid'))  # Use softmax activation and adjust units for multi-class problems\n",
    "\n",
    "# Compile the model\n",
    "cnn_model_mid.compile(optimizer=Adam(learning_rate=0.001), loss='binary_crossentropy', metrics=['accuracy'])\n",
    "\n",
    "# Train the model\n",
    "history = cnn_model_mid.fit(X_train_mid, y_train_mid, epochs=30, batch_size=32, validation_data=(X_test_mid, y_test_mid))\n",
    "\n",
    "# Evaluate model performance\n",
    "test_loss, test_accuracy_cnn_mid = cnn_model_mid.evaluate(X_test_mid, y_test_mid)\n",
    "print(f'Test accuracy: {test_accuracy_cnn_mid:.4f}')\n"
   ]
  },
  {
   "cell_type": "code",
   "execution_count": 152,
   "id": "f38d1da3-fc3d-4ff2-bd5c-0bd78e6cbcba",
   "metadata": {
    "tags": []
   },
   "outputs": [
    {
     "name": "stdout",
     "output_type": "stream",
     "text": [
      "MLP (Middle Integration) Accuracy: 0.8137\n",
      "SVM (Middle Integration) Accuracy: 0.9020\n",
      "RF (Middle Integration) Accuracy: 0.8137\n",
      "CNN (Middle Integration) Accuracy: 0.8235\n"
     ]
    }
   ],
   "source": [
    "print(f\"MLP (Middle Integration) Accuracy: {accuracy_mlp_mid:.4f}\")\n",
    "print(f\"SVM (Middle Integration) Accuracy: {accuracy_svm_mid:.4f}\")\n",
    "print(f\"RF (Middle Integration) Accuracy: {accuracy_rf_mid:.4f}\")\n",
    "print(f\"CNN (Middle Integration) Accuracy: {test_accuracy_cnn_mid:.4f}\")"
   ]
  },
  {
   "cell_type": "code",
   "execution_count": 112,
   "id": "1afa186e-0c1b-4ab6-8f1f-7e4045badd6c",
   "metadata": {
    "tags": []
   },
   "outputs": [
    {
     "name": "stdout",
     "output_type": "stream",
     "text": [
      "SVM CV Accuracy: 0.8972 (+/- 0.0196)\n",
      "Random Forest CV Accuracy: 0.8043 (+/- 0.0192)\n"
     ]
    }
   ],
   "source": [
    "# Cross-validation for Random Forest model\n",
    "rf_cv_scores = cross_val_score(rf_model_mid, reducted_multiomics_data, target_t['target'], cv=skf, scoring='accuracy')\n",
    "\n",
    "# Cross-validation for SVM model\n",
    "svm_cv_scores = cross_val_score(svm_model_mid, reducted_multiomics_data, target_t['target'], cv=skf, scoring='accuracy')\n",
    "\n",
    "print(f\"SVM CV Accuracy: {svm_cv_scores.mean():.4f} (+/- {svm_cv_scores.std():.4f})\")\n",
    "print(f\"Random Forest CV Accuracy: {rf_cv_scores.mean():.4f} (+/- {rf_cv_scores.std():.4f})\")"
   ]
  },
  {
   "cell_type": "code",
   "execution_count": 158,
   "id": "524d8d18-a7eb-4901-b9b6-f774612d91af",
   "metadata": {
    "tags": []
   },
   "outputs": [
    {
     "name": "stdout",
     "output_type": "stream",
     "text": [
      "\u001b[1m4/4\u001b[0m \u001b[32m━━━━━━━━━━━━━━━━━━━━\u001b[0m\u001b[37m\u001b[0m \u001b[1m0s\u001b[0m 2ms/step \n",
      "\u001b[1m4/4\u001b[0m \u001b[32m━━━━━━━━━━━━━━━━━━━━\u001b[0m\u001b[37m\u001b[0m \u001b[1m1s\u001b[0m 131ms/step\n",
      "\u001b[1m4/4\u001b[0m \u001b[32m━━━━━━━━━━━━━━━━━━━━\u001b[0m\u001b[37m\u001b[0m \u001b[1m0s\u001b[0m 12ms/step\n",
      "\u001b[1m4/4\u001b[0m \u001b[32m━━━━━━━━━━━━━━━━━━━━\u001b[0m\u001b[37m\u001b[0m \u001b[1m0s\u001b[0m 28ms/step\n"
     ]
    },
    {
     "data": {
      "image/png": "[encoded data removed]",
      "text/plain": [
       "<Figure size 1200x1000 with 1 Axes>"
      ]
     },
     "metadata": {},
     "output_type": "display_data"
    }
   ],
   "source": [
    "# y_true should be your test set labels, like y_test_early and y_test_mid\n",
    "y_true_early = y_test_early  # True labels for early integration\n",
    "y_true_mid = y_test_mid      # True labels for middle integration\n",
    "\n",
    "# Predicted probabilities for each model\n",
    "y_pred_mlp_early = mlp_model_early.predict(X_test_early).ravel()  \n",
    "y_pred_svm_early = svm_model_early.decision_function(X_test_early)  # SVM uses decision_function\n",
    "y_pred_rf_early = rf_model_early.predict_proba(X_test_early)[:, 1]\n",
    "y_pred_cnn_early = cnn_model_early.predict(X_test_early).ravel()  # CNN output needs to be flattened\n",
    "\n",
    "y_pred_mlp_mid = mlp_model_mid.predict(X_test_mid).ravel()\n",
    "y_pred_svm_mid = svm_model_mid.decision_function(X_test_mid)\n",
    "y_pred_rf_mid = rf_model_mid.predict_proba(X_test_mid)[:, 1]\n",
    "y_pred_cnn_mid = cnn_model_mid.predict(X_test_mid).ravel()\n",
    "\n",
    "# Plot ROC curves\n",
    "plt.figure(figsize=(12, 10))\n",
    "\n",
    "# MLP ROC curve\n",
    "fpr_mlp_early, tpr_mlp_early, _ = roc_curve(y_true_early, y_pred_mlp_early)\n",
    "fpr_mlp_mid, tpr_mlp_mid, _ = roc_curve(y_true_mid, y_pred_mlp_mid)\n",
    "roc_auc_mlp_early = auc(fpr_mlp_early, tpr_mlp_early)\n",
    "roc_auc_mlp_mid = auc(fpr_mlp_mid, tpr_mlp_mid)\n",
    "plt.plot(fpr_mlp_early, tpr_mlp_early, color='blue', linestyle='--', label=f'MLP Early (AUC = {roc_auc_mlp_early:.2f})')\n",
    "plt.plot(fpr_mlp_mid, tpr_mlp_mid, color='blue', label=f'MLP Mid (AUC = {roc_auc_mlp_mid:.2f})')\n",
    "\n",
    "# SVM ROC curve\n",
    "fpr_svm_early, tpr_svm_early, _ = roc_curve(y_true_early, y_pred_svm_early)\n",
    "fpr_svm_mid, tpr_svm_mid, _ = roc_curve(y_true_mid, y_pred_svm_mid)\n",
    "roc_auc_svm_early = auc(fpr_svm_early, tpr_svm_early)\n",
    "roc_auc_svm_mid = auc(fpr_svm_mid, tpr_svm_mid)\n",
    "plt.plot(fpr_svm_early, tpr_svm_early, color='orange', linestyle='--', label=f'SVM Early (AUC = {roc_auc_svm_early:.2f})')\n",
    "plt.plot(fpr_svm_mid, tpr_svm_mid, color='orange', label=f'SVM Mid (AUC = {roc_auc_svm_mid:.2f})')\n",
    "\n",
    "# Random Forest ROC curve\n",
    "fpr_rf_early, tpr_rf_early, _ = roc_curve(y_true_early, y_pred_rf_early)\n",
    "fpr_rf_mid, tpr_rf_mid, _ = roc_curve(y_true_mid, y_pred_rf_mid)\n",
    "roc_auc_rf_early = auc(fpr_rf_early, tpr_rf_early)\n",
    "roc_auc_rf_mid = auc(fpr_rf_mid, tpr_rf_mid)\n",
    "plt.plot(fpr_rf_early, tpr_rf_early, color='green', linestyle='--', label=f'RF Early (AUC = {roc_auc_rf_early:.2f})')\n",
    "plt.plot(fpr_rf_mid, tpr_rf_mid, color='green', label=f'RF Mid (AUC = {roc_auc_rf_mid:.2f})')\n",
    "\n",
    "# CNN ROC curve\n",
    "fpr_cnn_early, tpr_cnn_early, _ = roc_curve(y_true_early, y_pred_cnn_early)\n",
    "fpr_cnn_mid, tpr_cnn_mid, _ = roc_curve(y_true_mid, y_pred_cnn_mid)\n",
    "roc_auc_cnn_early = auc(fpr_cnn_early, tpr_cnn_early)\n",
    "roc_auc_cnn_mid = auc(fpr_cnn_mid, tpr_cnn_mid)\n",
    "plt.plot(fpr_cnn_early, tpr_cnn_early, color='red', linestyle='--', label=f'CNN Early (AUC = {roc_auc_cnn_early:.2f})')\n",
    "plt.plot(fpr_cnn_mid, tpr_cnn_mid, color='red', label=f'CNN Mid (AUC = {roc_auc_cnn_mid:.2f})')\n",
    "\n",
    "# Plot the diagonal line (baseline)\n",
    "plt.plot([0, 1], [0, 1], color='gray', linestyle='--')\n",
    "\n",
    "# Set axis limits and labels\n",
    "plt.xlim([0.0, 1.0])\n",
    "plt.ylim([0.0, 1.0])\n",
    "plt.xlabel('False Positive Rate')\n",
    "plt.ylabel('True Positive Rate')\n",
    "plt.title('ROC Curve Comparison: Early vs Middle Integration (All Models)')\n",
    "plt.legend(loc='lower right')\n",
    "\n",
    "# Display the plot\n",
    "plt.show()\n"
   ]
  },
  {
   "cell_type": "code",
   "execution_count": 113,
   "id": "596aaff6-fc52-4646-abce-455eccbc2f27",
   "metadata": {
    "tags": []
   },
   "outputs": [
    {
     "name": "stdout",
     "output_type": "stream",
     "text": [
      "WARNING:tensorflow:5 out of the last 9 calls to <function TensorFlowTrainer.make_predict_function.<locals>.one_step_on_data_distributed at 0x170542a20> triggered tf.function retracing. Tracing is expensive and the excessive number of tracings could be due to (1) creating @tf.function repeatedly in a loop, (2) passing tensors with different shapes, (3) passing Python objects instead of tensors. For (1), please define your @tf.function outside of the loop. For (2), @tf.function has reduce_retracing=True option that can avoid unnecessary retracing. For (3), please refer to https://www.tensorflow.org/guide/function#controlling_retracing and https://www.tensorflow.org/api_docs/python/tf/function for  more details.\n",
      "\u001b[1m1/4\u001b[0m \u001b[32m━━━━━\u001b[0m\u001b[37m━━━━━━━━━━━━━━━\u001b[0m \u001b[1m0s\u001b[0m 86ms/stepWARNING:tensorflow:6 out of the last 12 calls to <function TensorFlowTrainer.make_predict_function.<locals>.one_step_on_data_distributed at 0x170542a20> triggered tf.function retracing. Tracing is expensive and the excessive number of tracings could be due to (1) creating @tf.function repeatedly in a loop, (2) passing tensors with different shapes, (3) passing Python objects instead of tensors. For (1), please define your @tf.function outside of the loop. For (2), @tf.function has reduce_retracing=True option that can avoid unnecessary retracing. For (3), please refer to https://www.tensorflow.org/guide/function#controlling_retracing and https://www.tensorflow.org/api_docs/python/tf/function for  more details.\n",
      "\u001b[1m4/4\u001b[0m \u001b[32m━━━━━━━━━━━━━━━━━━━━\u001b[0m\u001b[37m\u001b[0m \u001b[1m0s\u001b[0m 15ms/step\n",
      "\u001b[1m4/4\u001b[0m \u001b[32m━━━━━━━━━━━━━━━━━━━━\u001b[0m\u001b[37m\u001b[0m \u001b[1m0s\u001b[0m 12ms/step\n",
      "F1 Score (Random Forest, Early Integration): 0.8232\n",
      "F1 Score (SVM, Early Integration): 0.9002\n",
      "F1 Score (MLP, Early Integration): 0.7943\n",
      "F1 Score (Random Forest, Middle Integration): 0.8136\n",
      "F1 Score (SVM, Middle Integration): 0.9002\n",
      "F1 Score (MLP, Middle Integration): 0.8232\n"
     ]
    }
   ],
   "source": [
    "# Early Integration predictions\n",
    "y_pred_rf_early = rf_model_early.predict(X_test_early)\n",
    "y_pred_svm_early = svm_model_early.predict(X_test_early)\n",
    "y_pred_mlp_early = mlp_model_early.predict(X_test_early)\n",
    "y_pred_mlp_early = (y_pred_mlp_early > 0.5).astype(int)\n",
    "\n",
    "# Middle Integration predictions\n",
    "y_pred_rf_mid = rf_model_mid.predict(X_test_mid)\n",
    "y_pred_svm_mid = svm_model_mid.predict(X_test_mid)\n",
    "y_pred_mlp_mid = mlp_model_mid.predict(X_test_mid)\n",
    "y_pred_mlp_mid = (y_pred_mlp_mid > 0.5).astype(int)\n",
    "\n",
    "# F1 scores for Early Integration\n",
    "f1_rf_early = f1_score(y_test_early, y_pred_rf_early, average='weighted')\n",
    "f1_svm_early = f1_score(y_test_early, y_pred_svm_early, average='weighted')\n",
    "f1_mlp_early = f1_score(y_test_early, y_pred_mlp_early, average='weighted')\n",
    "\n",
    "# F1 scores for Middle Integration\n",
    "f1_rf_mid = f1_score(y_test_mid, y_pred_rf_mid, average='weighted')\n",
    "f1_svm_mid = f1_score(y_test_mid, y_pred_svm_mid, average='weighted')\n",
    "f1_mlp_mid = f1_score(y_test_mid, y_pred_mlp_mid, average='weighted')\n",
    "\n",
    "# Print F1 scores for comparison\n",
    "print(f\"F1 Score (Random Forest, Early Integration): {f1_rf_early:.4f}\")\n",
    "print(f\"F1 Score (SVM, Early Integration): {f1_svm_early:.4f}\")\n",
    "print(f\"F1 Score (MLP, Early Integration): {f1_mlp_early:.4f}\")\n",
    "print(f\"F1 Score (Random Forest, Middle Integration): {f1_rf_mid:.4f}\")\n",
    "print(f\"F1 Score (SVM, Middle Integration): {f1_svm_mid:.4f}\")\n",
    "print(f\"F1 Score (MLP, Middle Integration): {f1_mlp_mid:.4f}\")\n"
   ]
  },
  {
   "cell_type": "code",
   "execution_count": 114,
   "id": "1ea4753f-3499-4f07-bada-90f4ae45958d",
   "metadata": {
    "tags": []
   },
   "outputs": [
    {
     "data": {
      "image/png": "[encoded data removed]",
      "text/plain": [
       "<Figure size 640x480 with 1 Axes>"
      ]
     },
     "metadata": {},
     "output_type": "display_data"
    }
   ],
   "source": [
    "# Create lists for the accuracies of the different models\n",
    "accuracy_early = [accuracy_rf_early, accuracy_svm_early, accuracy_mlp_early]\n",
    "accuracy_mid = [accuracy_rf_mid, accuracy_svm_mid, accuracy_mlp_mid]\n",
    "\n",
    "# Labels for the models\n",
    "labels = ['Random Forest', 'SVM', 'MLP']\n",
    "\n",
    "# Set up the figure and axes\n",
    "x = np.arange(len(labels))  # The label locations\n",
    "width = 0.35  # The width of the bars\n",
    "\n",
    "fig, ax = plt.subplots()\n",
    "\n",
    "# Plot the bars for early integration\n",
    "rects1 = ax.bar(x - width/2, accuracy_early, width, label='Early Integration')\n",
    "\n",
    "# Plot the bars for middle integration\n",
    "rects2 = ax.bar(x + width/2, accuracy_mid, width, label='Middle Integration')\n",
    "\n",
    "# Add some text for labels, title and custom x-axis tick labels, etc.\n",
    "ax.set_ylabel('Accuracy')\n",
    "ax.set_title('Model Accuracy Comparison: Early vs Middle Integration')\n",
    "ax.set_xticks(x)\n",
    "ax.set_xticklabels(labels)\n",
    "ax.legend()\n",
    "\n",
    "# Function to add labels on top of the bars\n",
    "def add_labels(rects):\n",
    "    for rect in rects:\n",
    "        height = rect.get_height()\n",
    "        ax.annotate(f'{height:.2f}',\n",
    "                    xy=(rect.get_x() + rect.get_width() / 2, height),\n",
    "                    xytext=(0, 3),  # 3 points vertical offset\n",
    "                    textcoords=\"offset points\",\n",
    "                    ha='center', va='bottom')\n",
    "\n",
    "# Add labels on top of the bars\n",
    "add_labels(rects1)\n",
    "add_labels(rects2)\n",
    "\n",
    "# Adjust layout to make room for the labels\n",
    "fig.tight_layout()\n",
    "\n",
    "# Show the plot\n",
    "plt.show()\n"
   ]
  },
  {
   "cell_type": "code",
   "execution_count": 115,
   "id": "b22cb498-36cf-4415-ba21-2dc3fa79a50d",
   "metadata": {
    "tags": []
   },
   "outputs": [
    {
     "data": {
      "image/png": "[encoded data removed]",
      "text/plain": [
       "<Figure size 640x480 with 1 Axes>"
      ]
     },
     "metadata": {},
     "output_type": "display_data"
    }
   ],
   "source": [
    "# Create lists for the F1 scores of the different models\n",
    "f1_early = [f1_rf_early, f1_svm_early, f1_mlp_early]\n",
    "f1_mid = [f1_rf_mid, f1_svm_mid, f1_mlp_mid]\n",
    "\n",
    "# Set up the figure and axes for F1 comparison\n",
    "fig, ax = plt.subplots()\n",
    "\n",
    "# Plot the bars for early integration F1 scores\n",
    "rects1 = ax.bar(x - width/2, f1_early, width, label='Early Integration')\n",
    "\n",
    "# Plot the bars for middle integration F1 scores\n",
    "rects2 = ax.bar(x + width/2, f1_mid, width, label='Middle Integration')\n",
    "\n",
    "# Add labels, title and x-axis tick labels\n",
    "ax.set_ylabel('F1 Score')\n",
    "ax.set_title('Model F1 Score Comparison: Early vs Middle Integration')\n",
    "ax.set_xticks(x)\n",
    "ax.set_xticklabels(labels)\n",
    "ax.legend()\n",
    "\n",
    "# Add F1 score labels on top of the bars\n",
    "add_labels(rects1)\n",
    "add_labels(rects2)\n",
    "\n",
    "# Adjust layout and show plot\n",
    "fig.tight_layout()\n",
    "plt.show()\n"
   ]
  },
  {
   "cell_type": "code",
   "execution_count": null,
   "id": "49158d0f-cea6-4556-aacc-db41a494a043",
   "metadata": {},
   "outputs": [],
   "source": []
  },
  {
   "cell_type": "code",
   "execution_count": 6,
   "id": "930468b1-6f5a-463e-8d35-e19b215bd7ee",
   "metadata": {
    "tags": []
   },
   "outputs": [
    {
     "name": "stdout",
     "output_type": "stream",
     "text": [
      "Graph is connected  False\n",
      "Calculate subgraph ...\n",
      "Number of subgraphs:  118\n",
      "Size of subgraph:  2049\n",
      "Graph is connected  True\n",
      "##################\n",
      "# DATASET LOADED #\n",
      "##################\n",
      "graphcnn for training ...\n",
      "Graphs class 0: 200, Graphs class 1: 306\n",
      "Length of balanced dataset list: 400\n",
      "Train graph class 0: 164, train graph class 1: 156\n",
      "Validation graph class 0: 36, validation graph class 1: 44\n"
     ]
    },
    {
     "name": "stderr",
     "output_type": "stream",
     "text": [
      "  0%|          | 0/35 [00:00<?, ?batch/s]/Users/jasonliu/GNN-SubNet/GNNSubNet/graphcnn.py:134: UserWarning: torch.sparse.SparseTensor(indices, values, shape, *, device=) is deprecated.  Please use torch.sparse_coo_tensor(indices, values, shape, dtype=, device=). (Triggered internally at /Users/runner/work/pytorch/pytorch/pytorch/torch/csrc/utils/tensor_new.cpp:620.)\n",
      "  graph_pool = torch.sparse.FloatTensor(idx, elem, torch.Size([len(batch_graph), start_idx[-1]]))\n",
      "100%|██████████| 35/35 [00:06<00:00,  5.07batch/s]\n"
     ]
    },
    {
     "name": "stdout",
     "output_type": "stream",
     "text": [
      "Epoch 0, loss 230.5337\n",
      "Train Acc 0.5406\n",
      "Epoch 0, val_loss 44.7451\n",
      "Saving best model with validation loss 44.74506759643555\n"
     ]
    },
    {
     "name": "stderr",
     "output_type": "stream",
     "text": [
      "100%|██████████| 35/35 [00:06<00:00,  5.47batch/s]\n"
     ]
    },
    {
     "name": "stdout",
     "output_type": "stream",
     "text": [
      "Epoch 1, loss 34.7142\n",
      "Train Acc 0.7094\n",
      "Epoch 1, val_loss 11.7116\n",
      "Saving best model with validation loss 11.711624145507812\n"
     ]
    },
    {
     "name": "stderr",
     "output_type": "stream",
     "text": [
      "100%|██████████| 35/35 [00:07<00:00,  4.80batch/s]\n"
     ]
    },
    {
     "name": "stdout",
     "output_type": "stream",
     "text": [
      "Epoch 2, loss 22.7601\n",
      "Train Acc 0.5813\n",
      "Epoch 2, val_loss 9.3140\n",
      "Saving best model with validation loss 9.314026832580566\n"
     ]
    },
    {
     "name": "stderr",
     "output_type": "stream",
     "text": [
      "100%|██████████| 35/35 [00:06<00:00,  5.16batch/s]\n"
     ]
    },
    {
     "name": "stdout",
     "output_type": "stream",
     "text": [
      "Epoch 3, loss 21.4338\n",
      "Train Acc 0.7219\n",
      "Epoch 3, val_loss 10.5781\n"
     ]
    },
    {
     "name": "stderr",
     "output_type": "stream",
     "text": [
      "100%|██████████| 35/35 [00:08<00:00,  4.24batch/s]\n"
     ]
    },
    {
     "name": "stdout",
     "output_type": "stream",
     "text": [
      "Epoch 4, loss 26.1612\n",
      "Train Acc 0.5125\n",
      "Epoch 4, val_loss 89.0255\n"
     ]
    },
    {
     "name": "stderr",
     "output_type": "stream",
     "text": [
      "100%|██████████| 35/35 [00:05<00:00,  6.12batch/s]\n"
     ]
    },
    {
     "name": "stdout",
     "output_type": "stream",
     "text": [
      "Epoch 5, loss 19.4390\n",
      "Train Acc 0.8125\n",
      "Epoch 5, val_loss 4.6878\n",
      "Saving best model with validation loss 4.687828540802002\n"
     ]
    },
    {
     "name": "stderr",
     "output_type": "stream",
     "text": [
      "100%|██████████| 35/35 [00:06<00:00,  5.25batch/s]\n"
     ]
    },
    {
     "name": "stdout",
     "output_type": "stream",
     "text": [
      "Epoch 6, loss 14.0458\n",
      "Train Acc 0.7188\n",
      "Epoch 6, val_loss 7.4858\n"
     ]
    },
    {
     "name": "stderr",
     "output_type": "stream",
     "text": [
      "100%|██████████| 35/35 [00:05<00:00,  5.87batch/s]\n"
     ]
    },
    {
     "name": "stdout",
     "output_type": "stream",
     "text": [
      "Epoch 7, loss 21.3571\n",
      "Train Acc 0.5406\n",
      "Epoch 7, val_loss 16.1917\n"
     ]
    },
    {
     "name": "stderr",
     "output_type": "stream",
     "text": [
      "100%|██████████| 35/35 [00:05<00:00,  6.37batch/s]\n"
     ]
    },
    {
     "name": "stdout",
     "output_type": "stream",
     "text": [
      "Epoch 8, loss 16.8927\n",
      "Train Acc 0.7688\n",
      "Epoch 8, val_loss 7.9263\n"
     ]
    },
    {
     "name": "stderr",
     "output_type": "stream",
     "text": [
      "100%|██████████| 35/35 [00:06<00:00,  5.70batch/s]\n"
     ]
    },
    {
     "name": "stdout",
     "output_type": "stream",
     "text": [
      "Epoch 9, loss 18.1447\n",
      "Train Acc 0.7188\n",
      "Epoch 9, val_loss 6.6462\n"
     ]
    },
    {
     "name": "stderr",
     "output_type": "stream",
     "text": [
      "100%|██████████| 35/35 [00:06<00:00,  5.75batch/s]\n"
     ]
    },
    {
     "name": "stdout",
     "output_type": "stream",
     "text": [
      "Epoch 10, loss 10.7640\n",
      "Train Acc 0.7594\n",
      "Epoch 10, val_loss 4.0606\n",
      "Saving best model with validation loss 4.060608863830566\n"
     ]
    },
    {
     "name": "stderr",
     "output_type": "stream",
     "text": [
      "100%|██████████| 35/35 [00:06<00:00,  5.68batch/s]\n"
     ]
    },
    {
     "name": "stdout",
     "output_type": "stream",
     "text": [
      "Epoch 11, loss 10.2801\n",
      "Train Acc 0.5813\n",
      "Epoch 11, val_loss 7.1258\n"
     ]
    },
    {
     "name": "stderr",
     "output_type": "stream",
     "text": [
      "100%|██████████| 35/35 [00:06<00:00,  5.73batch/s]\n"
     ]
    },
    {
     "name": "stdout",
     "output_type": "stream",
     "text": [
      "Epoch 12, loss 9.0304\n",
      "Train Acc 0.5875\n",
      "Epoch 12, val_loss 6.4005\n"
     ]
    },
    {
     "name": "stderr",
     "output_type": "stream",
     "text": [
      "100%|██████████| 35/35 [00:06<00:00,  5.15batch/s]\n"
     ]
    },
    {
     "name": "stdout",
     "output_type": "stream",
     "text": [
      "Epoch 13, loss 10.5649\n",
      "Train Acc 0.4969\n",
      "Epoch 13, val_loss 16.4008\n"
     ]
    },
    {
     "name": "stderr",
     "output_type": "stream",
     "text": [
      "100%|██████████| 35/35 [00:06<00:00,  5.05batch/s]\n"
     ]
    },
    {
     "name": "stdout",
     "output_type": "stream",
     "text": [
      "Epoch 14, loss 17.3929\n",
      "Train Acc 0.7094\n",
      "Epoch 14, val_loss 3.8763\n",
      "Saving best model with validation loss 3.8763251304626465\n"
     ]
    },
    {
     "name": "stderr",
     "output_type": "stream",
     "text": [
      "100%|██████████| 35/35 [00:06<00:00,  5.26batch/s]\n"
     ]
    },
    {
     "name": "stdout",
     "output_type": "stream",
     "text": [
      "Epoch 15, loss 7.7864\n",
      "Train Acc 0.8187\n",
      "Epoch 15, val_loss 3.1273\n",
      "Saving best model with validation loss 3.127290964126587\n"
     ]
    },
    {
     "name": "stderr",
     "output_type": "stream",
     "text": [
      "100%|██████████| 35/35 [00:05<00:00,  6.54batch/s]\n"
     ]
    },
    {
     "name": "stdout",
     "output_type": "stream",
     "text": [
      "Epoch 16, loss 8.5635\n",
      "Train Acc 0.6188\n",
      "Epoch 16, val_loss 4.7846\n"
     ]
    },
    {
     "name": "stderr",
     "output_type": "stream",
     "text": [
      "100%|██████████| 35/35 [00:05<00:00,  6.33batch/s]\n"
     ]
    },
    {
     "name": "stdout",
     "output_type": "stream",
     "text": [
      "Epoch 17, loss 8.1738\n",
      "Train Acc 0.6188\n",
      "Epoch 17, val_loss 4.7466\n"
     ]
    },
    {
     "name": "stderr",
     "output_type": "stream",
     "text": [
      "100%|██████████| 35/35 [00:05<00:00,  6.23batch/s]\n"
     ]
    },
    {
     "name": "stdout",
     "output_type": "stream",
     "text": [
      "Epoch 18, loss 6.6522\n",
      "Train Acc 0.8219\n",
      "Epoch 18, val_loss 3.3936\n"
     ]
    },
    {
     "name": "stderr",
     "output_type": "stream",
     "text": [
      "100%|██████████| 35/35 [00:06<00:00,  5.25batch/s]\n"
     ]
    },
    {
     "name": "stdout",
     "output_type": "stream",
     "text": [
      "Epoch 19, loss 7.2444\n",
      "Train Acc 0.6906\n",
      "Epoch 19, val_loss 3.7194\n",
      "\n",
      "Confusion matrix (Validation set):\n",
      "\n",
      "[[27  9]\n",
      " [ 3 41]]\n",
      "Validation accuracy: 85.0%\n",
      "Validation loss 3.127290964126587\n"
     ]
    }
   ],
   "source": [
    "loc   = \"/Users/jasonliu/GNN-SubNet/TCGA\"\n",
    "# PPI network\n",
    "ppi   = f'{loc}/KIDNEY_RANDOM_PPI.txt'\n",
    "# single-omic features\n",
    "#feats = [f'{loc}/KIDNEY_RANDOM_Methy_FEATURES.txt']\n",
    "# multi-omic features\n",
    "feats = [f'{loc}/KIDNEY_RANDOM_mRNA_FEATURES.txt', f'{loc}/KIDNEY_RANDOM_Methy_FEATURES.txt']\n",
    "# outcome class\n",
    "targ  = f'{loc}/KIDNEY_RANDOM_TARGET.txt'\n",
    "\n",
    "# Load the multi-omics data \n",
    "g = GNNSubNet(loc, ppi, feats, targ, random_seed=42)\n",
    "\n",
    "# Train the GNN classifier and validate performance on a test set\n",
    "g.train()"
   ]
  },
  {
   "cell_type": "code",
   "execution_count": 9,
   "id": "61162f7a-8956-41cc-ad58-7d099474cd89",
   "metadata": {
    "tags": []
   },
   "outputs": [
    {
     "name": "stdout",
     "output_type": "stream",
     "text": [
      "\n",
      "------- Run the Explainer -------\n",
      "\n",
      "Explainer::Iteration 1 of 10\n",
      "Explainer::Iteration 2 of 10\n",
      "Explainer::Iteration 3 of 10\n",
      "Explainer::Iteration 4 of 10\n",
      "Explainer::Iteration 5 of 10\n",
      "Explainer::Iteration 6 of 10\n",
      "Explainer::Iteration 7 of 10\n",
      "Explainer::Iteration 8 of 10\n",
      "Explainer::Iteration 9 of 10\n",
      "Explainer::Iteration 10 of 10\n"
     ]
    }
   ],
   "source": [
    "# Run the Explainer with 10 iterations\n",
    "g.explain(10)"
   ]
  },
  {
   "cell_type": "code",
   "execution_count": 14,
   "id": "05b7e237-8ca2-40ee-8700-046558c1471a",
   "metadata": {
    "tags": []
   },
   "outputs": [
    {
     "name": "stdout",
     "output_type": "stream",
     "text": [
      "['A2M' 'AACS' 'AARS' ... 'ZNRF3' 'ZRANB1' 'ZWILCH']\n",
      "[[   0  124]\n",
      " [   0  128]\n",
      " [   0  355]\n",
      " ...\n",
      " [2048 1207]\n",
      " [2048 1281]\n",
      " [2048 1688]]\n"
     ]
    }
   ],
   "source": [
    "# Edge and Node (Gene) Importances \n",
    "print(g.gene_names)\n",
    "print(g.edges)"
   ]
  },
  {
   "cell_type": "code",
   "execution_count": 15,
   "id": "4ff9891f-35dd-4c3d-b9c9-baad6a6c36c0",
   "metadata": {
    "tags": []
   },
   "outputs": [
    {
     "name": "stdout",
     "output_type": "stream",
     "text": [
      "[[0.4436892 ]\n",
      " [0.83189076]\n",
      " [0.83072567]\n",
      " ...\n",
      " [0.72481537]\n",
      " [0.2775697 ]\n",
      " [0.27179712]]\n",
      "[0.77674353 0.31658074 0.08502478 ... 0.7459034  0.48772088 0.4451739 ]\n"
     ]
    }
   ],
   "source": [
    "# Importances\n",
    "print(g.edge_mask)\n",
    "print(g.node_mask)"
   ]
  },
  {
   "cell_type": "code",
   "execution_count": 17,
   "id": "b58695f4-de8d-44f0-af43-ee689f767e66",
   "metadata": {
    "tags": []
   },
   "outputs": [
    {
     "name": "stdout",
     "output_type": "stream",
     "text": [
      "Clustering with 2049 elements and 39 clusters\n",
      "[ 0] 0, 16, 17, 45, 46, 47, 49, 50, 61, 62, 69, 70, 71, 100, 101, 123, 124,\n",
      "     125, 126, 127, 128, 189, 198, 226, 227, 229, 230, 231, 232, 233, 234,\n",
      "     235, 236, 237, 270, 280, 290, 291, 295, 297, 301, 334, 355, 374, 375,\n",
      "     388, 391, 392, 396, 397, 398, 405, 406, 407, 408, 418, 422, 429, 507,\n",
      "     521, 535, 570, 614, 615, 619, 620, 650, 656, 663, 668, 676, 685, 722,\n",
      "     731, 733, 734, 742, 745, 746, 747, 755, 797, 833, 834, 835, 845, 914,\n",
      "     915, 916, 917, 918, 919, 920, 921, 922, 923, 924, 925, 926, 927, 928,\n",
      "     929, 930, 931, 932, 933, 934, 953, 995, 1004, 1005, 1006, 1007, 1008,\n",
      "     1009, 1010, 1011, 1012, 1013, 1014, 1018, 1039, 1042, 1043, 1046, 1049,\n",
      "     1077, 1082, 1110, 1126, 1127, 1129, 1133, 1152, 1159, 1191, 1208, 1227,\n",
      "     1228, 1255, 1261, 1303, 1304, 1346, 1397, 1398, 1421, 1434, 1464, 1481,\n",
      "     1482, 1562, 1563, 1611, 1635, 1651, 1660, 1665, 1666, 1667, 1668, 1669,\n",
      "     1686, 1694, 1733, 1734, 1737, 1739, 1745, 1839, 1842, 1846, 1852, 1858,\n",
      "     1869, 1878, 1977, 1978, 1981, 1992, 1993\n",
      "[ 1] 1, 20, 21, 22, 23, 24, 25, 26, 27, 28, 177, 404, 414, 545, 647, 648, 736,\n",
      "     748, 781, 782, 821, 822, 823, 836, 855, 1036, 1301, 1308, 1338, 1339,\n",
      "     1342, 1343, 1691, 1692, 1693\n",
      "[ 2] 2, 3, 63, 83, 84, 95, 96, 163, 186, 187, 188, 265, 281, 282, 283, 449,\n",
      "     583, 629, 630, 631, 671, 699, 730, 853, 854, 883, 1076, 1122, 1145, 1146,\n",
      "     1147, 1149, 1150, 1353, 1521, 1536, 1537, 1619, 1819, 2025\n",
      "[ 3] 4, 118, 369, 370, 371, 434, 687, 688, 705, 706, 737, 738, 739, 741, 1047,\n",
      "     1442, 1443, 1444, 1445, 1446, 1512, 1513, 1515, 1566, 1569, 1690, 1700,\n",
      "     1721, 1786, 1787, 1788, 1789, 1790, 1798, 1804, 1868, 1924, 1950, 1951,\n",
      "     1990, 1991\n",
      "[ 4] 5, 7, 41, 42, 43, 64, 74, 147, 148, 155, 156, 159, 165, 179, 181, 185,\n",
      "     196, 205, 206, 217, 238, 239, 254, 255, 256, 264, 273, 292, 338, 339,\n",
      "     340, 344, 403, 409, 410, 459, 466, 489, 499, 500, 501, 523, 532, 536,\n",
      "     543, 547, 569, 572, 599, 600, 601, 602, 616, 617, 623, 669, 673, 700,\n",
      "     709, 785, 786, 787, 788, 789, 796, 798, 803, 804, 805, 806, 807, 808,\n",
      "     809, 810, 811, 812, 814, 824, 851, 856, 885, 886, 943, 947, 949, 952,\n",
      "     957, 958, 959, 1056, 1057, 1071, 1079, 1080, 1092, 1098, 1099, 1100,\n",
      "     1101, 1102, 1103, 1104, 1105, 1120, 1142, 1143, 1144, 1163, 1168, 1169,\n",
      "     1200, 1201, 1202, 1203, 1204, 1205, 1206, 1212, 1214, 1218, 1219, 1250,\n",
      "     1251, 1252, 1253, 1254, 1262, 1263, 1264, 1266, 1268, 1272, 1283, 1320,\n",
      "     1348, 1360, 1361, 1362, 1363, 1364, 1392, 1406, 1415, 1437, 1438, 1439,\n",
      "     1440, 1441, 1457, 1458, 1461, 1490, 1500, 1534, 1535, 1556, 1575, 1597,\n",
      "     1598, 1610, 1615, 1618, 1670, 1687, 1701, 1702, 1703, 1719, 1720, 1725,\n",
      "     1738, 1810, 1827, 1828, 1829, 1843, 1844, 1847, 1848, 1849, 1853, 1854,\n",
      "     1861, 1862, 1863, 1898, 1899, 1901, 1940, 1947, 1966, 2032, 2033, 2035,\n",
      "     2037, 2038, 2039, 2040, 2042\n",
      "[ 5] 6, 122, 158, 164, 171, 172, 178, 203, 210, 211, 216, 257, 303, 309, 311,\n",
      "     342, 352, 353, 395, 415, 431, 451, 453, 454, 456, 458, 472, 491, 502,\n",
      "     531, 546, 590, 591, 592, 593, 594, 605, 625, 626, 627, 641, 777, 780,\n",
      "     792, 800, 802, 948, 1024, 1025, 1085, 1086, 1088, 1089, 1090, 1093, 1096,\n",
      "     1123, 1124, 1130, 1137, 1138, 1139, 1140, 1141, 1158, 1160, 1188, 1241,\n",
      "     1256, 1277, 1313, 1316, 1321, 1349, 1350, 1351, 1416, 1417, 1422, 1423,\n",
      "     1424, 1425, 1426, 1427, 1436, 1451, 1452, 1460, 1462, 1476, 1522, 1525,\n",
      "     1526, 1527, 1545, 1559, 1560, 1561, 1568, 1576, 1603, 1607, 1728, 1747,\n",
      "     1857, 1885, 1886, 1887, 1888, 1903, 1959, 1961, 2000, 2011, 2019, 2020,\n",
      "     2021, 2022\n",
      "[ 6] 8, 9, 52, 53, 54, 55, 56, 57, 58, 59, 76, 511, 512, 686, 717, 732, 751,\n",
      "     752, 753, 768, 769, 847, 850, 954, 1023, 1033, 1327, 1333, 1418, 1420,\n",
      "     1468, 1469, 1533, 1570, 1695, 1696, 1806, 1914\n",
      "[ 7] 10, 18, 30, 33, 60, 73, 129, 142, 146, 183, 184, 191, 213, 214, 218, 219,\n",
      "     259, 266, 306, 307, 308, 336, 337, 341, 343, 400, 401, 402, 413, 416,\n",
      "     417, 423, 426, 435, 450, 461, 463, 467, 468, 469, 471, 473, 474, 476,\n",
      "     477, 479, 540, 560, 582, 585, 603, 606, 607, 608, 609, 610, 611, 612,\n",
      "     624, 649, 659, 677, 692, 704, 710, 711, 744, 772, 790, 801, 820, 825,\n",
      "     826, 827, 828, 829, 849, 882, 901, 902, 903, 951, 963, 970, 991, 1001,\n",
      "     1030, 1081, 1097, 1112, 1181, 1184, 1186, 1215, 1312, 1314, 1317, 1318,\n",
      "     1323, 1341, 1393, 1419, 1459, 1480, 1483, 1484, 1485, 1486, 1487, 1488,\n",
      "     1489, 1498, 1523, 1544, 1547, 1548, 1550, 1551, 1552, 1620, 1623, 1634,\n",
      "     1661, 1662, 1663, 1664, 1671, 1672, 1673, 1674, 1685, 1697, 1704, 1705,\n",
      "     1706, 1707, 1708, 1714, 1715, 1716, 1717, 1726, 1727, 1744, 1749, 1764,\n",
      "     1765, 1766, 1767, 1797, 1799, 1822, 1826, 1841, 1845, 1877, 1918, 1919,\n",
      "     1934, 1952, 1956, 1957, 1986, 1999, 2003, 2015, 2024, 2026, 2041, 2044\n",
      "[ 8] 11, 12, 31, 39, 66, 107, 108, 109, 110, 111, 112, 113, 114, 115, 116,\n",
      "     149, 197, 240, 354, 437, 438, 446, 495, 497, 498, 504, 505, 564, 567,\n",
      "     579, 581, 584, 665, 678, 698, 799, 863, 939, 940, 950, 1197, 1198, 1230,\n",
      "     1309, 1571, 1583, 1676, 1681, 1722, 1729, 1761, 1762, 1784, 1800, 1801,\n",
      "     1802, 1803, 1962, 1995, 1996, 1997, 1998\n",
      "[ 9] 13, 207, 452, 460, 462, 464, 481, 503, 534, 597, 613, 634, 674, 735, 791,\n",
      "     1132, 1164, 1189, 1199, 1239, 1243, 1244, 1245, 1246, 1247, 1319, 1330,\n",
      "     1352, 1372, 1428, 1517, 1549, 1604, 1605, 1606, 1689, 1823, 1915, 1968,\n",
      "     1969, 2002, 2005, 2023, 2030, 2031\n",
      "[10] 14, 15, 19, 29, 32, 34, 35, 36, 37, 82, 85, 86, 119, 152, 220, 250, 251,\n",
      "     275, 278, 399, 425, 432, 433, 618, 632, 636, 637, 638, 639, 640, 643,\n",
      "     707, 708, 712, 713, 720, 727, 728, 749, 815, 816, 817, 818, 819, 910,\n",
      "     941, 962, 986, 1017, 1034, 1040, 1083, 1166, 1167, 1170, 1171, 1172,\n",
      "     1173, 1174, 1175, 1176, 1177, 1179, 1209, 1259, 1299, 1315, 1322, 1324,\n",
      "     1325, 1326, 1354, 1355, 1356, 1357, 1358, 1359, 1391, 1731, 1732, 1859,\n",
      "     1860, 1864, 1875, 1876, 1909, 1917, 1970, 1979\n",
      "[11] 38, 78, 97, 98, 99, 154, 200, 222, 223, 224, 276, 277, 304, 316, 319,\n",
      "     320, 321, 323, 348, 349, 350, 351, 424, 457, 488, 519, 525, 526, 529,\n",
      "     530, 533, 596, 598, 670, 884, 905, 906, 907, 965, 967, 968, 969, 971,\n",
      "     972, 975, 978, 979, 980, 981, 984, 990, 996, 1031, 1051, 1052, 1091,\n",
      "     1095, 1109, 1121, 1165, 1192, 1193, 1194, 1195, 1196, 1207, 1231, 1281,\n",
      "     1293, 1344, 1345, 1524, 1542, 1546, 1688, 1709, 1710, 1711, 1712, 1713,\n",
      "     1740, 1741, 1772, 1773, 1794, 1795, 1807, 1808, 1809, 1883, 1884, 1902,\n",
      "     1963, 2036, 2048\n",
      "[12] 40, 571, 574, 575, 887, 1224, 1811, 1812, 1813, 1814, 1815, 1910\n",
      "[13] 44, 51, 77, 80, 81, 87, 105, 130, 132, 133, 134, 135, 136, 137, 138, 139,\n",
      "     140, 141, 143, 144, 145, 151, 190, 195, 202, 271, 272, 284, 288, 289,\n",
      "     293, 294, 296, 298, 299, 300, 312, 347, 419, 420, 436, 445, 447, 470,\n",
      "     475, 482, 506, 522, 541, 542, 566, 576, 577, 578, 586, 587, 588, 644,\n",
      "     645, 651, 652, 653, 654, 655, 657, 662, 664, 672, 684, 703, 714, 715,\n",
      "     716, 718, 719, 729, 743, 750, 754, 756, 793, 794, 852, 857, 862, 866,\n",
      "     867, 868, 869, 873, 874, 875, 876, 877, 878, 879, 880, 881, 888, 889,\n",
      "     890, 891, 911, 912, 913, 935, 944, 945, 946, 960, 964, 987, 988, 989,\n",
      "     1000, 1020, 1027, 1028, 1029, 1032, 1041, 1050, 1054, 1065, 1084, 1111,\n",
      "     1125, 1128, 1135, 1161, 1162, 1178, 1183, 1190, 1211, 1213, 1225, 1238,\n",
      "     1249, 1269, 1270, 1271, 1274, 1278, 1279, 1280, 1295, 1296, 1297, 1298,\n",
      "     1305, 1310, 1311, 1336, 1337, 1366, 1367, 1370, 1373, 1374, 1375, 1377,\n",
      "     1378, 1379, 1380, 1382, 1383, 1387, 1394, 1402, 1403, 1404, 1405, 1412,\n",
      "     1413, 1449, 1450, 1465, 1473, 1479, 1504, 1505, 1506, 1507, 1508, 1510,\n",
      "     1511, 1514, 1532, 1538, 1540, 1541, 1557, 1564, 1565, 1574, 1578, 1581,\n",
      "     1586, 1587, 1608, 1609, 1616, 1617, 1656, 1657, 1678, 1679, 1680, 1683,\n",
      "     1698, 1735, 1736, 1750, 1760, 1771, 1774, 1776, 1777, 1778, 1779, 1780,\n",
      "     1781, 1796, 1821, 1838, 1855, 1856, 1881, 1882, 1896, 1900, 1905, 1907,\n",
      "     1926, 1928, 1967, 1974, 1975, 1976, 2027, 2029\n",
      "[14] 48, 92, 204, 372, 373, 376, 377, 378, 379, 380, 381, 382, 383, 384, 385,\n",
      "     386, 387, 389, 390, 490, 565, 568, 635, 1037, 1038, 1742\n",
      "[15] 65, 212, 279, 310, 314, 315, 318, 421, 427, 561, 562, 563, 892, 893, 894,\n",
      "     895, 896, 897, 898, 899, 942, 1019, 1187, 1429, 1453, 1454, 1455, 1456,\n",
      "     1577, 1580, 1590, 1596, 1768, 1791, 1792, 1793, 1825, 1994, 2034, 2043,\n",
      "     2045\n",
      "[16] 67, 153, 168, 241, 242, 243, 244, 245, 246, 247, 248, 249, 252, 253, 345,\n",
      "     483, 484, 485, 486, 487, 573, 757, 758, 759, 760, 761, 762, 763, 764,\n",
      "     765, 766, 767, 770, 848, 1048, 1074, 1075, 1094, 1232, 1233, 1248, 1275,\n",
      "     1276, 1371, 1471, 1474, 1539, 1612, 1613, 1614, 1682, 1805, 1897\n",
      "[17] 68, 166, 167, 169, 170, 701, 779, 1114, 1226, 1365, 1518, 1519, 1520,\n",
      "     1866, 1942\n",
      "[18] 72, 79, 88, 94, 228, 274, 317, 322, 324, 325, 326, 327, 328, 329, 330,\n",
      "     331, 332, 633, 783, 784, 900, 904, 973, 1015, 1210, 1216, 1229, 1240,\n",
      "     1257, 1258, 1282, 1300, 1328, 1329, 1407, 1408, 1591, 1592, 1622, 1625,\n",
      "     1636, 1675, 1783, 1830, 1867, 1920, 1921, 1922, 1923, 2012\n",
      "[19] 75, 117, 173, 180, 182, 192, 193, 194, 201, 209, 260, 261, 262, 263, 267,\n",
      "     268, 269, 335, 346, 359, 428, 430, 524, 589, 621, 622, 642, 675, 721,\n",
      "     771, 795, 813, 864, 865, 870, 871, 872, 908, 909, 961, 1002, 1003, 1016,\n",
      "     1035, 1055, 1059, 1061, 1062, 1063, 1066, 1067, 1068, 1069, 1072, 1078,\n",
      "     1106, 1113, 1182, 1185, 1220, 1221, 1222, 1223, 1234, 1235, 1236, 1237,\n",
      "     1242, 1260, 1302, 1306, 1307, 1332, 1347, 1472, 1475, 1491, 1492, 1493,\n",
      "     1494, 1495, 1496, 1497, 1509, 1528, 1554, 1555, 1558, 1572, 1573, 1579,\n",
      "     1599, 1621, 1650, 1684, 1730, 1758, 1775, 1820, 1865, 1870, 1871, 1890,\n",
      "     1892, 1893, 1913, 1925, 1927, 1929, 1930, 1931, 1932, 1933, 1935, 1936,\n",
      "     1937, 1938, 1939, 1941, 1960, 1964, 1965, 1980, 1989, 2013, 2014, 2028,\n",
      "     2047\n",
      "[20] 89, 90, 91, 1501, 1502, 1503, 1824\n",
      "[21] 93, 160, 161, 162, 660, 1060, 1064, 1073, 1148, 1368, 1369, 1376, 1381,\n",
      "     1384, 1385, 1386, 1467, 1470, 1543, 1567, 1600, 1601, 1602, 1677, 1759,\n",
      "     1816, 1817, 1840, 1911, 1912, 1948, 1949, 1971, 1972, 2007\n",
      "[22] 102, 103, 104, 365, 366, 367, 368, 936, 937, 938, 955, 956, 1136, 1217,\n",
      "     1267, 1399, 1400, 1401, 1477, 1478, 1516, 1626, 1627, 1628, 1629, 1630,\n",
      "     1631, 1632, 1751, 1752, 1753, 1754, 1755, 1756, 1757, 1782, 1906, 1908\n",
      "[23] 106, 150, 333, 439, 440, 441, 442, 443, 444, 580, 666, 667, 778, 1058,\n",
      "     1447, 1943, 1944, 1945, 1946\n",
      "[24] 120, 121, 174, 175, 679, 680, 681, 682, 683, 1021, 1022, 1044, 1045,\n",
      "     1466, 1582, 1588, 1589, 1633, 1743, 1872, 1874, 1973, 2006, 2008, 2009,\n",
      "     2010, 2046\n",
      "[25] 131, 258, 302, 393, 394, 480, 702, 723, 740, 997, 998, 999, 1070, 1087,\n",
      "     1119, 1284, 1285, 1286, 1287, 1288, 1289, 1290, 1291, 1292, 1294, 1433,\n",
      "     1463, 1529, 1530, 1531, 1553, 1624, 1637, 1638, 1639, 1640, 1641, 1642,\n",
      "     1643, 1644, 1645, 1646, 1889, 1894, 1895, 1958, 2016, 2018\n",
      "[26] 157, 305, 313, 360, 361, 362, 363, 364, 465, 492, 493, 494, 496, 508,\n",
      "     537, 538, 539, 548, 549, 550, 551, 552, 553, 554, 555, 556, 557, 558,\n",
      "     559, 595, 697, 837, 838, 839, 840, 841, 842, 843, 844, 846, 1053, 1265,\n",
      "     1331, 1340, 1388, 1389, 1390, 1593, 1594, 1647, 1648, 1649, 1763, 1785,\n",
      "     1831, 1832, 1833, 1834, 1835, 1873, 1953\n",
      "[27] 176, 285, 286, 287, 646, 985, 994, 1026, 1134\n",
      "[28] 199, 215, 773, 774, 775, 776, 1430, 1431, 1432, 1723, 1724\n",
      "[29] 208, 356, 411, 527, 528, 658, 724, 725, 726, 858, 859, 860, 861, 966,\n",
      "     974, 976, 977, 982, 983, 1151, 1499, 1718, 1748, 1891, 1916, 2001, 2004\n",
      "[30] 221, 513, 514, 516, 517, 518, 520, 604, 661, 992, 993, 1395, 1396, 1448,\n",
      "     1746, 1769, 1851\n",
      "[31] 225, 689, 690, 691, 693, 694, 695, 696, 1153, 1154, 1155, 1156, 1157,\n",
      "     1770\n",
      "[32] 357, 358, 1334, 1335\n",
      "[33] 412, 509, 510, 628, 1273, 1409, 1410, 1411, 1414, 1652, 1653, 1654, 1655,\n",
      "     1658, 1659\n",
      "[34] 448, 455, 515, 1180, 1584, 1585, 1699, 1904, 1954, 1955\n",
      "[35] 478, 1131, 1435, 1595, 1818, 1879, 1880, 2017\n",
      "[36] 544, 830, 831, 832, 1107, 1108, 1836, 1837\n",
      "[37] 1115, 1116, 1117, 1118\n",
      "[38] 1850, 1982, 1983, 1984, 1985, 1987, 1988\n",
      "[0, 16, 17, 45, 46, 47, 49, 50, 61, 62, 69, 70, 71, 100, 101, 123, 124, 125, 126, 127, 128, 189, 198, 226, 227, 229, 230, 231, 232, 233, 234, 235, 236, 237, 270, 280, 290, 291, 295, 297, 301, 334, 355, 374, 375, 388, 391, 392, 396, 397, 398, 405, 406, 407, 408, 418, 422, 429, 507, 521, 535, 570, 614, 615, 619, 620, 650, 656, 663, 668, 676, 685, 722, 731, 733, 734, 742, 745, 746, 747, 755, 797, 833, 834, 835, 845, 914, 915, 916, 917, 918, 919, 920, 921, 922, 923, 924, 925, 926, 927, 928, 929, 930, 931, 932, 933, 934, 953, 995, 1004, 1005, 1006, 1007, 1008, 1009, 1010, 1011, 1012, 1013, 1014, 1018, 1039, 1042, 1043, 1046, 1049, 1077, 1082, 1110, 1126, 1127, 1129, 1133, 1152, 1159, 1191, 1208, 1227, 1228, 1255, 1261, 1303, 1304, 1346, 1397, 1398, 1421, 1434, 1464, 1481, 1482, 1562, 1563, 1611, 1635, 1651, 1660, 1665, 1666, 1667, 1668, 1669, 1686, 1694, 1733, 1734, 1737, 1739, 1745, 1839, 1842, 1846, 1852, 1858, 1869, 1878, 1977, 1978, 1981, 1992, 1993]\n",
      "[0.736095873786408, 0.5100043548387098, 0.4596573913043479, 0.41783487500000016, 0.5945595903165727, 0.5354928747795416, 0.5251792592592595, 0.5823364123376623, 0.47664851282051307, 0.6821836477987421, 0.7509704294478531, 0.5612898800959234, 0.368896, 0.7014430855539981, 0.899916470588235, 0.4481335294117649, 0.6577121238938056, 0.3644752000000001, 0.41420521276595745, 0.5003100346020762, 0.5014500000000001, 0.5085231944444444, 0.7751087999999999, 0.7615912499999999, 0.4485449152542372, 0.41453137931034506, 0.4003368275862071, 0.8960066666666668, 0.4487515625, 0.42367485981308434, 0.5010175000000001, 0.47359117647058824, 0.578228, 0.5179445833333334, 0.8788777777777779, 0.48241999999999996, 0.56891375, 0.3457266666666667, 0.402071]\n"
     ]
    }
   ],
   "source": [
    "# Detected modules and their importances\n",
    "print(g.modules)\n",
    "print(g.modules[0])\n",
    "print(g.module_importances)"
   ]
  },
  {
   "cell_type": "code",
   "execution_count": null,
   "id": "974d4fde-e7c6-4e9a-8d9d-74081f71bb75",
   "metadata": {},
   "outputs": [],
   "source": []
  }
 ],
 "metadata": {
  "kernelspec": {
   "display_name": "Python 3 (ipykernel)",
   "language": "python",
   "name": "python3"
  },
  "language_info": {
   "codemirror_mode": {
    "name": "ipython",
    "version": 3
   },
   "file_extension": ".py",
   "mimetype": "text/x-python",
   "name": "python",
   "nbconvert_exporter": "python",
   "pygments_lexer": "ipython3",
   "version": "3.11.5"
  }
 },
 "nbformat": 4,
 "nbformat_minor": 5
}
