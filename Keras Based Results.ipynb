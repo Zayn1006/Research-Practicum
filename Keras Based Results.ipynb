{
 "cells": [
  {
   "cell_type": "code",
   "execution_count": 1,
   "id": "37272483-3972-42d2-9bcd-fdd420b9909e",
   "metadata": {
    "tags": []
   },
   "outputs": [
    {
     "name": "stdout",
     "output_type": "stream",
     "text": [
      "Cloning into 'GNN-SubNet'...\n",
      "remote: Enumerating objects: 74465, done.\u001b[K\n",
      "remote: Counting objects: 100% (594/594), done.\u001b[K\n",
      "remote: Compressing objects: 100% (270/270), done.\u001b[K\n",
      "remote: Total 74465 (delta 318), reused 571 (delta 296), pack-reused 73871\u001b[K\n",
      "Receiving objects: 100% (74465/74465), 58.86 MiB | 10.90 MiB/s, done.\n",
      "Resolving deltas: 100% (4879/4879), done.\n"
     ]
    }
   ],
   "source": [
    "!git clone https://github.com/pievos101/GNN-SubNet.git"
   ]
  },
  {
   "cell_type": "code",
   "execution_count": 1,
   "id": "c9c112d0-e93f-49c8-bda5-002d7545fdab",
   "metadata": {
    "tags": []
   },
   "outputs": [
    {
     "name": "stdout",
     "output_type": "stream",
     "text": [
      "currant path： /Users/jasonliu\n",
      "change path to： /Users/jasonliu/GNN-SubNet\n"
     ]
    }
   ],
   "source": [
    "import os\n",
    "print(\"currant path：\", os.getcwd())\n",
    "new_directory = '/Users/jasonliu/GNN-SubNet' \n",
    "os.chdir(new_directory)\n",
    "print(\"change path to：\", os.getcwd())\n"
   ]
  },
  {
   "cell_type": "code",
   "execution_count": 5,
   "id": "ad82fd0e-c793-4750-b2af-f4c17da3edb3",
   "metadata": {
    "tags": []
   },
   "outputs": [
    {
     "name": "stdout",
     "output_type": "stream",
     "text": [
      "Requirement already satisfied: GNNSubNet in ./anaconda3/lib/python3.11/site-packages (0.2.1)\n",
      "Requirement already satisfied: dgl in ./anaconda3/lib/python3.11/site-packages (from GNNSubNet) (1.1.2.post1)\n",
      "Requirement already satisfied: igraph in ./anaconda3/lib/python3.11/site-packages (from GNNSubNet) (0.11.3)\n",
      "Requirement already satisfied: matplotlib in ./anaconda3/lib/python3.11/site-packages (from GNNSubNet) (3.8.2)\n",
      "Requirement already satisfied: networkx in ./anaconda3/lib/python3.11/site-packages (from GNNSubNet) (3.2.1)\n",
      "Requirement already satisfied: numpy in ./anaconda3/lib/python3.11/site-packages (from GNNSubNet) (1.26.4)\n",
      "Requirement already satisfied: pandas in ./anaconda3/lib/python3.11/site-packages (from GNNSubNet) (2.2.0)\n",
      "Requirement already satisfied: requests in ./anaconda3/lib/python3.11/site-packages (from GNNSubNet) (2.31.0)\n",
      "Requirement already satisfied: scikit-learn in ./anaconda3/lib/python3.11/site-packages (from GNNSubNet) (1.4.0)\n",
      "Requirement already satisfied: scipy in ./anaconda3/lib/python3.11/site-packages (from GNNSubNet) (1.12.0)\n",
      "Requirement already satisfied: torch in ./anaconda3/lib/python3.11/site-packages (from GNNSubNet) (2.2.1)\n",
      "Requirement already satisfied: torch-geometric in ./anaconda3/lib/python3.11/site-packages (from GNNSubNet) (2.5.2)\n",
      "Requirement already satisfied: torch-scatter in ./anaconda3/lib/python3.11/site-packages (from GNNSubNet) (2.1.2)\n",
      "Requirement already satisfied: torch-sparse in ./anaconda3/lib/python3.11/site-packages (from GNNSubNet) (0.6.18)\n",
      "Requirement already satisfied: torchvision in ./anaconda3/lib/python3.11/site-packages (from GNNSubNet) (0.17.1)\n",
      "Requirement already satisfied: tqdm in ./anaconda3/lib/python3.11/site-packages (from GNNSubNet) (4.66.2)\n",
      "Requirement already satisfied: wheel in ./anaconda3/lib/python3.11/site-packages (from GNNSubNet) (0.38.4)\n",
      "Requirement already satisfied: psutil>=5.8.0 in ./anaconda3/lib/python3.11/site-packages (from dgl->GNNSubNet) (5.9.0)\n",
      "Requirement already satisfied: charset-normalizer<4,>=2 in ./anaconda3/lib/python3.11/site-packages (from requests->GNNSubNet) (2.0.4)\n",
      "Requirement already satisfied: idna<4,>=2.5 in ./anaconda3/lib/python3.11/site-packages (from requests->GNNSubNet) (3.4)\n",
      "Requirement already satisfied: urllib3<3,>=1.21.1 in ./anaconda3/lib/python3.11/site-packages (from requests->GNNSubNet) (1.26.16)\n",
      "Requirement already satisfied: certifi>=2017.4.17 in ./anaconda3/lib/python3.11/site-packages (from requests->GNNSubNet) (2023.7.22)\n",
      "Requirement already satisfied: texttable>=1.6.2 in ./anaconda3/lib/python3.11/site-packages (from igraph->GNNSubNet) (1.7.0)\n",
      "Requirement already satisfied: contourpy>=1.0.1 in ./anaconda3/lib/python3.11/site-packages (from matplotlib->GNNSubNet) (1.0.5)\n",
      "Requirement already satisfied: cycler>=0.10 in ./anaconda3/lib/python3.11/site-packages (from matplotlib->GNNSubNet) (0.11.0)\n",
      "Requirement already satisfied: fonttools>=4.22.0 in ./anaconda3/lib/python3.11/site-packages (from matplotlib->GNNSubNet) (4.25.0)\n",
      "Requirement already satisfied: kiwisolver>=1.3.1 in ./anaconda3/lib/python3.11/site-packages (from matplotlib->GNNSubNet) (1.4.4)\n",
      "Requirement already satisfied: packaging>=20.0 in ./anaconda3/lib/python3.11/site-packages (from matplotlib->GNNSubNet) (23.1)\n",
      "Requirement already satisfied: pillow>=8 in ./anaconda3/lib/python3.11/site-packages (from matplotlib->GNNSubNet) (9.4.0)\n",
      "Requirement already satisfied: pyparsing>=2.3.1 in ./anaconda3/lib/python3.11/site-packages (from matplotlib->GNNSubNet) (3.0.9)\n",
      "Requirement already satisfied: python-dateutil>=2.7 in ./anaconda3/lib/python3.11/site-packages (from matplotlib->GNNSubNet) (2.8.2)\n",
      "Requirement already satisfied: pytz>=2020.1 in ./anaconda3/lib/python3.11/site-packages (from pandas->GNNSubNet) (2023.3.post1)\n",
      "Requirement already satisfied: tzdata>=2022.7 in ./anaconda3/lib/python3.11/site-packages (from pandas->GNNSubNet) (2023.3)\n",
      "Requirement already satisfied: joblib>=1.2.0 in ./anaconda3/lib/python3.11/site-packages (from scikit-learn->GNNSubNet) (1.2.0)\n",
      "Requirement already satisfied: threadpoolctl>=2.0.0 in ./anaconda3/lib/python3.11/site-packages (from scikit-learn->GNNSubNet) (2.2.0)\n",
      "Requirement already satisfied: filelock in ./anaconda3/lib/python3.11/site-packages (from torch->GNNSubNet) (3.9.0)\n",
      "Requirement already satisfied: typing-extensions>=4.8.0 in ./anaconda3/lib/python3.11/site-packages (from torch->GNNSubNet) (4.9.0)\n",
      "Requirement already satisfied: sympy in ./anaconda3/lib/python3.11/site-packages (from torch->GNNSubNet) (1.11.1)\n",
      "Requirement already satisfied: jinja2 in ./anaconda3/lib/python3.11/site-packages (from torch->GNNSubNet) (3.1.2)\n",
      "Requirement already satisfied: fsspec in ./anaconda3/lib/python3.11/site-packages (from torch->GNNSubNet) (2023.4.0)\n",
      "Requirement already satisfied: aiohttp in ./anaconda3/lib/python3.11/site-packages (from torch-geometric->GNNSubNet) (3.8.5)\n",
      "Requirement already satisfied: six>=1.5 in ./anaconda3/lib/python3.11/site-packages (from python-dateutil>=2.7->matplotlib->GNNSubNet) (1.16.0)\n",
      "Requirement already satisfied: attrs>=17.3.0 in ./anaconda3/lib/python3.11/site-packages (from aiohttp->torch-geometric->GNNSubNet) (22.1.0)\n",
      "Requirement already satisfied: multidict<7.0,>=4.5 in ./anaconda3/lib/python3.11/site-packages (from aiohttp->torch-geometric->GNNSubNet) (6.0.2)\n",
      "Requirement already satisfied: async-timeout<5.0,>=4.0.0a3 in ./anaconda3/lib/python3.11/site-packages (from aiohttp->torch-geometric->GNNSubNet) (4.0.2)\n",
      "Requirement already satisfied: yarl<2.0,>=1.0 in ./anaconda3/lib/python3.11/site-packages (from aiohttp->torch-geometric->GNNSubNet) (1.8.1)\n",
      "Requirement already satisfied: frozenlist>=1.1.1 in ./anaconda3/lib/python3.11/site-packages (from aiohttp->torch-geometric->GNNSubNet) (1.3.3)\n",
      "Requirement already satisfied: aiosignal>=1.1.2 in ./anaconda3/lib/python3.11/site-packages (from aiohttp->torch-geometric->GNNSubNet) (1.2.0)\n",
      "Requirement already satisfied: MarkupSafe>=2.0 in ./anaconda3/lib/python3.11/site-packages (from jinja2->torch->GNNSubNet) (2.1.1)\n",
      "Requirement already satisfied: mpmath>=0.19 in ./anaconda3/lib/python3.11/site-packages (from sympy->torch->GNNSubNet) (1.3.0)\n"
     ]
    }
   ],
   "source": [
    "!pip install GNNSubNet"
   ]
  },
  {
   "cell_type": "code",
   "execution_count": 2,
   "id": "db3744f1-bf66-4fc8-8477-bb8d50327d7e",
   "metadata": {
    "tags": []
   },
   "outputs": [
    {
     "name": "stderr",
     "output_type": "stream",
     "text": [
      "/Users/jasonliu/anaconda3/lib/python3.11/site-packages/torch_geometric/typing.py:72: UserWarning: An issue occurred while importing 'torch-scatter'. Disabling its usage. Stacktrace: dlopen(/Users/jasonliu/anaconda3/lib/python3.11/site-packages/torch_scatter/_version_cpu.so, 0x0006): Symbol not found: __ZN3c1017RegisterOperatorsD1Ev\n",
      "  Referenced from: <6A7FD81D-C165-3B48-BBD3-EAC4FC9B36DD> /Users/jasonliu/anaconda3/lib/python3.11/site-packages/torch_scatter/_version_cpu.so\n",
      "  Expected in:     <ED5B7495-D9A3-3875-A01B-C86976E4F5BB> /Users/jasonliu/anaconda3/lib/python3.11/site-packages/torch/lib/libtorch_cpu.dylib\n",
      "  warnings.warn(f\"An issue occurred while importing 'torch-scatter'. \"\n",
      "/Users/jasonliu/anaconda3/lib/python3.11/site-packages/torch_geometric/typing.py:110: UserWarning: An issue occurred while importing 'torch-sparse'. Disabling its usage. Stacktrace: dlopen(/Users/jasonliu/anaconda3/lib/python3.11/site-packages/torch_sparse/_convert_cpu.so, 0x0006): Symbol not found: __ZN2at8internal15invoke_parallelExxxRKNSt3__18functionIFvxxEEE\n",
      "  Referenced from: <2233A9B5-6795-37E7-91E9-A254735A1B30> /Users/jasonliu/anaconda3/lib/python3.11/site-packages/torch_sparse/_convert_cpu.so\n",
      "  Expected in:     <ED5B7495-D9A3-3875-A01B-C86976E4F5BB> /Users/jasonliu/anaconda3/lib/python3.11/site-packages/torch/lib/libtorch_cpu.dylib\n",
      "  warnings.warn(f\"An issue occurred while importing 'torch-sparse'. \"\n",
      "2024-04-21 21:14:15.441974: I tensorflow/core/platform/cpu_feature_guard.cc:210] This TensorFlow binary is optimized to use available CPU instructions in performance-critical operations.\n",
      "To enable the following instructions: AVX2 FMA, in other operations, rebuild TensorFlow with the appropriate compiler flags.\n"
     ]
    }
   ],
   "source": [
    "from GNNSubNet import GNNSubNet as gnn"
   ]
  },
  {
   "cell_type": "code",
   "execution_count": 3,
   "id": "d1c3b08c-9981-445a-b552-73fbd3352f5c",
   "metadata": {
    "tags": []
   },
   "outputs": [
    {
     "name": "stdout",
     "output_type": "stream",
     "text": [
      "Graph is connected  False\n",
      "Calculate subgraph ...\n",
      "Number of subgraphs:  118\n",
      "Size of subgraph:  2049\n",
      "Graph is connected  True\n",
      "##################\n",
      "# DATASET LOADED #\n",
      "##################\n",
      "chebconv for training ...\n",
      "Graphs class 0: 200, Graphs class 1: 306\n",
      "Length of balanced dataset list: 400\n",
      "Train graph class 0: 164, train graph class 1: 156\n",
      "Validation graph class 0: 36, validation graph class 1: 44\n"
     ]
    },
    {
     "name": "stderr",
     "output_type": "stream",
     "text": [
      "100%|██████████| 35/35 [00:04<00:00,  7.69batch/s]\n"
     ]
    },
    {
     "name": "stdout",
     "output_type": "stream",
     "text": [
      "Epoch 0, loss 0.7743\n",
      "Train Acc 0.8500\n",
      "Epoch 0, val_loss 0.4818\n",
      "Saving best model with validation loss 0.48183661699295044\n"
     ]
    },
    {
     "name": "stderr",
     "output_type": "stream",
     "text": [
      "100%|██████████| 35/35 [00:04<00:00,  8.60batch/s]\n"
     ]
    },
    {
     "name": "stdout",
     "output_type": "stream",
     "text": [
      "Epoch 1, loss 0.4349\n",
      "Train Acc 0.8500\n",
      "Epoch 1, val_loss 0.4201\n",
      "Saving best model with validation loss 0.42009061574935913\n"
     ]
    },
    {
     "name": "stderr",
     "output_type": "stream",
     "text": [
      "100%|██████████| 35/35 [00:04<00:00,  7.24batch/s]\n"
     ]
    },
    {
     "name": "stdout",
     "output_type": "stream",
     "text": [
      "Epoch 2, loss 0.3780\n",
      "Train Acc 0.8625\n",
      "Epoch 2, val_loss 0.3419\n",
      "Saving best model with validation loss 0.3418591618537903\n"
     ]
    },
    {
     "name": "stderr",
     "output_type": "stream",
     "text": [
      "100%|██████████| 35/35 [00:04<00:00,  7.63batch/s]\n"
     ]
    },
    {
     "name": "stdout",
     "output_type": "stream",
     "text": [
      "Epoch 3, loss 0.3672\n",
      "Train Acc 0.8531\n",
      "Epoch 3, val_loss 0.4084\n"
     ]
    },
    {
     "name": "stderr",
     "output_type": "stream",
     "text": [
      "100%|██████████| 35/35 [00:04<00:00,  7.54batch/s]\n"
     ]
    },
    {
     "name": "stdout",
     "output_type": "stream",
     "text": [
      "Epoch 4, loss 0.3739\n",
      "Train Acc 0.8625\n",
      "Epoch 4, val_loss 0.3246\n",
      "Saving best model with validation loss 0.32464534044265747\n"
     ]
    },
    {
     "name": "stderr",
     "output_type": "stream",
     "text": [
      "100%|██████████| 35/35 [00:04<00:00,  7.67batch/s]\n"
     ]
    },
    {
     "name": "stdout",
     "output_type": "stream",
     "text": [
      "Epoch 5, loss 0.3516\n",
      "Train Acc 0.8594\n",
      "Epoch 5, val_loss 0.3564\n"
     ]
    },
    {
     "name": "stderr",
     "output_type": "stream",
     "text": [
      "100%|██████████| 35/35 [00:04<00:00,  8.03batch/s]\n"
     ]
    },
    {
     "name": "stdout",
     "output_type": "stream",
     "text": [
      "Epoch 6, loss 0.3358\n",
      "Train Acc 0.8562\n",
      "Epoch 6, val_loss 0.3570\n"
     ]
    },
    {
     "name": "stderr",
     "output_type": "stream",
     "text": [
      "100%|██████████| 35/35 [00:04<00:00,  7.83batch/s]\n"
     ]
    },
    {
     "name": "stdout",
     "output_type": "stream",
     "text": [
      "Epoch 7, loss 0.3685\n",
      "Train Acc 0.8594\n",
      "Epoch 7, val_loss 0.3322\n"
     ]
    },
    {
     "name": "stderr",
     "output_type": "stream",
     "text": [
      "100%|██████████| 35/35 [00:04<00:00,  7.58batch/s]\n"
     ]
    },
    {
     "name": "stdout",
     "output_type": "stream",
     "text": [
      "Epoch 8, loss 0.3530\n",
      "Train Acc 0.8594\n",
      "Epoch 8, val_loss 0.3593\n"
     ]
    },
    {
     "name": "stderr",
     "output_type": "stream",
     "text": [
      "100%|██████████| 35/35 [00:04<00:00,  8.14batch/s]\n"
     ]
    },
    {
     "name": "stdout",
     "output_type": "stream",
     "text": [
      "Epoch 9, loss 0.3807\n",
      "Train Acc 0.8594\n",
      "Epoch 9, val_loss 0.3375\n"
     ]
    },
    {
     "name": "stderr",
     "output_type": "stream",
     "text": [
      "100%|██████████| 35/35 [00:05<00:00,  6.51batch/s]\n"
     ]
    },
    {
     "name": "stdout",
     "output_type": "stream",
     "text": [
      "Epoch 10, loss 0.3566\n",
      "Train Acc 0.8562\n",
      "Epoch 10, val_loss 0.3703\n"
     ]
    },
    {
     "name": "stderr",
     "output_type": "stream",
     "text": [
      "100%|██████████| 35/35 [00:05<00:00,  6.60batch/s]\n"
     ]
    },
    {
     "name": "stdout",
     "output_type": "stream",
     "text": [
      "Epoch 11, loss 0.3513\n",
      "Train Acc 0.8562\n",
      "Epoch 11, val_loss 0.3616\n",
      "Early stopping!\n",
      "\n",
      "Confusion matrix (Validation set):\n",
      "\n",
      "[[29  7]\n",
      " [ 1 43]]\n",
      "Validation accuracy: 0.8914141414141414\n"
     ]
    }
   ],
   "source": [
    "# location of the files\n",
    "loc   = \"/Users/jasonliu/GNN-SubNet/TCGA\"\n",
    "# PPI network\n",
    "ppi   = f'{loc}/KIDNEY_RANDOM_PPI.txt'\n",
    "# single-omic features\n",
    "#feats = [f'{loc}/KIDNEY_RANDOM_Methy_FEATURES.txt']\n",
    "# multi-omic features\n",
    "feats = [f'{loc}/KIDNEY_RANDOM_mRNA_FEATURES.txt', f'{loc}/KIDNEY_RANDOM_Methy_FEATURES.txt']\n",
    "# outcome class\n",
    "targ  = f'{loc}/KIDNEY_RANDOM_TARGET.txt'\n",
    "\n",
    "# Load the multi-omics data \n",
    "g = gnn.GNNSubNet(loc, ppi, feats, targ, random_seed=42)\n",
    "\n",
    "# Train the GNN classifier and validate performance on a test set with Attention mechanism\n",
    "g.train(method=\"chebconv\", use_attention=True)"
   ]
  },
  {
   "cell_type": "code",
   "execution_count": 5,
   "id": "1049f56c-67ff-46a4-95ab-ee59aa0cc7c3",
   "metadata": {
    "tags": []
   },
   "outputs": [
    {
     "name": "stdout",
     "output_type": "stream",
     "text": [
      "Graph is connected  False\n",
      "Calculate subgraph ...\n",
      "Number of subgraphs:  118\n",
      "Size of subgraph:  2049\n",
      "Graph is connected  True\n",
      "##################\n",
      "# DATASET LOADED #\n",
      "##################\n",
      "chebconv for training ...\n",
      "Graphs class 0: 200, Graphs class 1: 306\n",
      "Length of balanced dataset list: 400\n",
      "Train graph class 0: 164, train graph class 1: 156\n",
      "Validation graph class 0: 36, validation graph class 1: 44\n"
     ]
    },
    {
     "name": "stderr",
     "output_type": "stream",
     "text": [
      "100%|██████████| 35/35 [00:04<00:00,  7.82batch/s]\n"
     ]
    },
    {
     "name": "stdout",
     "output_type": "stream",
     "text": [
      "Epoch 0, loss 0.7337\n",
      "Train Acc 0.7969\n",
      "Epoch 0, val_loss 0.5453\n",
      "Saving best model with validation loss 0.5452739000320435\n"
     ]
    },
    {
     "name": "stderr",
     "output_type": "stream",
     "text": [
      "100%|██████████| 35/35 [00:05<00:00,  6.63batch/s]\n"
     ]
    },
    {
     "name": "stdout",
     "output_type": "stream",
     "text": [
      "Epoch 1, loss 0.5096\n",
      "Train Acc 0.8500\n",
      "Epoch 1, val_loss 0.4409\n",
      "Saving best model with validation loss 0.4408816695213318\n"
     ]
    },
    {
     "name": "stderr",
     "output_type": "stream",
     "text": [
      "100%|██████████| 35/35 [00:04<00:00,  8.05batch/s]\n"
     ]
    },
    {
     "name": "stdout",
     "output_type": "stream",
     "text": [
      "Epoch 2, loss 0.4717\n",
      "Train Acc 0.8375\n",
      "Epoch 2, val_loss 0.4008\n",
      "Saving best model with validation loss 0.40079265832901\n"
     ]
    },
    {
     "name": "stderr",
     "output_type": "stream",
     "text": [
      "100%|██████████| 35/35 [00:04<00:00,  7.34batch/s]\n"
     ]
    },
    {
     "name": "stdout",
     "output_type": "stream",
     "text": [
      "Epoch 3, loss 0.4212\n",
      "Train Acc 0.8219\n",
      "Epoch 3, val_loss 0.4049\n"
     ]
    },
    {
     "name": "stderr",
     "output_type": "stream",
     "text": [
      "100%|██████████| 35/35 [00:04<00:00,  7.86batch/s]\n"
     ]
    },
    {
     "name": "stdout",
     "output_type": "stream",
     "text": [
      "Epoch 4, loss 0.4320\n",
      "Train Acc 0.8531\n",
      "Epoch 4, val_loss 0.3607\n",
      "Saving best model with validation loss 0.3606851398944855\n"
     ]
    },
    {
     "name": "stderr",
     "output_type": "stream",
     "text": [
      "100%|██████████| 35/35 [00:05<00:00,  6.96batch/s]\n"
     ]
    },
    {
     "name": "stdout",
     "output_type": "stream",
     "text": [
      "Epoch 5, loss 0.4094\n",
      "Train Acc 0.8094\n",
      "Epoch 5, val_loss 0.3906\n"
     ]
    },
    {
     "name": "stderr",
     "output_type": "stream",
     "text": [
      "100%|██████████| 35/35 [00:04<00:00,  7.91batch/s]\n"
     ]
    },
    {
     "name": "stdout",
     "output_type": "stream",
     "text": [
      "Epoch 6, loss 0.4209\n",
      "Train Acc 0.7500\n",
      "Epoch 6, val_loss 0.4587\n"
     ]
    },
    {
     "name": "stderr",
     "output_type": "stream",
     "text": [
      "100%|██████████| 35/35 [00:04<00:00,  7.13batch/s]\n"
     ]
    },
    {
     "name": "stdout",
     "output_type": "stream",
     "text": [
      "Epoch 7, loss 0.4589\n",
      "Train Acc 0.8469\n",
      "Epoch 7, val_loss 0.3262\n",
      "Saving best model with validation loss 0.32617801427841187\n"
     ]
    },
    {
     "name": "stderr",
     "output_type": "stream",
     "text": [
      "100%|██████████| 35/35 [00:04<00:00,  7.56batch/s]\n"
     ]
    },
    {
     "name": "stdout",
     "output_type": "stream",
     "text": [
      "Epoch 8, loss 0.4094\n",
      "Train Acc 0.8438\n",
      "Epoch 8, val_loss 0.3421\n"
     ]
    },
    {
     "name": "stderr",
     "output_type": "stream",
     "text": [
      "100%|██████████| 35/35 [00:05<00:00,  6.96batch/s]\n"
     ]
    },
    {
     "name": "stdout",
     "output_type": "stream",
     "text": [
      "Epoch 9, loss 0.4033\n",
      "Train Acc 0.8594\n",
      "Epoch 9, val_loss 0.3139\n",
      "Saving best model with validation loss 0.3139348030090332\n"
     ]
    },
    {
     "name": "stderr",
     "output_type": "stream",
     "text": [
      "100%|██████████| 35/35 [00:04<00:00,  7.40batch/s]\n"
     ]
    },
    {
     "name": "stdout",
     "output_type": "stream",
     "text": [
      "Epoch 10, loss 0.4078\n",
      "Train Acc 0.8125\n",
      "Epoch 10, val_loss 0.3539\n"
     ]
    },
    {
     "name": "stderr",
     "output_type": "stream",
     "text": [
      "100%|██████████| 35/35 [00:04<00:00,  8.19batch/s]\n"
     ]
    },
    {
     "name": "stdout",
     "output_type": "stream",
     "text": [
      "Epoch 11, loss 0.4003\n",
      "Train Acc 0.8531\n",
      "Epoch 11, val_loss 0.3219\n"
     ]
    },
    {
     "name": "stderr",
     "output_type": "stream",
     "text": [
      "100%|██████████| 35/35 [00:04<00:00,  7.38batch/s]\n"
     ]
    },
    {
     "name": "stdout",
     "output_type": "stream",
     "text": [
      "Epoch 12, loss 0.3385\n",
      "Train Acc 0.8500\n",
      "Epoch 12, val_loss 0.3253\n"
     ]
    },
    {
     "name": "stderr",
     "output_type": "stream",
     "text": [
      "100%|██████████| 35/35 [00:04<00:00,  7.93batch/s]\n"
     ]
    },
    {
     "name": "stdout",
     "output_type": "stream",
     "text": [
      "Epoch 13, loss 0.3692\n",
      "Train Acc 0.8531\n",
      "Epoch 13, val_loss 0.3060\n",
      "Saving best model with validation loss 0.3059893250465393\n"
     ]
    },
    {
     "name": "stderr",
     "output_type": "stream",
     "text": [
      "100%|██████████| 35/35 [00:04<00:00,  7.91batch/s]\n"
     ]
    },
    {
     "name": "stdout",
     "output_type": "stream",
     "text": [
      "Epoch 14, loss 0.4050\n",
      "Train Acc 0.8094\n",
      "Epoch 14, val_loss 0.3801\n"
     ]
    },
    {
     "name": "stderr",
     "output_type": "stream",
     "text": [
      "100%|██████████| 35/35 [00:04<00:00,  7.28batch/s]\n"
     ]
    },
    {
     "name": "stdout",
     "output_type": "stream",
     "text": [
      "Epoch 15, loss 0.3804\n",
      "Train Acc 0.8594\n",
      "Epoch 15, val_loss 0.3141\n"
     ]
    },
    {
     "name": "stderr",
     "output_type": "stream",
     "text": [
      "100%|██████████| 35/35 [00:04<00:00,  8.29batch/s]\n"
     ]
    },
    {
     "name": "stdout",
     "output_type": "stream",
     "text": [
      "Epoch 16, loss 0.3745\n",
      "Train Acc 0.8562\n",
      "Epoch 16, val_loss 0.3097\n"
     ]
    },
    {
     "name": "stderr",
     "output_type": "stream",
     "text": [
      "100%|██████████| 35/35 [00:04<00:00,  7.65batch/s]\n"
     ]
    },
    {
     "name": "stdout",
     "output_type": "stream",
     "text": [
      "Epoch 17, loss 0.4083\n",
      "Train Acc 0.8031\n",
      "Epoch 17, val_loss 0.3970\n"
     ]
    },
    {
     "name": "stderr",
     "output_type": "stream",
     "text": [
      "100%|██████████| 35/35 [00:04<00:00,  7.75batch/s]\n"
     ]
    },
    {
     "name": "stdout",
     "output_type": "stream",
     "text": [
      "Epoch 18, loss 0.3709\n",
      "Train Acc 0.7625\n",
      "Epoch 18, val_loss 0.4355\n"
     ]
    },
    {
     "name": "stderr",
     "output_type": "stream",
     "text": [
      "100%|██████████| 35/35 [00:04<00:00,  8.17batch/s]\n"
     ]
    },
    {
     "name": "stdout",
     "output_type": "stream",
     "text": [
      "Epoch 19, loss 0.3956\n",
      "Train Acc 0.8469\n",
      "Epoch 19, val_loss 0.3192\n",
      "\n",
      "Confusion matrix (Validation set):\n",
      "\n",
      "[[29  7]\n",
      " [ 2 42]]\n",
      "Validation accuracy: 0.8800505050505051\n"
     ]
    }
   ],
   "source": [
    "# location of the files\n",
    "loc   = \"/Users/jasonliu/GNN-SubNet/TCGA\"\n",
    "# PPI network\n",
    "ppi   = f'{loc}/KIDNEY_RANDOM_PPI.txt'\n",
    "# single-omic features\n",
    "#feats = [f'{loc}/KIDNEY_RANDOM_Methy_FEATURES.txt']\n",
    "# multi-omic features\n",
    "feats = [f'{loc}/KIDNEY_RANDOM_mRNA_FEATURES.txt', f'{loc}/KIDNEY_RANDOM_Methy_FEATURES.txt']\n",
    "# outcome class\n",
    "targ  = f'{loc}/KIDNEY_RANDOM_TARGET.txt'\n",
    "\n",
    "# Load the multi-omics data \n",
    "g = gnn.GNNSubNet(loc, ppi, feats, targ, random_seed=42)\n",
    "\n",
    "# Train the GNN classifier and validate performance on a test set without Attention mechanism\n",
    "g.train(method=\"chebconv\", use_attention=False)"
   ]
  },
  {
   "cell_type": "code",
   "execution_count": 12,
   "id": "c7147488-0485-40f5-bd80-269d5e7d152c",
   "metadata": {
    "tags": []
   },
   "outputs": [
    {
     "name": "stdout",
     "output_type": "stream",
     "text": [
      "Graph is connected  False\n",
      "Calculate subgraph ...\n",
      "Number of subgraphs:  118\n",
      "Size of subgraph:  2049\n",
      "Graph is connected  True\n",
      "##################\n",
      "# DATASET LOADED #\n",
      "##################\n",
      "graphcnn for training ...\n",
      "Graphs class 0: 200, Graphs class 1: 306\n",
      "Length of balanced dataset list: 400\n",
      "Train graph class 0: 164, train graph class 1: 156\n",
      "Validation graph class 0: 36, validation graph class 1: 44\n"
     ]
    },
    {
     "name": "stderr",
     "output_type": "stream",
     "text": [
      "100%|██████████| 35/35 [00:07<00:00,  4.90batch/s]\n"
     ]
    },
    {
     "name": "stdout",
     "output_type": "stream",
     "text": [
      "Epoch 0, loss 284.8815\n",
      "Train Acc 0.5594\n",
      "Epoch 0, val_loss 43.8866\n",
      "Saving best model with validation loss 43.886558532714844\n"
     ]
    },
    {
     "name": "stderr",
     "output_type": "stream",
     "text": [
      "100%|██████████| 35/35 [00:06<00:00,  5.14batch/s]\n"
     ]
    },
    {
     "name": "stdout",
     "output_type": "stream",
     "text": [
      "Epoch 1, loss 39.9749\n",
      "Train Acc 0.6000\n",
      "Epoch 1, val_loss 8.9024\n",
      "Saving best model with validation loss 8.902383804321289\n"
     ]
    },
    {
     "name": "stderr",
     "output_type": "stream",
     "text": [
      "100%|██████████| 35/35 [00:07<00:00,  4.78batch/s]\n"
     ]
    },
    {
     "name": "stdout",
     "output_type": "stream",
     "text": [
      "Epoch 2, loss 19.8024\n",
      "Train Acc 0.7375\n",
      "Epoch 2, val_loss 5.0452\n",
      "Saving best model with validation loss 5.045224189758301\n"
     ]
    },
    {
     "name": "stderr",
     "output_type": "stream",
     "text": [
      "100%|██████████| 35/35 [00:08<00:00,  4.31batch/s]\n"
     ]
    },
    {
     "name": "stdout",
     "output_type": "stream",
     "text": [
      "Epoch 3, loss 10.8222\n",
      "Train Acc 0.5844\n",
      "Epoch 3, val_loss 13.2687\n"
     ]
    },
    {
     "name": "stderr",
     "output_type": "stream",
     "text": [
      "100%|██████████| 35/35 [00:07<00:00,  4.59batch/s]\n"
     ]
    },
    {
     "name": "stdout",
     "output_type": "stream",
     "text": [
      "Epoch 4, loss 11.6602\n",
      "Train Acc 0.7719\n",
      "Epoch 4, val_loss 1.7409\n",
      "Saving best model with validation loss 1.7408647537231445\n"
     ]
    },
    {
     "name": "stderr",
     "output_type": "stream",
     "text": [
      "100%|██████████| 35/35 [00:05<00:00,  6.41batch/s]\n"
     ]
    },
    {
     "name": "stdout",
     "output_type": "stream",
     "text": [
      "Epoch 5, loss 9.0355\n",
      "Train Acc 0.7500\n",
      "Epoch 5, val_loss 2.7577\n"
     ]
    },
    {
     "name": "stderr",
     "output_type": "stream",
     "text": [
      "100%|██████████| 35/35 [00:06<00:00,  5.21batch/s]\n"
     ]
    },
    {
     "name": "stdout",
     "output_type": "stream",
     "text": [
      "Epoch 6, loss 8.3776\n",
      "Train Acc 0.7812\n",
      "Epoch 6, val_loss 3.4126\n"
     ]
    },
    {
     "name": "stderr",
     "output_type": "stream",
     "text": [
      "100%|██████████| 35/35 [00:06<00:00,  5.10batch/s]\n"
     ]
    },
    {
     "name": "stdout",
     "output_type": "stream",
     "text": [
      "Epoch 7, loss 8.5368\n",
      "Train Acc 0.5344\n",
      "Epoch 7, val_loss 10.8613\n"
     ]
    },
    {
     "name": "stderr",
     "output_type": "stream",
     "text": [
      "100%|██████████| 35/35 [00:06<00:00,  5.26batch/s]\n"
     ]
    },
    {
     "name": "stdout",
     "output_type": "stream",
     "text": [
      "Epoch 8, loss 8.3256\n",
      "Train Acc 0.5375\n",
      "Epoch 8, val_loss 7.7869\n"
     ]
    },
    {
     "name": "stderr",
     "output_type": "stream",
     "text": [
      "100%|██████████| 35/35 [00:07<00:00,  4.93batch/s]\n"
     ]
    },
    {
     "name": "stdout",
     "output_type": "stream",
     "text": [
      "Epoch 9, loss 8.4197\n",
      "Train Acc 0.7969\n",
      "Epoch 9, val_loss 2.7561\n"
     ]
    },
    {
     "name": "stderr",
     "output_type": "stream",
     "text": [
      "100%|██████████| 35/35 [00:06<00:00,  5.33batch/s]\n"
     ]
    },
    {
     "name": "stdout",
     "output_type": "stream",
     "text": [
      "Epoch 10, loss 7.5629\n",
      "Train Acc 0.6250\n",
      "Epoch 10, val_loss 3.1808\n"
     ]
    },
    {
     "name": "stderr",
     "output_type": "stream",
     "text": [
      "100%|██████████| 35/35 [00:08<00:00,  4.15batch/s]\n"
     ]
    },
    {
     "name": "stdout",
     "output_type": "stream",
     "text": [
      "Epoch 11, loss 9.5964\n",
      "Train Acc 0.4969\n",
      "Epoch 11, val_loss 16.7442\n"
     ]
    },
    {
     "name": "stderr",
     "output_type": "stream",
     "text": [
      "100%|██████████| 35/35 [00:07<00:00,  4.70batch/s]\n"
     ]
    },
    {
     "name": "stdout",
     "output_type": "stream",
     "text": [
      "Epoch 12, loss 8.2351\n",
      "Train Acc 0.5719\n",
      "Epoch 12, val_loss 6.4767\n"
     ]
    },
    {
     "name": "stderr",
     "output_type": "stream",
     "text": [
      "100%|██████████| 35/35 [00:08<00:00,  4.34batch/s]\n"
     ]
    },
    {
     "name": "stdout",
     "output_type": "stream",
     "text": [
      "Epoch 13, loss 5.9295\n",
      "Train Acc 0.7469\n",
      "Epoch 13, val_loss 2.0352\n"
     ]
    },
    {
     "name": "stderr",
     "output_type": "stream",
     "text": [
      "100%|██████████| 35/35 [00:08<00:00,  4.30batch/s]\n"
     ]
    },
    {
     "name": "stdout",
     "output_type": "stream",
     "text": [
      "Epoch 14, loss 6.1412\n",
      "Train Acc 0.5281\n",
      "Epoch 14, val_loss 7.4937\n",
      "Early stopping!\n",
      "\n",
      "Confusion matrix (Validation set):\n",
      "\n",
      "[[27  9]\n",
      " [ 5 39]]\n",
      "Validation accuracy: 82.5%\n",
      "Validation loss 1.7408647537231445\n"
     ]
    }
   ],
   "source": [
    "g = gnn.GNNSubNet(loc, ppi, feats, targ, random_seed=42)\n",
    "g.train(use_attention=True)"
   ]
  },
  {
   "cell_type": "code",
   "execution_count": 13,
   "id": "3d74ddf8-0364-443d-86ec-04206f92162a",
   "metadata": {},
   "outputs": [
    {
     "name": "stdout",
     "output_type": "stream",
     "text": [
      "Graph is connected  False\n",
      "Calculate subgraph ...\n",
      "Number of subgraphs:  118\n",
      "Size of subgraph:  2049\n",
      "Graph is connected  True\n",
      "##################\n",
      "# DATASET LOADED #\n",
      "##################\n",
      "graphcnn for training ...\n",
      "Graphs class 0: 200, Graphs class 1: 306\n",
      "Length of balanced dataset list: 400\n",
      "Train graph class 0: 164, train graph class 1: 156\n",
      "Validation graph class 0: 36, validation graph class 1: 44\n"
     ]
    },
    {
     "name": "stderr",
     "output_type": "stream",
     "text": [
      "100%|██████████| 35/35 [00:08<00:00,  4.36batch/s]\n"
     ]
    },
    {
     "name": "stdout",
     "output_type": "stream",
     "text": [
      "Epoch 0, loss 140.8685\n",
      "Train Acc 0.5250\n",
      "Epoch 0, val_loss 33.5041\n",
      "Saving best model with validation loss 33.50408935546875\n"
     ]
    },
    {
     "name": "stderr",
     "output_type": "stream",
     "text": [
      "100%|██████████| 35/35 [00:07<00:00,  5.00batch/s]\n"
     ]
    },
    {
     "name": "stdout",
     "output_type": "stream",
     "text": [
      "Epoch 1, loss 22.0494\n",
      "Train Acc 0.6406\n",
      "Epoch 1, val_loss 9.3267\n",
      "Saving best model with validation loss 9.326658248901367\n"
     ]
    },
    {
     "name": "stderr",
     "output_type": "stream",
     "text": [
      "100%|██████████| 35/35 [00:07<00:00,  4.63batch/s]\n"
     ]
    },
    {
     "name": "stdout",
     "output_type": "stream",
     "text": [
      "Epoch 2, loss 13.1591\n",
      "Train Acc 0.6500\n",
      "Epoch 2, val_loss 8.3888\n",
      "Saving best model with validation loss 8.388833999633789\n"
     ]
    },
    {
     "name": "stderr",
     "output_type": "stream",
     "text": [
      "100%|██████████| 35/35 [00:08<00:00,  4.27batch/s]\n"
     ]
    },
    {
     "name": "stdout",
     "output_type": "stream",
     "text": [
      "Epoch 3, loss 20.2808\n",
      "Train Acc 0.4969\n",
      "Epoch 3, val_loss 35.8529\n"
     ]
    },
    {
     "name": "stderr",
     "output_type": "stream",
     "text": [
      "100%|██████████| 35/35 [00:05<00:00,  6.19batch/s]\n"
     ]
    },
    {
     "name": "stdout",
     "output_type": "stream",
     "text": [
      "Epoch 4, loss 13.3506\n",
      "Train Acc 0.6469\n",
      "Epoch 4, val_loss 3.4794\n",
      "Saving best model with validation loss 3.4794325828552246\n"
     ]
    },
    {
     "name": "stderr",
     "output_type": "stream",
     "text": [
      "100%|██████████| 35/35 [00:06<00:00,  5.09batch/s]\n"
     ]
    },
    {
     "name": "stdout",
     "output_type": "stream",
     "text": [
      "Epoch 5, loss 9.3150\n",
      "Train Acc 0.7188\n",
      "Epoch 5, val_loss 5.0889\n"
     ]
    },
    {
     "name": "stderr",
     "output_type": "stream",
     "text": [
      "100%|██████████| 35/35 [00:07<00:00,  4.72batch/s]\n"
     ]
    },
    {
     "name": "stdout",
     "output_type": "stream",
     "text": [
      "Epoch 6, loss 14.6775\n",
      "Train Acc 0.5125\n",
      "Epoch 6, val_loss 21.0609\n"
     ]
    },
    {
     "name": "stderr",
     "output_type": "stream",
     "text": [
      "100%|██████████| 35/35 [00:06<00:00,  5.01batch/s]\n"
     ]
    },
    {
     "name": "stdout",
     "output_type": "stream",
     "text": [
      "Epoch 7, loss 16.2584\n",
      "Train Acc 0.6625\n",
      "Epoch 7, val_loss 5.2959\n"
     ]
    },
    {
     "name": "stderr",
     "output_type": "stream",
     "text": [
      "100%|██████████| 35/35 [00:06<00:00,  5.03batch/s]\n"
     ]
    },
    {
     "name": "stdout",
     "output_type": "stream",
     "text": [
      "Epoch 8, loss 7.6496\n",
      "Train Acc 0.7156\n",
      "Epoch 8, val_loss 6.3138\n"
     ]
    },
    {
     "name": "stderr",
     "output_type": "stream",
     "text": [
      "100%|██████████| 35/35 [00:05<00:00,  6.13batch/s]\n"
     ]
    },
    {
     "name": "stdout",
     "output_type": "stream",
     "text": [
      "Epoch 9, loss 7.2334\n",
      "Train Acc 0.6937\n",
      "Epoch 9, val_loss 2.9027\n",
      "Saving best model with validation loss 2.902677059173584\n"
     ]
    },
    {
     "name": "stderr",
     "output_type": "stream",
     "text": [
      "100%|██████████| 35/35 [00:07<00:00,  4.90batch/s]\n"
     ]
    },
    {
     "name": "stdout",
     "output_type": "stream",
     "text": [
      "Epoch 10, loss 8.1216\n",
      "Train Acc 0.5594\n",
      "Epoch 10, val_loss 6.6015\n"
     ]
    },
    {
     "name": "stderr",
     "output_type": "stream",
     "text": [
      "100%|██████████| 35/35 [00:07<00:00,  4.64batch/s]\n"
     ]
    },
    {
     "name": "stdout",
     "output_type": "stream",
     "text": [
      "Epoch 11, loss 7.1952\n",
      "Train Acc 0.4969\n",
      "Epoch 11, val_loss 11.9375\n"
     ]
    },
    {
     "name": "stderr",
     "output_type": "stream",
     "text": [
      "100%|██████████| 35/35 [00:07<00:00,  4.74batch/s]\n"
     ]
    },
    {
     "name": "stdout",
     "output_type": "stream",
     "text": [
      "Epoch 12, loss 13.4326\n",
      "Train Acc 0.7719\n",
      "Epoch 12, val_loss 6.4630\n"
     ]
    },
    {
     "name": "stderr",
     "output_type": "stream",
     "text": [
      "100%|██████████| 35/35 [00:05<00:00,  6.32batch/s]\n"
     ]
    },
    {
     "name": "stdout",
     "output_type": "stream",
     "text": [
      "Epoch 13, loss 7.8921\n",
      "Train Acc 0.8156\n",
      "Epoch 13, val_loss 3.1155\n"
     ]
    },
    {
     "name": "stderr",
     "output_type": "stream",
     "text": [
      "100%|██████████| 35/35 [00:08<00:00,  4.36batch/s]\n"
     ]
    },
    {
     "name": "stdout",
     "output_type": "stream",
     "text": [
      "Epoch 14, loss 9.7094\n",
      "Train Acc 0.7937\n",
      "Epoch 14, val_loss 3.8874\n"
     ]
    },
    {
     "name": "stderr",
     "output_type": "stream",
     "text": [
      "100%|██████████| 35/35 [00:08<00:00,  3.95batch/s]\n"
     ]
    },
    {
     "name": "stdout",
     "output_type": "stream",
     "text": [
      "Epoch 15, loss 6.5926\n",
      "Train Acc 0.5125\n",
      "Epoch 15, val_loss 11.6206\n"
     ]
    },
    {
     "name": "stderr",
     "output_type": "stream",
     "text": [
      "100%|██████████| 35/35 [00:07<00:00,  4.65batch/s]\n"
     ]
    },
    {
     "name": "stdout",
     "output_type": "stream",
     "text": [
      "Epoch 16, loss 7.7771\n",
      "Train Acc 0.6625\n",
      "Epoch 16, val_loss 6.9179\n"
     ]
    },
    {
     "name": "stderr",
     "output_type": "stream",
     "text": [
      "100%|██████████| 35/35 [00:08<00:00,  4.07batch/s]\n"
     ]
    },
    {
     "name": "stdout",
     "output_type": "stream",
     "text": [
      "Epoch 17, loss 7.8343\n",
      "Train Acc 0.7906\n",
      "Epoch 17, val_loss 3.5560\n"
     ]
    },
    {
     "name": "stderr",
     "output_type": "stream",
     "text": [
      "100%|██████████| 35/35 [00:07<00:00,  4.99batch/s]\n"
     ]
    },
    {
     "name": "stdout",
     "output_type": "stream",
     "text": [
      "Epoch 18, loss 7.6551\n",
      "Train Acc 0.6531\n",
      "Epoch 18, val_loss 3.0711\n"
     ]
    },
    {
     "name": "stderr",
     "output_type": "stream",
     "text": [
      "100%|██████████| 35/35 [00:08<00:00,  4.13batch/s]\n"
     ]
    },
    {
     "name": "stdout",
     "output_type": "stream",
     "text": [
      "Epoch 19, loss 6.0224\n",
      "Train Acc 0.5844\n",
      "Epoch 19, val_loss 3.7417\n",
      "Early stopping!\n",
      "\n",
      "Confusion matrix (Validation set):\n",
      "\n",
      "[[29  7]\n",
      " [14 30]]\n",
      "Validation accuracy: 73.75%\n",
      "Validation loss 2.902677059173584\n"
     ]
    }
   ],
   "source": [
    "g = gnn.GNNSubNet(loc, ppi, feats, targ, random_seed=42)\n",
    "g.train(use_attention=False)"
   ]
  },
  {
   "cell_type": "code",
   "execution_count": null,
   "id": "c1f7f9aa-362e-40fd-8d73-798d90b80683",
   "metadata": {},
   "outputs": [],
   "source": []
  },
  {
   "cell_type": "code",
   "execution_count": null,
   "id": "6b0dfec1-21e1-4c6c-b77a-40dcdcee609d",
   "metadata": {},
   "outputs": [],
   "source": []
  }
 ],
 "metadata": {
  "kernelspec": {
   "display_name": "Python 3 (ipykernel)",
   "language": "python",
   "name": "python3"
  },
  "language_info": {
   "codemirror_mode": {
    "name": "ipython",
    "version": 3
   },
   "file_extension": ".py",
   "mimetype": "text/x-python",
   "name": "python",
   "nbconvert_exporter": "python",
   "pygments_lexer": "ipython3",
   "version": "3.11.5"
  }
 },
 "nbformat": 4,
 "nbformat_minor": 5
}
